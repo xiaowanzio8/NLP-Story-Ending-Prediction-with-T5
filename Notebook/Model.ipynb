{
  "nbformat": 4,
  "nbformat_minor": 0,
  "metadata": {
    "colab": {
      "name": "T5_try.ipynb",
      "provenance": [],
      "collapsed_sections": []
    },
    "kernelspec": {
      "display_name": "Python 3",
      "name": "python3"
    },
    "language_info": {
      "name": "python"
    },
    "accelerator": "GPU"
  },
  "cells": [
    {
      "cell_type": "markdown",
      "metadata": {
        "id": "v0fSF2wJ0n4Z"
      },
      "source": [
        "# **Mount Google Drive**"
      ]
    },
    {
      "cell_type": "code",
      "metadata": {
        "id": "5st_mcKoG4dv"
      },
      "source": [
        "from google.colab import drive\n",
        "drive.mount('/content/drive')"
      ],
      "execution_count": null,
      "outputs": []
    },
    {
      "cell_type": "code",
      "metadata": {
        "id": "njQy0NuAjQFg"
      },
      "source": [
        "!nvidia-smi"
      ],
      "execution_count": null,
      "outputs": []
    },
    {
      "cell_type": "markdown",
      "metadata": {
        "id": "G5iWhG_v0t8X"
      },
      "source": [
        "# **Package installation**"
      ]
    },
    {
      "cell_type": "code",
      "metadata": {
        "id": "l7wqQy-Ik1lZ"
      },
      "source": [
        "\n",
        "!pip install torch\n",
        "!pip install sklearn\n",
        "!pip install transformers\n",
        "!pip install rich[jupyter]\n",
        "!pip install pytorch_lightning"
      ],
      "execution_count": null,
      "outputs": []
    },
    {
      "cell_type": "code",
      "metadata": {
        "id": "laFwj75OktPr"
      },
      "source": [
        "import pandas as pd\n",
        "import numpy as np\n",
        "from sklearn.model_selection import train_test_split\n",
        "\n",
        "import sys  \n",
        "sys.path.insert(0, '/content/drive/MyDrive/Colab Notebooks')\n",
        "import simplet5\n",
        "from simplet5 import SimpleT5\n",
        "\n"
      ],
      "execution_count": null,
      "outputs": []
    },
    {
      "cell_type": "markdown",
      "metadata": {
        "id": "gqDzhGnx0elu"
      },
      "source": [
        "# **Load Training Data**"
      ]
    },
    {
      "cell_type": "code",
      "metadata": {
        "id": "rfskYI5ZjQ4q"
      },
      "source": [
        "from torch import cuda\n",
        "\n",
        "device = 'cuda' if cuda.is_available() else 'cpu'"
      ],
      "execution_count": null,
      "outputs": []
    },
    {
      "cell_type": "code",
      "metadata": {
        "id": "FIaQrz8Jj8qM"
      },
      "source": [
        "def load_story_dataset(random_seed = 1):\n",
        "\n",
        "  file_path = '/content/drive/MyDrive/ROCstory/data/ROCStories_winter2017 - ROCStories_winter2017.csv'\n",
        "  df = pd.read_csv(file_path, encoding = 'ISO-8859-1')\n",
        "  df = df.sample(100, random_state=1)\n",
        "  combine_cols = ['sentence1', 'sentence2', 'sentence3', 'sentence4']\n",
        "  df['text'] = df[combine_cols].apply(lambda row: ' '.join(row.values.astype(str)), axis=1)\n",
        "  df = df [['text', 'sentence5']]\n",
        "\n",
        "  X_train, X_test, y_train, y_test = train_test_split(df['text'].tolist(), df['sentence5'].tolist(), \n",
        "                                                      shuffle = True, test_size = 0.2, random_state = random_seed\n",
        "                                                      )\n",
        "  \n",
        "  train_data = pd.DataFrame({'source_text': X_train, 'target_text': y_train})\n",
        "  test_data = pd.DataFrame({'source_text': X_test, 'target_text': y_test})\n",
        "\n",
        "  return train_data, test_data\n",
        "\n",
        "train_df, test_df = load_story_dataset()\n"
      ],
      "execution_count": null,
      "outputs": []
    },
    {
      "cell_type": "markdown",
      "metadata": {
        "id": "5hYI1lA70zWI"
      },
      "source": [
        "# **Build Model and Training**"
      ]
    },
    {
      "cell_type": "code",
      "metadata": {
        "id": "F9Bfg9iEpIJe"
      },
      "source": [
        "model = SimpleT5()\n",
        "model.from_pretrained(model_type = 't5', model_name ='t5-small')\n",
        "\n",
        "model.train(train_df = train_df,\n",
        "            eval_df = test_df,\n",
        "            source_max_token_len = 256,\n",
        "            target_max_token_len = 64,\n",
        "            batch_size = 8,\n",
        "            max_epochs = 9,\n",
        "            outputdir = \"/content/drive/MyDrive/ROCstory/output\",\n",
        "            use_gpu = True,\n",
        "            early_stopping_patience_epochs = 0,\n",
        "            precision = 32\n",
        "            )\n",
        "\n"
      ],
      "execution_count": null,
      "outputs": []
    },
    {
      "cell_type": "code",
      "metadata": {
        "id": "PKSdWGEz2Jh7"
      },
      "source": [
        "model_path = '/content/drive/MyDrive/ROCstory/output/simplet5-epoch-4-train-loss-2.6849'\n",
        "model.load_model(\"t5\", model_path, use_gpu= True)"
      ],
      "execution_count": null,
      "outputs": []
    }
  ]
}