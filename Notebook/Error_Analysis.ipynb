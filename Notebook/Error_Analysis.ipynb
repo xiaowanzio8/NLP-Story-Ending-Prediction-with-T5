{
  "nbformat": 4,
  "nbformat_minor": 0,
  "metadata": {
    "accelerator": "GPU",
    "colab": {
      "name": "[Final Error Analysis] Inference [add number of sequence] T5_try.ipynb",
      "provenance": [],
      "collapsed_sections": []
    },
    "kernelspec": {
      "display_name": "Python 3",
      "name": "python3"
    },
    "language_info": {
      "name": "python"
    },
    "widgets": {
      "application/vnd.jupyter.widget-state+json": {
        "11d00a86d1cf4b7f905c4a475e46109b": {
          "model_module": "@jupyter-widgets/controls",
          "model_name": "HBoxModel",
          "model_module_version": "1.5.0",
          "state": {
            "_view_name": "HBoxView",
            "_dom_classes": [],
            "_model_name": "HBoxModel",
            "_view_module": "@jupyter-widgets/controls",
            "_model_module_version": "1.5.0",
            "_view_count": null,
            "_view_module_version": "1.5.0",
            "box_style": "",
            "layout": "IPY_MODEL_903564de8942406caaf7fd2b21e83dd1",
            "_model_module": "@jupyter-widgets/controls",
            "children": [
              "IPY_MODEL_904a8b5f736a4a3ca456af09f6380a69",
              "IPY_MODEL_918c21ebeb0e4ba7b936279c4c3f32b9",
              "IPY_MODEL_27d2568af1f045b3925277eed8c9a65a"
            ]
          }
        },
        "903564de8942406caaf7fd2b21e83dd1": {
          "model_module": "@jupyter-widgets/base",
          "model_name": "LayoutModel",
          "model_module_version": "1.2.0",
          "state": {
            "_view_name": "LayoutView",
            "grid_template_rows": null,
            "right": null,
            "justify_content": null,
            "_view_module": "@jupyter-widgets/base",
            "overflow": null,
            "_model_module_version": "1.2.0",
            "_view_count": null,
            "flex_flow": null,
            "width": null,
            "min_width": null,
            "border": null,
            "align_items": null,
            "bottom": null,
            "_model_module": "@jupyter-widgets/base",
            "top": null,
            "grid_column": null,
            "overflow_y": null,
            "overflow_x": null,
            "grid_auto_flow": null,
            "grid_area": null,
            "grid_template_columns": null,
            "flex": null,
            "_model_name": "LayoutModel",
            "justify_items": null,
            "grid_row": null,
            "max_height": null,
            "align_content": null,
            "visibility": null,
            "align_self": null,
            "height": null,
            "min_height": null,
            "padding": null,
            "grid_auto_rows": null,
            "grid_gap": null,
            "max_width": null,
            "order": null,
            "_view_module_version": "1.2.0",
            "grid_template_areas": null,
            "object_position": null,
            "object_fit": null,
            "grid_auto_columns": null,
            "margin": null,
            "display": null,
            "left": null
          }
        },
        "904a8b5f736a4a3ca456af09f6380a69": {
          "model_module": "@jupyter-widgets/controls",
          "model_name": "HTMLModel",
          "model_module_version": "1.5.0",
          "state": {
            "_view_name": "HTMLView",
            "style": "IPY_MODEL_cc093d543c2340fabfb77c6fd22849c5",
            "_dom_classes": [],
            "description": "",
            "_model_name": "HTMLModel",
            "placeholder": "​",
            "_view_module": "@jupyter-widgets/controls",
            "_model_module_version": "1.5.0",
            "value": "Downloading: 100%",
            "_view_count": null,
            "_view_module_version": "1.5.0",
            "description_tooltip": null,
            "_model_module": "@jupyter-widgets/controls",
            "layout": "IPY_MODEL_690450f76258474480d05561741ee3fe"
          }
        },
        "918c21ebeb0e4ba7b936279c4c3f32b9": {
          "model_module": "@jupyter-widgets/controls",
          "model_name": "FloatProgressModel",
          "model_module_version": "1.5.0",
          "state": {
            "_view_name": "ProgressView",
            "style": "IPY_MODEL_a669663dacea4682b54292641ff039d9",
            "_dom_classes": [],
            "description": "",
            "_model_name": "FloatProgressModel",
            "bar_style": "success",
            "max": 28,
            "_view_module": "@jupyter-widgets/controls",
            "_model_module_version": "1.5.0",
            "value": 28,
            "_view_count": null,
            "_view_module_version": "1.5.0",
            "orientation": "horizontal",
            "min": 0,
            "description_tooltip": null,
            "_model_module": "@jupyter-widgets/controls",
            "layout": "IPY_MODEL_def0ab92471444ceb1d7c7c4655d8bc8"
          }
        },
        "27d2568af1f045b3925277eed8c9a65a": {
          "model_module": "@jupyter-widgets/controls",
          "model_name": "HTMLModel",
          "model_module_version": "1.5.0",
          "state": {
            "_view_name": "HTMLView",
            "style": "IPY_MODEL_06d9a39a38374b20b77493a044d0f735",
            "_dom_classes": [],
            "description": "",
            "_model_name": "HTMLModel",
            "placeholder": "​",
            "_view_module": "@jupyter-widgets/controls",
            "_model_module_version": "1.5.0",
            "value": " 28.0/28.0 [00:00&lt;00:00, 599B/s]",
            "_view_count": null,
            "_view_module_version": "1.5.0",
            "description_tooltip": null,
            "_model_module": "@jupyter-widgets/controls",
            "layout": "IPY_MODEL_eab0614eebb84dcbb68a6970cf7eaf15"
          }
        },
        "cc093d543c2340fabfb77c6fd22849c5": {
          "model_module": "@jupyter-widgets/controls",
          "model_name": "DescriptionStyleModel",
          "model_module_version": "1.5.0",
          "state": {
            "_view_name": "StyleView",
            "_model_name": "DescriptionStyleModel",
            "description_width": "",
            "_view_module": "@jupyter-widgets/base",
            "_model_module_version": "1.5.0",
            "_view_count": null,
            "_view_module_version": "1.2.0",
            "_model_module": "@jupyter-widgets/controls"
          }
        },
        "690450f76258474480d05561741ee3fe": {
          "model_module": "@jupyter-widgets/base",
          "model_name": "LayoutModel",
          "model_module_version": "1.2.0",
          "state": {
            "_view_name": "LayoutView",
            "grid_template_rows": null,
            "right": null,
            "justify_content": null,
            "_view_module": "@jupyter-widgets/base",
            "overflow": null,
            "_model_module_version": "1.2.0",
            "_view_count": null,
            "flex_flow": null,
            "width": null,
            "min_width": null,
            "border": null,
            "align_items": null,
            "bottom": null,
            "_model_module": "@jupyter-widgets/base",
            "top": null,
            "grid_column": null,
            "overflow_y": null,
            "overflow_x": null,
            "grid_auto_flow": null,
            "grid_area": null,
            "grid_template_columns": null,
            "flex": null,
            "_model_name": "LayoutModel",
            "justify_items": null,
            "grid_row": null,
            "max_height": null,
            "align_content": null,
            "visibility": null,
            "align_self": null,
            "height": null,
            "min_height": null,
            "padding": null,
            "grid_auto_rows": null,
            "grid_gap": null,
            "max_width": null,
            "order": null,
            "_view_module_version": "1.2.0",
            "grid_template_areas": null,
            "object_position": null,
            "object_fit": null,
            "grid_auto_columns": null,
            "margin": null,
            "display": null,
            "left": null
          }
        },
        "a669663dacea4682b54292641ff039d9": {
          "model_module": "@jupyter-widgets/controls",
          "model_name": "ProgressStyleModel",
          "model_module_version": "1.5.0",
          "state": {
            "_view_name": "StyleView",
            "_model_name": "ProgressStyleModel",
            "description_width": "",
            "_view_module": "@jupyter-widgets/base",
            "_model_module_version": "1.5.0",
            "_view_count": null,
            "_view_module_version": "1.2.0",
            "bar_color": null,
            "_model_module": "@jupyter-widgets/controls"
          }
        },
        "def0ab92471444ceb1d7c7c4655d8bc8": {
          "model_module": "@jupyter-widgets/base",
          "model_name": "LayoutModel",
          "model_module_version": "1.2.0",
          "state": {
            "_view_name": "LayoutView",
            "grid_template_rows": null,
            "right": null,
            "justify_content": null,
            "_view_module": "@jupyter-widgets/base",
            "overflow": null,
            "_model_module_version": "1.2.0",
            "_view_count": null,
            "flex_flow": null,
            "width": null,
            "min_width": null,
            "border": null,
            "align_items": null,
            "bottom": null,
            "_model_module": "@jupyter-widgets/base",
            "top": null,
            "grid_column": null,
            "overflow_y": null,
            "overflow_x": null,
            "grid_auto_flow": null,
            "grid_area": null,
            "grid_template_columns": null,
            "flex": null,
            "_model_name": "LayoutModel",
            "justify_items": null,
            "grid_row": null,
            "max_height": null,
            "align_content": null,
            "visibility": null,
            "align_self": null,
            "height": null,
            "min_height": null,
            "padding": null,
            "grid_auto_rows": null,
            "grid_gap": null,
            "max_width": null,
            "order": null,
            "_view_module_version": "1.2.0",
            "grid_template_areas": null,
            "object_position": null,
            "object_fit": null,
            "grid_auto_columns": null,
            "margin": null,
            "display": null,
            "left": null
          }
        },
        "06d9a39a38374b20b77493a044d0f735": {
          "model_module": "@jupyter-widgets/controls",
          "model_name": "DescriptionStyleModel",
          "model_module_version": "1.5.0",
          "state": {
            "_view_name": "StyleView",
            "_model_name": "DescriptionStyleModel",
            "description_width": "",
            "_view_module": "@jupyter-widgets/base",
            "_model_module_version": "1.5.0",
            "_view_count": null,
            "_view_module_version": "1.2.0",
            "_model_module": "@jupyter-widgets/controls"
          }
        },
        "eab0614eebb84dcbb68a6970cf7eaf15": {
          "model_module": "@jupyter-widgets/base",
          "model_name": "LayoutModel",
          "model_module_version": "1.2.0",
          "state": {
            "_view_name": "LayoutView",
            "grid_template_rows": null,
            "right": null,
            "justify_content": null,
            "_view_module": "@jupyter-widgets/base",
            "overflow": null,
            "_model_module_version": "1.2.0",
            "_view_count": null,
            "flex_flow": null,
            "width": null,
            "min_width": null,
            "border": null,
            "align_items": null,
            "bottom": null,
            "_model_module": "@jupyter-widgets/base",
            "top": null,
            "grid_column": null,
            "overflow_y": null,
            "overflow_x": null,
            "grid_auto_flow": null,
            "grid_area": null,
            "grid_template_columns": null,
            "flex": null,
            "_model_name": "LayoutModel",
            "justify_items": null,
            "grid_row": null,
            "max_height": null,
            "align_content": null,
            "visibility": null,
            "align_self": null,
            "height": null,
            "min_height": null,
            "padding": null,
            "grid_auto_rows": null,
            "grid_gap": null,
            "max_width": null,
            "order": null,
            "_view_module_version": "1.2.0",
            "grid_template_areas": null,
            "object_position": null,
            "object_fit": null,
            "grid_auto_columns": null,
            "margin": null,
            "display": null,
            "left": null
          }
        },
        "7bc1786ca8014b7db6d1a6f4bb70d3c7": {
          "model_module": "@jupyter-widgets/controls",
          "model_name": "HBoxModel",
          "model_module_version": "1.5.0",
          "state": {
            "_view_name": "HBoxView",
            "_dom_classes": [],
            "_model_name": "HBoxModel",
            "_view_module": "@jupyter-widgets/controls",
            "_model_module_version": "1.5.0",
            "_view_count": null,
            "_view_module_version": "1.5.0",
            "box_style": "",
            "layout": "IPY_MODEL_aca6052795c64777bc89553fd1ccff29",
            "_model_module": "@jupyter-widgets/controls",
            "children": [
              "IPY_MODEL_0c6ee5a4eb65432fb3f7f868431a8c4e",
              "IPY_MODEL_d0c97eebafe64e06a35abc073f56e27c",
              "IPY_MODEL_de494735effc4c89ab57e86a26ba5c25"
            ]
          }
        },
        "aca6052795c64777bc89553fd1ccff29": {
          "model_module": "@jupyter-widgets/base",
          "model_name": "LayoutModel",
          "model_module_version": "1.2.0",
          "state": {
            "_view_name": "LayoutView",
            "grid_template_rows": null,
            "right": null,
            "justify_content": null,
            "_view_module": "@jupyter-widgets/base",
            "overflow": null,
            "_model_module_version": "1.2.0",
            "_view_count": null,
            "flex_flow": null,
            "width": null,
            "min_width": null,
            "border": null,
            "align_items": null,
            "bottom": null,
            "_model_module": "@jupyter-widgets/base",
            "top": null,
            "grid_column": null,
            "overflow_y": null,
            "overflow_x": null,
            "grid_auto_flow": null,
            "grid_area": null,
            "grid_template_columns": null,
            "flex": null,
            "_model_name": "LayoutModel",
            "justify_items": null,
            "grid_row": null,
            "max_height": null,
            "align_content": null,
            "visibility": null,
            "align_self": null,
            "height": null,
            "min_height": null,
            "padding": null,
            "grid_auto_rows": null,
            "grid_gap": null,
            "max_width": null,
            "order": null,
            "_view_module_version": "1.2.0",
            "grid_template_areas": null,
            "object_position": null,
            "object_fit": null,
            "grid_auto_columns": null,
            "margin": null,
            "display": null,
            "left": null
          }
        },
        "0c6ee5a4eb65432fb3f7f868431a8c4e": {
          "model_module": "@jupyter-widgets/controls",
          "model_name": "HTMLModel",
          "model_module_version": "1.5.0",
          "state": {
            "_view_name": "HTMLView",
            "style": "IPY_MODEL_fdc2f93fabab471fa45deb983c9cdfaf",
            "_dom_classes": [],
            "description": "",
            "_model_name": "HTMLModel",
            "placeholder": "​",
            "_view_module": "@jupyter-widgets/controls",
            "_model_module_version": "1.5.0",
            "value": "Downloading: 100%",
            "_view_count": null,
            "_view_module_version": "1.5.0",
            "description_tooltip": null,
            "_model_module": "@jupyter-widgets/controls",
            "layout": "IPY_MODEL_7940051402e14ba9a8dc0ad34f760615"
          }
        },
        "d0c97eebafe64e06a35abc073f56e27c": {
          "model_module": "@jupyter-widgets/controls",
          "model_name": "FloatProgressModel",
          "model_module_version": "1.5.0",
          "state": {
            "_view_name": "ProgressView",
            "style": "IPY_MODEL_7687e1ac85944d0a8ebff7234b9b6b60",
            "_dom_classes": [],
            "description": "",
            "_model_name": "FloatProgressModel",
            "bar_style": "success",
            "max": 231508,
            "_view_module": "@jupyter-widgets/controls",
            "_model_module_version": "1.5.0",
            "value": 231508,
            "_view_count": null,
            "_view_module_version": "1.5.0",
            "orientation": "horizontal",
            "min": 0,
            "description_tooltip": null,
            "_model_module": "@jupyter-widgets/controls",
            "layout": "IPY_MODEL_35d5c04aaa474e1eb6eada713f5ade65"
          }
        },
        "de494735effc4c89ab57e86a26ba5c25": {
          "model_module": "@jupyter-widgets/controls",
          "model_name": "HTMLModel",
          "model_module_version": "1.5.0",
          "state": {
            "_view_name": "HTMLView",
            "style": "IPY_MODEL_c16b18ab0ab1487caeb5f6391aa9aa00",
            "_dom_classes": [],
            "description": "",
            "_model_name": "HTMLModel",
            "placeholder": "​",
            "_view_module": "@jupyter-widgets/controls",
            "_model_module_version": "1.5.0",
            "value": " 226k/226k [00:00&lt;00:00, 1.02MB/s]",
            "_view_count": null,
            "_view_module_version": "1.5.0",
            "description_tooltip": null,
            "_model_module": "@jupyter-widgets/controls",
            "layout": "IPY_MODEL_a4f801918e264b8484e05b603a81ad24"
          }
        },
        "fdc2f93fabab471fa45deb983c9cdfaf": {
          "model_module": "@jupyter-widgets/controls",
          "model_name": "DescriptionStyleModel",
          "model_module_version": "1.5.0",
          "state": {
            "_view_name": "StyleView",
            "_model_name": "DescriptionStyleModel",
            "description_width": "",
            "_view_module": "@jupyter-widgets/base",
            "_model_module_version": "1.5.0",
            "_view_count": null,
            "_view_module_version": "1.2.0",
            "_model_module": "@jupyter-widgets/controls"
          }
        },
        "7940051402e14ba9a8dc0ad34f760615": {
          "model_module": "@jupyter-widgets/base",
          "model_name": "LayoutModel",
          "model_module_version": "1.2.0",
          "state": {
            "_view_name": "LayoutView",
            "grid_template_rows": null,
            "right": null,
            "justify_content": null,
            "_view_module": "@jupyter-widgets/base",
            "overflow": null,
            "_model_module_version": "1.2.0",
            "_view_count": null,
            "flex_flow": null,
            "width": null,
            "min_width": null,
            "border": null,
            "align_items": null,
            "bottom": null,
            "_model_module": "@jupyter-widgets/base",
            "top": null,
            "grid_column": null,
            "overflow_y": null,
            "overflow_x": null,
            "grid_auto_flow": null,
            "grid_area": null,
            "grid_template_columns": null,
            "flex": null,
            "_model_name": "LayoutModel",
            "justify_items": null,
            "grid_row": null,
            "max_height": null,
            "align_content": null,
            "visibility": null,
            "align_self": null,
            "height": null,
            "min_height": null,
            "padding": null,
            "grid_auto_rows": null,
            "grid_gap": null,
            "max_width": null,
            "order": null,
            "_view_module_version": "1.2.0",
            "grid_template_areas": null,
            "object_position": null,
            "object_fit": null,
            "grid_auto_columns": null,
            "margin": null,
            "display": null,
            "left": null
          }
        },
        "7687e1ac85944d0a8ebff7234b9b6b60": {
          "model_module": "@jupyter-widgets/controls",
          "model_name": "ProgressStyleModel",
          "model_module_version": "1.5.0",
          "state": {
            "_view_name": "StyleView",
            "_model_name": "ProgressStyleModel",
            "description_width": "",
            "_view_module": "@jupyter-widgets/base",
            "_model_module_version": "1.5.0",
            "_view_count": null,
            "_view_module_version": "1.2.0",
            "bar_color": null,
            "_model_module": "@jupyter-widgets/controls"
          }
        },
        "35d5c04aaa474e1eb6eada713f5ade65": {
          "model_module": "@jupyter-widgets/base",
          "model_name": "LayoutModel",
          "model_module_version": "1.2.0",
          "state": {
            "_view_name": "LayoutView",
            "grid_template_rows": null,
            "right": null,
            "justify_content": null,
            "_view_module": "@jupyter-widgets/base",
            "overflow": null,
            "_model_module_version": "1.2.0",
            "_view_count": null,
            "flex_flow": null,
            "width": null,
            "min_width": null,
            "border": null,
            "align_items": null,
            "bottom": null,
            "_model_module": "@jupyter-widgets/base",
            "top": null,
            "grid_column": null,
            "overflow_y": null,
            "overflow_x": null,
            "grid_auto_flow": null,
            "grid_area": null,
            "grid_template_columns": null,
            "flex": null,
            "_model_name": "LayoutModel",
            "justify_items": null,
            "grid_row": null,
            "max_height": null,
            "align_content": null,
            "visibility": null,
            "align_self": null,
            "height": null,
            "min_height": null,
            "padding": null,
            "grid_auto_rows": null,
            "grid_gap": null,
            "max_width": null,
            "order": null,
            "_view_module_version": "1.2.0",
            "grid_template_areas": null,
            "object_position": null,
            "object_fit": null,
            "grid_auto_columns": null,
            "margin": null,
            "display": null,
            "left": null
          }
        },
        "c16b18ab0ab1487caeb5f6391aa9aa00": {
          "model_module": "@jupyter-widgets/controls",
          "model_name": "DescriptionStyleModel",
          "model_module_version": "1.5.0",
          "state": {
            "_view_name": "StyleView",
            "_model_name": "DescriptionStyleModel",
            "description_width": "",
            "_view_module": "@jupyter-widgets/base",
            "_model_module_version": "1.5.0",
            "_view_count": null,
            "_view_module_version": "1.2.0",
            "_model_module": "@jupyter-widgets/controls"
          }
        },
        "a4f801918e264b8484e05b603a81ad24": {
          "model_module": "@jupyter-widgets/base",
          "model_name": "LayoutModel",
          "model_module_version": "1.2.0",
          "state": {
            "_view_name": "LayoutView",
            "grid_template_rows": null,
            "right": null,
            "justify_content": null,
            "_view_module": "@jupyter-widgets/base",
            "overflow": null,
            "_model_module_version": "1.2.0",
            "_view_count": null,
            "flex_flow": null,
            "width": null,
            "min_width": null,
            "border": null,
            "align_items": null,
            "bottom": null,
            "_model_module": "@jupyter-widgets/base",
            "top": null,
            "grid_column": null,
            "overflow_y": null,
            "overflow_x": null,
            "grid_auto_flow": null,
            "grid_area": null,
            "grid_template_columns": null,
            "flex": null,
            "_model_name": "LayoutModel",
            "justify_items": null,
            "grid_row": null,
            "max_height": null,
            "align_content": null,
            "visibility": null,
            "align_self": null,
            "height": null,
            "min_height": null,
            "padding": null,
            "grid_auto_rows": null,
            "grid_gap": null,
            "max_width": null,
            "order": null,
            "_view_module_version": "1.2.0",
            "grid_template_areas": null,
            "object_position": null,
            "object_fit": null,
            "grid_auto_columns": null,
            "margin": null,
            "display": null,
            "left": null
          }
        },
        "e58292c8124f45c8ae9563d8c94818d8": {
          "model_module": "@jupyter-widgets/controls",
          "model_name": "HBoxModel",
          "model_module_version": "1.5.0",
          "state": {
            "_view_name": "HBoxView",
            "_dom_classes": [],
            "_model_name": "HBoxModel",
            "_view_module": "@jupyter-widgets/controls",
            "_model_module_version": "1.5.0",
            "_view_count": null,
            "_view_module_version": "1.5.0",
            "box_style": "",
            "layout": "IPY_MODEL_80a47d9a24154dc2a547f4783e0a660e",
            "_model_module": "@jupyter-widgets/controls",
            "children": [
              "IPY_MODEL_cb7702ae759748f9b5db621ede6fe8d8",
              "IPY_MODEL_377ba75718d6415f905e3930716b0147",
              "IPY_MODEL_95c6e418bf91444ebbb5e8d0b4b9174b"
            ]
          }
        },
        "80a47d9a24154dc2a547f4783e0a660e": {
          "model_module": "@jupyter-widgets/base",
          "model_name": "LayoutModel",
          "model_module_version": "1.2.0",
          "state": {
            "_view_name": "LayoutView",
            "grid_template_rows": null,
            "right": null,
            "justify_content": null,
            "_view_module": "@jupyter-widgets/base",
            "overflow": null,
            "_model_module_version": "1.2.0",
            "_view_count": null,
            "flex_flow": null,
            "width": null,
            "min_width": null,
            "border": null,
            "align_items": null,
            "bottom": null,
            "_model_module": "@jupyter-widgets/base",
            "top": null,
            "grid_column": null,
            "overflow_y": null,
            "overflow_x": null,
            "grid_auto_flow": null,
            "grid_area": null,
            "grid_template_columns": null,
            "flex": null,
            "_model_name": "LayoutModel",
            "justify_items": null,
            "grid_row": null,
            "max_height": null,
            "align_content": null,
            "visibility": null,
            "align_self": null,
            "height": null,
            "min_height": null,
            "padding": null,
            "grid_auto_rows": null,
            "grid_gap": null,
            "max_width": null,
            "order": null,
            "_view_module_version": "1.2.0",
            "grid_template_areas": null,
            "object_position": null,
            "object_fit": null,
            "grid_auto_columns": null,
            "margin": null,
            "display": null,
            "left": null
          }
        },
        "cb7702ae759748f9b5db621ede6fe8d8": {
          "model_module": "@jupyter-widgets/controls",
          "model_name": "HTMLModel",
          "model_module_version": "1.5.0",
          "state": {
            "_view_name": "HTMLView",
            "style": "IPY_MODEL_9462a035dda547329a51e47f21ffbf50",
            "_dom_classes": [],
            "description": "",
            "_model_name": "HTMLModel",
            "placeholder": "​",
            "_view_module": "@jupyter-widgets/controls",
            "_model_module_version": "1.5.0",
            "value": "Downloading: 100%",
            "_view_count": null,
            "_view_module_version": "1.5.0",
            "description_tooltip": null,
            "_model_module": "@jupyter-widgets/controls",
            "layout": "IPY_MODEL_6b3c1306fe44452ab6923d579c7e5116"
          }
        },
        "377ba75718d6415f905e3930716b0147": {
          "model_module": "@jupyter-widgets/controls",
          "model_name": "FloatProgressModel",
          "model_module_version": "1.5.0",
          "state": {
            "_view_name": "ProgressView",
            "style": "IPY_MODEL_c21af5c59c71443991de71a4196365fa",
            "_dom_classes": [],
            "description": "",
            "_model_name": "FloatProgressModel",
            "bar_style": "success",
            "max": 466062,
            "_view_module": "@jupyter-widgets/controls",
            "_model_module_version": "1.5.0",
            "value": 466062,
            "_view_count": null,
            "_view_module_version": "1.5.0",
            "orientation": "horizontal",
            "min": 0,
            "description_tooltip": null,
            "_model_module": "@jupyter-widgets/controls",
            "layout": "IPY_MODEL_af833dbb57d14065a1ede549f9fadd97"
          }
        },
        "95c6e418bf91444ebbb5e8d0b4b9174b": {
          "model_module": "@jupyter-widgets/controls",
          "model_name": "HTMLModel",
          "model_module_version": "1.5.0",
          "state": {
            "_view_name": "HTMLView",
            "style": "IPY_MODEL_6c08e8b05d8d40aa8f59dd19d7332784",
            "_dom_classes": [],
            "description": "",
            "_model_name": "HTMLModel",
            "placeholder": "​",
            "_view_module": "@jupyter-widgets/controls",
            "_model_module_version": "1.5.0",
            "value": " 455k/455k [00:00&lt;00:00, 1.50MB/s]",
            "_view_count": null,
            "_view_module_version": "1.5.0",
            "description_tooltip": null,
            "_model_module": "@jupyter-widgets/controls",
            "layout": "IPY_MODEL_993b5b110c3048cd961845dd5a9236da"
          }
        },
        "9462a035dda547329a51e47f21ffbf50": {
          "model_module": "@jupyter-widgets/controls",
          "model_name": "DescriptionStyleModel",
          "model_module_version": "1.5.0",
          "state": {
            "_view_name": "StyleView",
            "_model_name": "DescriptionStyleModel",
            "description_width": "",
            "_view_module": "@jupyter-widgets/base",
            "_model_module_version": "1.5.0",
            "_view_count": null,
            "_view_module_version": "1.2.0",
            "_model_module": "@jupyter-widgets/controls"
          }
        },
        "6b3c1306fe44452ab6923d579c7e5116": {
          "model_module": "@jupyter-widgets/base",
          "model_name": "LayoutModel",
          "model_module_version": "1.2.0",
          "state": {
            "_view_name": "LayoutView",
            "grid_template_rows": null,
            "right": null,
            "justify_content": null,
            "_view_module": "@jupyter-widgets/base",
            "overflow": null,
            "_model_module_version": "1.2.0",
            "_view_count": null,
            "flex_flow": null,
            "width": null,
            "min_width": null,
            "border": null,
            "align_items": null,
            "bottom": null,
            "_model_module": "@jupyter-widgets/base",
            "top": null,
            "grid_column": null,
            "overflow_y": null,
            "overflow_x": null,
            "grid_auto_flow": null,
            "grid_area": null,
            "grid_template_columns": null,
            "flex": null,
            "_model_name": "LayoutModel",
            "justify_items": null,
            "grid_row": null,
            "max_height": null,
            "align_content": null,
            "visibility": null,
            "align_self": null,
            "height": null,
            "min_height": null,
            "padding": null,
            "grid_auto_rows": null,
            "grid_gap": null,
            "max_width": null,
            "order": null,
            "_view_module_version": "1.2.0",
            "grid_template_areas": null,
            "object_position": null,
            "object_fit": null,
            "grid_auto_columns": null,
            "margin": null,
            "display": null,
            "left": null
          }
        },
        "c21af5c59c71443991de71a4196365fa": {
          "model_module": "@jupyter-widgets/controls",
          "model_name": "ProgressStyleModel",
          "model_module_version": "1.5.0",
          "state": {
            "_view_name": "StyleView",
            "_model_name": "ProgressStyleModel",
            "description_width": "",
            "_view_module": "@jupyter-widgets/base",
            "_model_module_version": "1.5.0",
            "_view_count": null,
            "_view_module_version": "1.2.0",
            "bar_color": null,
            "_model_module": "@jupyter-widgets/controls"
          }
        },
        "af833dbb57d14065a1ede549f9fadd97": {
          "model_module": "@jupyter-widgets/base",
          "model_name": "LayoutModel",
          "model_module_version": "1.2.0",
          "state": {
            "_view_name": "LayoutView",
            "grid_template_rows": null,
            "right": null,
            "justify_content": null,
            "_view_module": "@jupyter-widgets/base",
            "overflow": null,
            "_model_module_version": "1.2.0",
            "_view_count": null,
            "flex_flow": null,
            "width": null,
            "min_width": null,
            "border": null,
            "align_items": null,
            "bottom": null,
            "_model_module": "@jupyter-widgets/base",
            "top": null,
            "grid_column": null,
            "overflow_y": null,
            "overflow_x": null,
            "grid_auto_flow": null,
            "grid_area": null,
            "grid_template_columns": null,
            "flex": null,
            "_model_name": "LayoutModel",
            "justify_items": null,
            "grid_row": null,
            "max_height": null,
            "align_content": null,
            "visibility": null,
            "align_self": null,
            "height": null,
            "min_height": null,
            "padding": null,
            "grid_auto_rows": null,
            "grid_gap": null,
            "max_width": null,
            "order": null,
            "_view_module_version": "1.2.0",
            "grid_template_areas": null,
            "object_position": null,
            "object_fit": null,
            "grid_auto_columns": null,
            "margin": null,
            "display": null,
            "left": null
          }
        },
        "6c08e8b05d8d40aa8f59dd19d7332784": {
          "model_module": "@jupyter-widgets/controls",
          "model_name": "DescriptionStyleModel",
          "model_module_version": "1.5.0",
          "state": {
            "_view_name": "StyleView",
            "_model_name": "DescriptionStyleModel",
            "description_width": "",
            "_view_module": "@jupyter-widgets/base",
            "_model_module_version": "1.5.0",
            "_view_count": null,
            "_view_module_version": "1.2.0",
            "_model_module": "@jupyter-widgets/controls"
          }
        },
        "993b5b110c3048cd961845dd5a9236da": {
          "model_module": "@jupyter-widgets/base",
          "model_name": "LayoutModel",
          "model_module_version": "1.2.0",
          "state": {
            "_view_name": "LayoutView",
            "grid_template_rows": null,
            "right": null,
            "justify_content": null,
            "_view_module": "@jupyter-widgets/base",
            "overflow": null,
            "_model_module_version": "1.2.0",
            "_view_count": null,
            "flex_flow": null,
            "width": null,
            "min_width": null,
            "border": null,
            "align_items": null,
            "bottom": null,
            "_model_module": "@jupyter-widgets/base",
            "top": null,
            "grid_column": null,
            "overflow_y": null,
            "overflow_x": null,
            "grid_auto_flow": null,
            "grid_area": null,
            "grid_template_columns": null,
            "flex": null,
            "_model_name": "LayoutModel",
            "justify_items": null,
            "grid_row": null,
            "max_height": null,
            "align_content": null,
            "visibility": null,
            "align_self": null,
            "height": null,
            "min_height": null,
            "padding": null,
            "grid_auto_rows": null,
            "grid_gap": null,
            "max_width": null,
            "order": null,
            "_view_module_version": "1.2.0",
            "grid_template_areas": null,
            "object_position": null,
            "object_fit": null,
            "grid_auto_columns": null,
            "margin": null,
            "display": null,
            "left": null
          }
        },
        "26d9d1d2edf446fc8eda06404259b188": {
          "model_module": "@jupyter-widgets/controls",
          "model_name": "HBoxModel",
          "model_module_version": "1.5.0",
          "state": {
            "_view_name": "HBoxView",
            "_dom_classes": [],
            "_model_name": "HBoxModel",
            "_view_module": "@jupyter-widgets/controls",
            "_model_module_version": "1.5.0",
            "_view_count": null,
            "_view_module_version": "1.5.0",
            "box_style": "",
            "layout": "IPY_MODEL_12a643d06ab94245b27e08e55bcc599f",
            "_model_module": "@jupyter-widgets/controls",
            "children": [
              "IPY_MODEL_3ad98219d212456baf97f5b2a168ffaf",
              "IPY_MODEL_de110c5174bd46dba63768be6d448b2e",
              "IPY_MODEL_1515d15a8c724509bcbdef47a8fa8f29"
            ]
          }
        },
        "12a643d06ab94245b27e08e55bcc599f": {
          "model_module": "@jupyter-widgets/base",
          "model_name": "LayoutModel",
          "model_module_version": "1.2.0",
          "state": {
            "_view_name": "LayoutView",
            "grid_template_rows": null,
            "right": null,
            "justify_content": null,
            "_view_module": "@jupyter-widgets/base",
            "overflow": null,
            "_model_module_version": "1.2.0",
            "_view_count": null,
            "flex_flow": null,
            "width": null,
            "min_width": null,
            "border": null,
            "align_items": null,
            "bottom": null,
            "_model_module": "@jupyter-widgets/base",
            "top": null,
            "grid_column": null,
            "overflow_y": null,
            "overflow_x": null,
            "grid_auto_flow": null,
            "grid_area": null,
            "grid_template_columns": null,
            "flex": null,
            "_model_name": "LayoutModel",
            "justify_items": null,
            "grid_row": null,
            "max_height": null,
            "align_content": null,
            "visibility": null,
            "align_self": null,
            "height": null,
            "min_height": null,
            "padding": null,
            "grid_auto_rows": null,
            "grid_gap": null,
            "max_width": null,
            "order": null,
            "_view_module_version": "1.2.0",
            "grid_template_areas": null,
            "object_position": null,
            "object_fit": null,
            "grid_auto_columns": null,
            "margin": null,
            "display": null,
            "left": null
          }
        },
        "3ad98219d212456baf97f5b2a168ffaf": {
          "model_module": "@jupyter-widgets/controls",
          "model_name": "HTMLModel",
          "model_module_version": "1.5.0",
          "state": {
            "_view_name": "HTMLView",
            "style": "IPY_MODEL_8027b90e89d5419b84278fd852c06c0e",
            "_dom_classes": [],
            "description": "",
            "_model_name": "HTMLModel",
            "placeholder": "​",
            "_view_module": "@jupyter-widgets/controls",
            "_model_module_version": "1.5.0",
            "value": "Downloading: 100%",
            "_view_count": null,
            "_view_module_version": "1.5.0",
            "description_tooltip": null,
            "_model_module": "@jupyter-widgets/controls",
            "layout": "IPY_MODEL_04e9a51f4c384f99978342c6ec537a97"
          }
        },
        "de110c5174bd46dba63768be6d448b2e": {
          "model_module": "@jupyter-widgets/controls",
          "model_name": "FloatProgressModel",
          "model_module_version": "1.5.0",
          "state": {
            "_view_name": "ProgressView",
            "style": "IPY_MODEL_8d6ff05975cf476a96d13ecb349dd463",
            "_dom_classes": [],
            "description": "",
            "_model_name": "FloatProgressModel",
            "bar_style": "success",
            "max": 483,
            "_view_module": "@jupyter-widgets/controls",
            "_model_module_version": "1.5.0",
            "value": 483,
            "_view_count": null,
            "_view_module_version": "1.5.0",
            "orientation": "horizontal",
            "min": 0,
            "description_tooltip": null,
            "_model_module": "@jupyter-widgets/controls",
            "layout": "IPY_MODEL_71b461a19a374738832b615fba70b872"
          }
        },
        "1515d15a8c724509bcbdef47a8fa8f29": {
          "model_module": "@jupyter-widgets/controls",
          "model_name": "HTMLModel",
          "model_module_version": "1.5.0",
          "state": {
            "_view_name": "HTMLView",
            "style": "IPY_MODEL_91a2d2719ebe4b2ba4df92a24e3e74e4",
            "_dom_classes": [],
            "description": "",
            "_model_name": "HTMLModel",
            "placeholder": "​",
            "_view_module": "@jupyter-widgets/controls",
            "_model_module_version": "1.5.0",
            "value": " 483/483 [00:00&lt;00:00, 13.6kB/s]",
            "_view_count": null,
            "_view_module_version": "1.5.0",
            "description_tooltip": null,
            "_model_module": "@jupyter-widgets/controls",
            "layout": "IPY_MODEL_8af7394b2e3d46edb805d290d5b0fc67"
          }
        },
        "8027b90e89d5419b84278fd852c06c0e": {
          "model_module": "@jupyter-widgets/controls",
          "model_name": "DescriptionStyleModel",
          "model_module_version": "1.5.0",
          "state": {
            "_view_name": "StyleView",
            "_model_name": "DescriptionStyleModel",
            "description_width": "",
            "_view_module": "@jupyter-widgets/base",
            "_model_module_version": "1.5.0",
            "_view_count": null,
            "_view_module_version": "1.2.0",
            "_model_module": "@jupyter-widgets/controls"
          }
        },
        "04e9a51f4c384f99978342c6ec537a97": {
          "model_module": "@jupyter-widgets/base",
          "model_name": "LayoutModel",
          "model_module_version": "1.2.0",
          "state": {
            "_view_name": "LayoutView",
            "grid_template_rows": null,
            "right": null,
            "justify_content": null,
            "_view_module": "@jupyter-widgets/base",
            "overflow": null,
            "_model_module_version": "1.2.0",
            "_view_count": null,
            "flex_flow": null,
            "width": null,
            "min_width": null,
            "border": null,
            "align_items": null,
            "bottom": null,
            "_model_module": "@jupyter-widgets/base",
            "top": null,
            "grid_column": null,
            "overflow_y": null,
            "overflow_x": null,
            "grid_auto_flow": null,
            "grid_area": null,
            "grid_template_columns": null,
            "flex": null,
            "_model_name": "LayoutModel",
            "justify_items": null,
            "grid_row": null,
            "max_height": null,
            "align_content": null,
            "visibility": null,
            "align_self": null,
            "height": null,
            "min_height": null,
            "padding": null,
            "grid_auto_rows": null,
            "grid_gap": null,
            "max_width": null,
            "order": null,
            "_view_module_version": "1.2.0",
            "grid_template_areas": null,
            "object_position": null,
            "object_fit": null,
            "grid_auto_columns": null,
            "margin": null,
            "display": null,
            "left": null
          }
        },
        "8d6ff05975cf476a96d13ecb349dd463": {
          "model_module": "@jupyter-widgets/controls",
          "model_name": "ProgressStyleModel",
          "model_module_version": "1.5.0",
          "state": {
            "_view_name": "StyleView",
            "_model_name": "ProgressStyleModel",
            "description_width": "",
            "_view_module": "@jupyter-widgets/base",
            "_model_module_version": "1.5.0",
            "_view_count": null,
            "_view_module_version": "1.2.0",
            "bar_color": null,
            "_model_module": "@jupyter-widgets/controls"
          }
        },
        "71b461a19a374738832b615fba70b872": {
          "model_module": "@jupyter-widgets/base",
          "model_name": "LayoutModel",
          "model_module_version": "1.2.0",
          "state": {
            "_view_name": "LayoutView",
            "grid_template_rows": null,
            "right": null,
            "justify_content": null,
            "_view_module": "@jupyter-widgets/base",
            "overflow": null,
            "_model_module_version": "1.2.0",
            "_view_count": null,
            "flex_flow": null,
            "width": null,
            "min_width": null,
            "border": null,
            "align_items": null,
            "bottom": null,
            "_model_module": "@jupyter-widgets/base",
            "top": null,
            "grid_column": null,
            "overflow_y": null,
            "overflow_x": null,
            "grid_auto_flow": null,
            "grid_area": null,
            "grid_template_columns": null,
            "flex": null,
            "_model_name": "LayoutModel",
            "justify_items": null,
            "grid_row": null,
            "max_height": null,
            "align_content": null,
            "visibility": null,
            "align_self": null,
            "height": null,
            "min_height": null,
            "padding": null,
            "grid_auto_rows": null,
            "grid_gap": null,
            "max_width": null,
            "order": null,
            "_view_module_version": "1.2.0",
            "grid_template_areas": null,
            "object_position": null,
            "object_fit": null,
            "grid_auto_columns": null,
            "margin": null,
            "display": null,
            "left": null
          }
        },
        "91a2d2719ebe4b2ba4df92a24e3e74e4": {
          "model_module": "@jupyter-widgets/controls",
          "model_name": "DescriptionStyleModel",
          "model_module_version": "1.5.0",
          "state": {
            "_view_name": "StyleView",
            "_model_name": "DescriptionStyleModel",
            "description_width": "",
            "_view_module": "@jupyter-widgets/base",
            "_model_module_version": "1.5.0",
            "_view_count": null,
            "_view_module_version": "1.2.0",
            "_model_module": "@jupyter-widgets/controls"
          }
        },
        "8af7394b2e3d46edb805d290d5b0fc67": {
          "model_module": "@jupyter-widgets/base",
          "model_name": "LayoutModel",
          "model_module_version": "1.2.0",
          "state": {
            "_view_name": "LayoutView",
            "grid_template_rows": null,
            "right": null,
            "justify_content": null,
            "_view_module": "@jupyter-widgets/base",
            "overflow": null,
            "_model_module_version": "1.2.0",
            "_view_count": null,
            "flex_flow": null,
            "width": null,
            "min_width": null,
            "border": null,
            "align_items": null,
            "bottom": null,
            "_model_module": "@jupyter-widgets/base",
            "top": null,
            "grid_column": null,
            "overflow_y": null,
            "overflow_x": null,
            "grid_auto_flow": null,
            "grid_area": null,
            "grid_template_columns": null,
            "flex": null,
            "_model_name": "LayoutModel",
            "justify_items": null,
            "grid_row": null,
            "max_height": null,
            "align_content": null,
            "visibility": null,
            "align_self": null,
            "height": null,
            "min_height": null,
            "padding": null,
            "grid_auto_rows": null,
            "grid_gap": null,
            "max_width": null,
            "order": null,
            "_view_module_version": "1.2.0",
            "grid_template_areas": null,
            "object_position": null,
            "object_fit": null,
            "grid_auto_columns": null,
            "margin": null,
            "display": null,
            "left": null
          }
        }
      }
    }
  },
  "cells": [
    {
      "cell_type": "markdown",
      "metadata": {
        "id": "T-m7dqgUov0B"
      },
      "source": [
        "# Mount Google Drive"
      ]
    },
    {
      "cell_type": "code",
      "metadata": {
        "colab": {
          "base_uri": "https://localhost:8080/"
        },
        "id": "5st_mcKoG4dv",
        "outputId": "9754189a-b6da-4fdd-8f73-fcf94eb625d9"
      },
      "source": [
        "from google.colab import drive\n",
        "drive.mount('/content/drive')"
      ],
      "execution_count": null,
      "outputs": [
        {
          "output_type": "stream",
          "name": "stdout",
          "text": [
            "Mounted at /content/drive\n"
          ]
        }
      ]
    },
    {
      "cell_type": "code",
      "metadata": {
        "id": "p1GMCRub1SE1"
      },
      "source": [
        "# Load the TensorBoard notebook extension\n",
        "#%load_ext tensorboard"
      ],
      "execution_count": null,
      "outputs": []
    },
    {
      "cell_type": "code",
      "metadata": {
        "id": "Fvb5WjmK1dRk"
      },
      "source": [
        "#%tensorboard --logdir logs\n",
        "\n"
      ],
      "execution_count": null,
      "outputs": []
    },
    {
      "cell_type": "code",
      "metadata": {
        "colab": {
          "base_uri": "https://localhost:8080/"
        },
        "id": "njQy0NuAjQFg",
        "outputId": "b304fa07-fbba-4e66-e3a7-5e062f7c49d2"
      },
      "source": [
        "!nvidia-smi"
      ],
      "execution_count": null,
      "outputs": [
        {
          "output_type": "stream",
          "name": "stdout",
          "text": [
            "Tue Nov 30 18:45:02 2021       \n",
            "+-----------------------------------------------------------------------------+\n",
            "| NVIDIA-SMI 495.44       Driver Version: 460.32.03    CUDA Version: 11.2     |\n",
            "|-------------------------------+----------------------+----------------------+\n",
            "| GPU  Name        Persistence-M| Bus-Id        Disp.A | Volatile Uncorr. ECC |\n",
            "| Fan  Temp  Perf  Pwr:Usage/Cap|         Memory-Usage | GPU-Util  Compute M. |\n",
            "|                               |                      |               MIG M. |\n",
            "|===============================+======================+======================|\n",
            "|   0  Tesla K80           Off  | 00000000:00:04.0 Off |                    0 |\n",
            "| N/A   33C    P8    29W / 149W |      0MiB / 11441MiB |      0%      Default |\n",
            "|                               |                      |                  N/A |\n",
            "+-------------------------------+----------------------+----------------------+\n",
            "                                                                               \n",
            "+-----------------------------------------------------------------------------+\n",
            "| Processes:                                                                  |\n",
            "|  GPU   GI   CI        PID   Type   Process name                  GPU Memory |\n",
            "|        ID   ID                                                   Usage      |\n",
            "|=============================================================================|\n",
            "|  No running processes found                                                 |\n",
            "+-----------------------------------------------------------------------------+\n"
          ]
        }
      ]
    },
    {
      "cell_type": "markdown",
      "metadata": {
        "id": "wMKfbnQ7o1nk"
      },
      "source": [
        "# Install Packages"
      ]
    },
    {
      "cell_type": "code",
      "metadata": {
        "colab": {
          "base_uri": "https://localhost:8080/"
        },
        "id": "l7wqQy-Ik1lZ",
        "outputId": "e0e70086-eed9-4a0b-eaf2-464c1e233ead"
      },
      "source": [
        "\n",
        "!pip install torch\n",
        "!pip install sklearn\n",
        "!pip install transformers\n",
        "!pip install rich[jupyter]\n",
        "!pip install pytorch_lightning\n",
        "!pip install SentencePiece\n"
      ],
      "execution_count": null,
      "outputs": [
        {
          "output_type": "stream",
          "name": "stdout",
          "text": [
            "Requirement already satisfied: torch in /usr/local/lib/python3.7/dist-packages (1.10.0+cu111)\n",
            "Requirement already satisfied: typing-extensions in /usr/local/lib/python3.7/dist-packages (from torch) (3.10.0.2)\n",
            "Requirement already satisfied: sklearn in /usr/local/lib/python3.7/dist-packages (0.0)\n",
            "Requirement already satisfied: scikit-learn in /usr/local/lib/python3.7/dist-packages (from sklearn) (1.0.1)\n",
            "Requirement already satisfied: scipy>=1.1.0 in /usr/local/lib/python3.7/dist-packages (from scikit-learn->sklearn) (1.4.1)\n",
            "Requirement already satisfied: threadpoolctl>=2.0.0 in /usr/local/lib/python3.7/dist-packages (from scikit-learn->sklearn) (3.0.0)\n",
            "Requirement already satisfied: joblib>=0.11 in /usr/local/lib/python3.7/dist-packages (from scikit-learn->sklearn) (1.1.0)\n",
            "Requirement already satisfied: numpy>=1.14.6 in /usr/local/lib/python3.7/dist-packages (from scikit-learn->sklearn) (1.19.5)\n",
            "Collecting transformers\n",
            "  Downloading transformers-4.12.5-py3-none-any.whl (3.1 MB)\n",
            "\u001b[K     |████████████████████████████████| 3.1 MB 5.2 MB/s \n",
            "\u001b[?25hRequirement already satisfied: packaging>=20.0 in /usr/local/lib/python3.7/dist-packages (from transformers) (21.3)\n",
            "Collecting sacremoses\n",
            "  Downloading sacremoses-0.0.46-py3-none-any.whl (895 kB)\n",
            "\u001b[K     |████████████████████████████████| 895 kB 49.5 MB/s \n",
            "\u001b[?25hRequirement already satisfied: filelock in /usr/local/lib/python3.7/dist-packages (from transformers) (3.4.0)\n",
            "Collecting huggingface-hub<1.0,>=0.1.0\n",
            "  Downloading huggingface_hub-0.1.2-py3-none-any.whl (59 kB)\n",
            "\u001b[K     |████████████████████████████████| 59 kB 6.9 MB/s \n",
            "\u001b[?25hCollecting pyyaml>=5.1\n",
            "  Downloading PyYAML-6.0-cp37-cp37m-manylinux_2_5_x86_64.manylinux1_x86_64.manylinux_2_12_x86_64.manylinux2010_x86_64.whl (596 kB)\n",
            "\u001b[K     |████████████████████████████████| 596 kB 40.8 MB/s \n",
            "\u001b[?25hRequirement already satisfied: regex!=2019.12.17 in /usr/local/lib/python3.7/dist-packages (from transformers) (2019.12.20)\n",
            "Requirement already satisfied: requests in /usr/local/lib/python3.7/dist-packages (from transformers) (2.23.0)\n",
            "Requirement already satisfied: importlib-metadata in /usr/local/lib/python3.7/dist-packages (from transformers) (4.8.2)\n",
            "Collecting tokenizers<0.11,>=0.10.1\n",
            "  Downloading tokenizers-0.10.3-cp37-cp37m-manylinux_2_5_x86_64.manylinux1_x86_64.manylinux_2_12_x86_64.manylinux2010_x86_64.whl (3.3 MB)\n",
            "\u001b[K     |████████████████████████████████| 3.3 MB 36.8 MB/s \n",
            "\u001b[?25hRequirement already satisfied: numpy>=1.17 in /usr/local/lib/python3.7/dist-packages (from transformers) (1.19.5)\n",
            "Requirement already satisfied: tqdm>=4.27 in /usr/local/lib/python3.7/dist-packages (from transformers) (4.62.3)\n",
            "Requirement already satisfied: typing-extensions>=3.7.4.3 in /usr/local/lib/python3.7/dist-packages (from huggingface-hub<1.0,>=0.1.0->transformers) (3.10.0.2)\n",
            "Requirement already satisfied: pyparsing!=3.0.5,>=2.0.2 in /usr/local/lib/python3.7/dist-packages (from packaging>=20.0->transformers) (3.0.6)\n",
            "Requirement already satisfied: zipp>=0.5 in /usr/local/lib/python3.7/dist-packages (from importlib-metadata->transformers) (3.6.0)\n",
            "Requirement already satisfied: idna<3,>=2.5 in /usr/local/lib/python3.7/dist-packages (from requests->transformers) (2.10)\n",
            "Requirement already satisfied: certifi>=2017.4.17 in /usr/local/lib/python3.7/dist-packages (from requests->transformers) (2021.10.8)\n",
            "Requirement already satisfied: urllib3!=1.25.0,!=1.25.1,<1.26,>=1.21.1 in /usr/local/lib/python3.7/dist-packages (from requests->transformers) (1.24.3)\n",
            "Requirement already satisfied: chardet<4,>=3.0.2 in /usr/local/lib/python3.7/dist-packages (from requests->transformers) (3.0.4)\n",
            "Requirement already satisfied: six in /usr/local/lib/python3.7/dist-packages (from sacremoses->transformers) (1.15.0)\n",
            "Requirement already satisfied: joblib in /usr/local/lib/python3.7/dist-packages (from sacremoses->transformers) (1.1.0)\n",
            "Requirement already satisfied: click in /usr/local/lib/python3.7/dist-packages (from sacremoses->transformers) (7.1.2)\n",
            "Installing collected packages: pyyaml, tokenizers, sacremoses, huggingface-hub, transformers\n",
            "  Attempting uninstall: pyyaml\n",
            "    Found existing installation: PyYAML 3.13\n",
            "    Uninstalling PyYAML-3.13:\n",
            "      Successfully uninstalled PyYAML-3.13\n",
            "Successfully installed huggingface-hub-0.1.2 pyyaml-6.0 sacremoses-0.0.46 tokenizers-0.10.3 transformers-4.12.5\n",
            "Collecting rich[jupyter]\n",
            "  Downloading rich-10.15.1-py3-none-any.whl (214 kB)\n",
            "\u001b[K     |████████████████████████████████| 214 kB 5.2 MB/s \n",
            "\u001b[?25hCollecting commonmark<0.10.0,>=0.9.0\n",
            "  Downloading commonmark-0.9.1-py2.py3-none-any.whl (51 kB)\n",
            "\u001b[K     |████████████████████████████████| 51 kB 6.6 MB/s \n",
            "\u001b[?25hRequirement already satisfied: pygments<3.0.0,>=2.6.0 in /usr/local/lib/python3.7/dist-packages (from rich[jupyter]) (2.6.1)\n",
            "Collecting colorama<0.5.0,>=0.4.0\n",
            "  Downloading colorama-0.4.4-py2.py3-none-any.whl (16 kB)\n",
            "Requirement already satisfied: typing-extensions<5.0,>=3.7.4 in /usr/local/lib/python3.7/dist-packages (from rich[jupyter]) (3.10.0.2)\n",
            "Requirement already satisfied: ipywidgets<8.0.0,>=7.5.1 in /usr/local/lib/python3.7/dist-packages (from rich[jupyter]) (7.6.5)\n",
            "Requirement already satisfied: nbformat>=4.2.0 in /usr/local/lib/python3.7/dist-packages (from ipywidgets<8.0.0,>=7.5.1->rich[jupyter]) (5.1.3)\n",
            "Requirement already satisfied: widgetsnbextension~=3.5.0 in /usr/local/lib/python3.7/dist-packages (from ipywidgets<8.0.0,>=7.5.1->rich[jupyter]) (3.5.2)\n",
            "Requirement already satisfied: ipython-genutils~=0.2.0 in /usr/local/lib/python3.7/dist-packages (from ipywidgets<8.0.0,>=7.5.1->rich[jupyter]) (0.2.0)\n",
            "Requirement already satisfied: traitlets>=4.3.1 in /usr/local/lib/python3.7/dist-packages (from ipywidgets<8.0.0,>=7.5.1->rich[jupyter]) (5.1.1)\n",
            "Requirement already satisfied: ipython>=4.0.0 in /usr/local/lib/python3.7/dist-packages (from ipywidgets<8.0.0,>=7.5.1->rich[jupyter]) (5.5.0)\n",
            "Requirement already satisfied: jupyterlab-widgets>=1.0.0 in /usr/local/lib/python3.7/dist-packages (from ipywidgets<8.0.0,>=7.5.1->rich[jupyter]) (1.0.2)\n",
            "Requirement already satisfied: ipykernel>=4.5.1 in /usr/local/lib/python3.7/dist-packages (from ipywidgets<8.0.0,>=7.5.1->rich[jupyter]) (4.10.1)\n",
            "Requirement already satisfied: tornado>=4.0 in /usr/local/lib/python3.7/dist-packages (from ipykernel>=4.5.1->ipywidgets<8.0.0,>=7.5.1->rich[jupyter]) (5.1.1)\n",
            "Requirement already satisfied: jupyter-client in /usr/local/lib/python3.7/dist-packages (from ipykernel>=4.5.1->ipywidgets<8.0.0,>=7.5.1->rich[jupyter]) (5.3.5)\n",
            "Requirement already satisfied: prompt-toolkit<2.0.0,>=1.0.4 in /usr/local/lib/python3.7/dist-packages (from ipython>=4.0.0->ipywidgets<8.0.0,>=7.5.1->rich[jupyter]) (1.0.18)\n",
            "Requirement already satisfied: setuptools>=18.5 in /usr/local/lib/python3.7/dist-packages (from ipython>=4.0.0->ipywidgets<8.0.0,>=7.5.1->rich[jupyter]) (57.4.0)\n",
            "Requirement already satisfied: simplegeneric>0.8 in /usr/local/lib/python3.7/dist-packages (from ipython>=4.0.0->ipywidgets<8.0.0,>=7.5.1->rich[jupyter]) (0.8.1)\n",
            "Requirement already satisfied: decorator in /usr/local/lib/python3.7/dist-packages (from ipython>=4.0.0->ipywidgets<8.0.0,>=7.5.1->rich[jupyter]) (4.4.2)\n",
            "Requirement already satisfied: pexpect in /usr/local/lib/python3.7/dist-packages (from ipython>=4.0.0->ipywidgets<8.0.0,>=7.5.1->rich[jupyter]) (4.8.0)\n",
            "Requirement already satisfied: pickleshare in /usr/local/lib/python3.7/dist-packages (from ipython>=4.0.0->ipywidgets<8.0.0,>=7.5.1->rich[jupyter]) (0.7.5)\n",
            "Requirement already satisfied: jsonschema!=2.5.0,>=2.4 in /usr/local/lib/python3.7/dist-packages (from nbformat>=4.2.0->ipywidgets<8.0.0,>=7.5.1->rich[jupyter]) (2.6.0)\n",
            "Requirement already satisfied: jupyter-core in /usr/local/lib/python3.7/dist-packages (from nbformat>=4.2.0->ipywidgets<8.0.0,>=7.5.1->rich[jupyter]) (4.9.1)\n",
            "Requirement already satisfied: wcwidth in /usr/local/lib/python3.7/dist-packages (from prompt-toolkit<2.0.0,>=1.0.4->ipython>=4.0.0->ipywidgets<8.0.0,>=7.5.1->rich[jupyter]) (0.2.5)\n",
            "Requirement already satisfied: six>=1.9.0 in /usr/local/lib/python3.7/dist-packages (from prompt-toolkit<2.0.0,>=1.0.4->ipython>=4.0.0->ipywidgets<8.0.0,>=7.5.1->rich[jupyter]) (1.15.0)\n",
            "Requirement already satisfied: notebook>=4.4.1 in /usr/local/lib/python3.7/dist-packages (from widgetsnbextension~=3.5.0->ipywidgets<8.0.0,>=7.5.1->rich[jupyter]) (5.3.1)\n",
            "Requirement already satisfied: Send2Trash in /usr/local/lib/python3.7/dist-packages (from notebook>=4.4.1->widgetsnbextension~=3.5.0->ipywidgets<8.0.0,>=7.5.1->rich[jupyter]) (1.8.0)\n",
            "Requirement already satisfied: jinja2 in /usr/local/lib/python3.7/dist-packages (from notebook>=4.4.1->widgetsnbextension~=3.5.0->ipywidgets<8.0.0,>=7.5.1->rich[jupyter]) (2.11.3)\n",
            "Requirement already satisfied: terminado>=0.8.1 in /usr/local/lib/python3.7/dist-packages (from notebook>=4.4.1->widgetsnbextension~=3.5.0->ipywidgets<8.0.0,>=7.5.1->rich[jupyter]) (0.12.1)\n",
            "Requirement already satisfied: nbconvert in /usr/local/lib/python3.7/dist-packages (from notebook>=4.4.1->widgetsnbextension~=3.5.0->ipywidgets<8.0.0,>=7.5.1->rich[jupyter]) (5.6.1)\n",
            "Requirement already satisfied: python-dateutil>=2.1 in /usr/local/lib/python3.7/dist-packages (from jupyter-client->ipykernel>=4.5.1->ipywidgets<8.0.0,>=7.5.1->rich[jupyter]) (2.8.2)\n",
            "Requirement already satisfied: pyzmq>=13 in /usr/local/lib/python3.7/dist-packages (from jupyter-client->ipykernel>=4.5.1->ipywidgets<8.0.0,>=7.5.1->rich[jupyter]) (22.3.0)\n",
            "Requirement already satisfied: ptyprocess in /usr/local/lib/python3.7/dist-packages (from terminado>=0.8.1->notebook>=4.4.1->widgetsnbextension~=3.5.0->ipywidgets<8.0.0,>=7.5.1->rich[jupyter]) (0.7.0)\n",
            "Requirement already satisfied: MarkupSafe>=0.23 in /usr/local/lib/python3.7/dist-packages (from jinja2->notebook>=4.4.1->widgetsnbextension~=3.5.0->ipywidgets<8.0.0,>=7.5.1->rich[jupyter]) (2.0.1)\n",
            "Requirement already satisfied: mistune<2,>=0.8.1 in /usr/local/lib/python3.7/dist-packages (from nbconvert->notebook>=4.4.1->widgetsnbextension~=3.5.0->ipywidgets<8.0.0,>=7.5.1->rich[jupyter]) (0.8.4)\n",
            "Requirement already satisfied: defusedxml in /usr/local/lib/python3.7/dist-packages (from nbconvert->notebook>=4.4.1->widgetsnbextension~=3.5.0->ipywidgets<8.0.0,>=7.5.1->rich[jupyter]) (0.7.1)\n",
            "Requirement already satisfied: entrypoints>=0.2.2 in /usr/local/lib/python3.7/dist-packages (from nbconvert->notebook>=4.4.1->widgetsnbextension~=3.5.0->ipywidgets<8.0.0,>=7.5.1->rich[jupyter]) (0.3)\n",
            "Requirement already satisfied: bleach in /usr/local/lib/python3.7/dist-packages (from nbconvert->notebook>=4.4.1->widgetsnbextension~=3.5.0->ipywidgets<8.0.0,>=7.5.1->rich[jupyter]) (4.1.0)\n",
            "Requirement already satisfied: pandocfilters>=1.4.1 in /usr/local/lib/python3.7/dist-packages (from nbconvert->notebook>=4.4.1->widgetsnbextension~=3.5.0->ipywidgets<8.0.0,>=7.5.1->rich[jupyter]) (1.5.0)\n",
            "Requirement already satisfied: testpath in /usr/local/lib/python3.7/dist-packages (from nbconvert->notebook>=4.4.1->widgetsnbextension~=3.5.0->ipywidgets<8.0.0,>=7.5.1->rich[jupyter]) (0.5.0)\n",
            "Requirement already satisfied: webencodings in /usr/local/lib/python3.7/dist-packages (from bleach->nbconvert->notebook>=4.4.1->widgetsnbextension~=3.5.0->ipywidgets<8.0.0,>=7.5.1->rich[jupyter]) (0.5.1)\n",
            "Requirement already satisfied: packaging in /usr/local/lib/python3.7/dist-packages (from bleach->nbconvert->notebook>=4.4.1->widgetsnbextension~=3.5.0->ipywidgets<8.0.0,>=7.5.1->rich[jupyter]) (21.3)\n",
            "Requirement already satisfied: pyparsing!=3.0.5,>=2.0.2 in /usr/local/lib/python3.7/dist-packages (from packaging->bleach->nbconvert->notebook>=4.4.1->widgetsnbextension~=3.5.0->ipywidgets<8.0.0,>=7.5.1->rich[jupyter]) (3.0.6)\n",
            "Installing collected packages: commonmark, colorama, rich\n",
            "Successfully installed colorama-0.4.4 commonmark-0.9.1 rich-10.15.1\n",
            "Collecting pytorch_lightning\n",
            "  Downloading pytorch_lightning-1.5.4-py3-none-any.whl (524 kB)\n",
            "\u001b[K     |████████████████████████████████| 524 kB 5.4 MB/s \n",
            "\u001b[?25hCollecting torchmetrics>=0.4.1\n",
            "  Downloading torchmetrics-0.6.0-py3-none-any.whl (329 kB)\n",
            "\u001b[K     |████████████████████████████████| 329 kB 49.6 MB/s \n",
            "\u001b[?25hRequirement already satisfied: tensorboard>=2.2.0 in /usr/local/lib/python3.7/dist-packages (from pytorch_lightning) (2.7.0)\n",
            "Requirement already satisfied: packaging>=17.0 in /usr/local/lib/python3.7/dist-packages (from pytorch_lightning) (21.3)\n",
            "Collecting pyDeprecate==0.3.1\n",
            "  Downloading pyDeprecate-0.3.1-py3-none-any.whl (10 kB)\n",
            "Requirement already satisfied: typing-extensions in /usr/local/lib/python3.7/dist-packages (from pytorch_lightning) (3.10.0.2)\n",
            "Requirement already satisfied: tqdm>=4.41.0 in /usr/local/lib/python3.7/dist-packages (from pytorch_lightning) (4.62.3)\n",
            "Collecting fsspec[http]!=2021.06.0,>=2021.05.0\n",
            "  Downloading fsspec-2021.11.1-py3-none-any.whl (132 kB)\n",
            "\u001b[K     |████████████████████████████████| 132 kB 42.9 MB/s \n",
            "\u001b[?25hRequirement already satisfied: torch>=1.7.* in /usr/local/lib/python3.7/dist-packages (from pytorch_lightning) (1.10.0+cu111)\n",
            "Collecting future>=0.17.1\n",
            "  Downloading future-0.18.2.tar.gz (829 kB)\n",
            "\u001b[K     |████████████████████████████████| 829 kB 39.0 MB/s \n",
            "\u001b[?25hRequirement already satisfied: numpy>=1.17.2 in /usr/local/lib/python3.7/dist-packages (from pytorch_lightning) (1.19.5)\n",
            "Requirement already satisfied: PyYAML>=5.1 in /usr/local/lib/python3.7/dist-packages (from pytorch_lightning) (6.0)\n",
            "Collecting aiohttp\n",
            "  Downloading aiohttp-3.8.1-cp37-cp37m-manylinux_2_5_x86_64.manylinux1_x86_64.manylinux_2_12_x86_64.manylinux2010_x86_64.whl (1.1 MB)\n",
            "\u001b[K     |████████████████████████████████| 1.1 MB 34.4 MB/s \n",
            "\u001b[?25hRequirement already satisfied: requests in /usr/local/lib/python3.7/dist-packages (from fsspec[http]!=2021.06.0,>=2021.05.0->pytorch_lightning) (2.23.0)\n",
            "Requirement already satisfied: pyparsing!=3.0.5,>=2.0.2 in /usr/local/lib/python3.7/dist-packages (from packaging>=17.0->pytorch_lightning) (3.0.6)\n",
            "Requirement already satisfied: protobuf>=3.6.0 in /usr/local/lib/python3.7/dist-packages (from tensorboard>=2.2.0->pytorch_lightning) (3.17.3)\n",
            "Requirement already satisfied: google-auth-oauthlib<0.5,>=0.4.1 in /usr/local/lib/python3.7/dist-packages (from tensorboard>=2.2.0->pytorch_lightning) (0.4.6)\n",
            "Requirement already satisfied: tensorboard-data-server<0.7.0,>=0.6.0 in /usr/local/lib/python3.7/dist-packages (from tensorboard>=2.2.0->pytorch_lightning) (0.6.1)\n",
            "Requirement already satisfied: grpcio>=1.24.3 in /usr/local/lib/python3.7/dist-packages (from tensorboard>=2.2.0->pytorch_lightning) (1.42.0)\n",
            "Requirement already satisfied: markdown>=2.6.8 in /usr/local/lib/python3.7/dist-packages (from tensorboard>=2.2.0->pytorch_lightning) (3.3.6)\n",
            "Requirement already satisfied: tensorboard-plugin-wit>=1.6.0 in /usr/local/lib/python3.7/dist-packages (from tensorboard>=2.2.0->pytorch_lightning) (1.8.0)\n",
            "Requirement already satisfied: google-auth<3,>=1.6.3 in /usr/local/lib/python3.7/dist-packages (from tensorboard>=2.2.0->pytorch_lightning) (1.35.0)\n",
            "Requirement already satisfied: setuptools>=41.0.0 in /usr/local/lib/python3.7/dist-packages (from tensorboard>=2.2.0->pytorch_lightning) (57.4.0)\n",
            "Requirement already satisfied: absl-py>=0.4 in /usr/local/lib/python3.7/dist-packages (from tensorboard>=2.2.0->pytorch_lightning) (0.12.0)\n",
            "Requirement already satisfied: werkzeug>=0.11.15 in /usr/local/lib/python3.7/dist-packages (from tensorboard>=2.2.0->pytorch_lightning) (1.0.1)\n",
            "Requirement already satisfied: wheel>=0.26 in /usr/local/lib/python3.7/dist-packages (from tensorboard>=2.2.0->pytorch_lightning) (0.37.0)\n",
            "Requirement already satisfied: six in /usr/local/lib/python3.7/dist-packages (from absl-py>=0.4->tensorboard>=2.2.0->pytorch_lightning) (1.15.0)\n",
            "Requirement already satisfied: rsa<5,>=3.1.4 in /usr/local/lib/python3.7/dist-packages (from google-auth<3,>=1.6.3->tensorboard>=2.2.0->pytorch_lightning) (4.8)\n",
            "Requirement already satisfied: cachetools<5.0,>=2.0.0 in /usr/local/lib/python3.7/dist-packages (from google-auth<3,>=1.6.3->tensorboard>=2.2.0->pytorch_lightning) (4.2.4)\n",
            "Requirement already satisfied: pyasn1-modules>=0.2.1 in /usr/local/lib/python3.7/dist-packages (from google-auth<3,>=1.6.3->tensorboard>=2.2.0->pytorch_lightning) (0.2.8)\n",
            "Requirement already satisfied: requests-oauthlib>=0.7.0 in /usr/local/lib/python3.7/dist-packages (from google-auth-oauthlib<0.5,>=0.4.1->tensorboard>=2.2.0->pytorch_lightning) (1.3.0)\n",
            "Requirement already satisfied: importlib-metadata>=4.4 in /usr/local/lib/python3.7/dist-packages (from markdown>=2.6.8->tensorboard>=2.2.0->pytorch_lightning) (4.8.2)\n",
            "Requirement already satisfied: zipp>=0.5 in /usr/local/lib/python3.7/dist-packages (from importlib-metadata>=4.4->markdown>=2.6.8->tensorboard>=2.2.0->pytorch_lightning) (3.6.0)\n",
            "Requirement already satisfied: pyasn1<0.5.0,>=0.4.6 in /usr/local/lib/python3.7/dist-packages (from pyasn1-modules>=0.2.1->google-auth<3,>=1.6.3->tensorboard>=2.2.0->pytorch_lightning) (0.4.8)\n",
            "Requirement already satisfied: certifi>=2017.4.17 in /usr/local/lib/python3.7/dist-packages (from requests->fsspec[http]!=2021.06.0,>=2021.05.0->pytorch_lightning) (2021.10.8)\n",
            "Requirement already satisfied: idna<3,>=2.5 in /usr/local/lib/python3.7/dist-packages (from requests->fsspec[http]!=2021.06.0,>=2021.05.0->pytorch_lightning) (2.10)\n",
            "Requirement already satisfied: chardet<4,>=3.0.2 in /usr/local/lib/python3.7/dist-packages (from requests->fsspec[http]!=2021.06.0,>=2021.05.0->pytorch_lightning) (3.0.4)\n",
            "Requirement already satisfied: urllib3!=1.25.0,!=1.25.1,<1.26,>=1.21.1 in /usr/local/lib/python3.7/dist-packages (from requests->fsspec[http]!=2021.06.0,>=2021.05.0->pytorch_lightning) (1.24.3)\n",
            "Requirement already satisfied: oauthlib>=3.0.0 in /usr/local/lib/python3.7/dist-packages (from requests-oauthlib>=0.7.0->google-auth-oauthlib<0.5,>=0.4.1->tensorboard>=2.2.0->pytorch_lightning) (3.1.1)\n",
            "Collecting aiosignal>=1.1.2\n",
            "  Downloading aiosignal-1.2.0-py3-none-any.whl (8.2 kB)\n",
            "Collecting async-timeout<5.0,>=4.0.0a3\n",
            "  Downloading async_timeout-4.0.1-py3-none-any.whl (5.7 kB)\n",
            "Requirement already satisfied: attrs>=17.3.0 in /usr/local/lib/python3.7/dist-packages (from aiohttp->fsspec[http]!=2021.06.0,>=2021.05.0->pytorch_lightning) (21.2.0)\n",
            "Requirement already satisfied: charset-normalizer<3.0,>=2.0 in /usr/local/lib/python3.7/dist-packages (from aiohttp->fsspec[http]!=2021.06.0,>=2021.05.0->pytorch_lightning) (2.0.8)\n",
            "Collecting multidict<7.0,>=4.5\n",
            "  Downloading multidict-5.2.0-cp37-cp37m-manylinux_2_5_x86_64.manylinux1_x86_64.manylinux_2_12_x86_64.manylinux2010_x86_64.whl (160 kB)\n",
            "\u001b[K     |████████████████████████████████| 160 kB 48.9 MB/s \n",
            "\u001b[?25hCollecting asynctest==0.13.0\n",
            "  Downloading asynctest-0.13.0-py3-none-any.whl (26 kB)\n",
            "Collecting yarl<2.0,>=1.0\n",
            "  Downloading yarl-1.7.2-cp37-cp37m-manylinux_2_5_x86_64.manylinux1_x86_64.manylinux_2_12_x86_64.manylinux2010_x86_64.whl (271 kB)\n",
            "\u001b[K     |████████████████████████████████| 271 kB 47.7 MB/s \n",
            "\u001b[?25hCollecting frozenlist>=1.1.1\n",
            "  Downloading frozenlist-1.2.0-cp37-cp37m-manylinux_2_5_x86_64.manylinux1_x86_64.manylinux_2_12_x86_64.manylinux2010_x86_64.whl (192 kB)\n",
            "\u001b[K     |████████████████████████████████| 192 kB 51.8 MB/s \n",
            "\u001b[?25hBuilding wheels for collected packages: future\n",
            "  Building wheel for future (setup.py) ... \u001b[?25l\u001b[?25hdone\n",
            "  Created wheel for future: filename=future-0.18.2-py3-none-any.whl size=491070 sha256=3ef6be2c05c2e4106965ea2b701cd9f1e4c11299f7ca349808c360e24bdc254a\n",
            "  Stored in directory: /root/.cache/pip/wheels/56/b0/fe/4410d17b32f1f0c3cf54cdfb2bc04d7b4b8f4ae377e2229ba0\n",
            "Successfully built future\n",
            "Installing collected packages: multidict, frozenlist, yarl, asynctest, async-timeout, aiosignal, fsspec, aiohttp, torchmetrics, pyDeprecate, future, pytorch-lightning\n",
            "  Attempting uninstall: future\n",
            "    Found existing installation: future 0.16.0\n",
            "    Uninstalling future-0.16.0:\n",
            "      Successfully uninstalled future-0.16.0\n",
            "Successfully installed aiohttp-3.8.1 aiosignal-1.2.0 async-timeout-4.0.1 asynctest-0.13.0 frozenlist-1.2.0 fsspec-2021.11.1 future-0.18.2 multidict-5.2.0 pyDeprecate-0.3.1 pytorch-lightning-1.5.4 torchmetrics-0.6.0 yarl-1.7.2\n",
            "Collecting SentencePiece\n",
            "  Downloading sentencepiece-0.1.96-cp37-cp37m-manylinux_2_17_x86_64.manylinux2014_x86_64.whl (1.2 MB)\n",
            "\u001b[K     |████████████████████████████████| 1.2 MB 5.3 MB/s \n",
            "\u001b[?25hInstalling collected packages: SentencePiece\n",
            "Successfully installed SentencePiece-0.1.96\n"
          ]
        }
      ]
    },
    {
      "cell_type": "code",
      "metadata": {
        "id": "laFwj75OktPr",
        "colab": {
          "base_uri": "https://localhost:8080/"
        },
        "outputId": "5ecfefd5-25f7-4202-b20a-403c5703e582"
      },
      "source": [
        "import pandas as pd\n",
        "import numpy as np\n",
        "import matplotlib.pyplot as plt\n",
        "import random\n",
        "from sklearn.model_selection import train_test_split\n",
        "\n",
        "import sys  \n",
        "sys.path.insert(0, '/content/drive/MyDrive/Colab Notebooks')\n",
        "import simplet5\n",
        "from simplet5 import SimpleT5\n",
        "import torch\n",
        "import torch.nn.functional as F\n",
        "from transformers import T5Tokenizer, T5ForConditionalGeneration\n",
        "\n",
        "from sklearn.metrics import f1_score\n"
      ],
      "execution_count": null,
      "outputs": [
        {
          "output_type": "stream",
          "name": "stderr",
          "text": [
            "Global seed set to 42\n"
          ]
        }
      ]
    },
    {
      "cell_type": "code",
      "metadata": {
        "id": "rfskYI5ZjQ4q"
      },
      "source": [
        "from torch import cuda\n",
        "\n",
        "device = 'cuda' if cuda.is_available() else 'cpu'"
      ],
      "execution_count": null,
      "outputs": []
    },
    {
      "cell_type": "markdown",
      "metadata": {
        "id": "NtZYna5fpOeX"
      },
      "source": [
        "# Load the Model (Baseline)"
      ]
    },
    {
      "cell_type": "code",
      "metadata": {
        "id": "PKSdWGEz2Jh7"
      },
      "source": [
        "model= SimpleT5()\n",
        "model_path = '/content/drive/MyDrive/ROCstory/output/T5base-epoch8-train-1.447.zip (Unzipped Files)/T5base-epoch8-train-1.447'\n",
        "model.load_model(\"t5\", model_path, use_gpu= True)"
      ],
      "execution_count": null,
      "outputs": []
    },
    {
      "cell_type": "markdown",
      "metadata": {
        "id": "OeaLAuQeuqQn"
      },
      "source": [
        "# Load val set"
      ]
    },
    {
      "cell_type": "code",
      "metadata": {
        "id": "CYhMekdew34f"
      },
      "source": [
        "val = pd.read_csv('/content/drive/MyDrive/ROCstory/data/cloze_test_val__winter2018-cloze_test_ALL_val.csv')"
      ],
      "execution_count": null,
      "outputs": []
    },
    {
      "cell_type": "code",
      "metadata": {
        "id": "oWvMvcrrquvO"
      },
      "source": [
        "val_output = []\n",
        "val_cols = ['InputSentence1', 'InputSentence2', 'InputSentence3', 'InputSentence4']\n",
        "val['combined'] = val[val_cols].apply(lambda row: ' '.join(row.values.astype(str)), axis=1)\n",
        "\n",
        "# use the model to generate the output\n",
        "for index, row in val.iterrows():\n",
        "  prediction = model.predict(row['combined'])\n",
        "  val_output.append(prediction)\n",
        "\n",
        "val['output']= val_output\n",
        "val = val.explode('output')"
      ],
      "execution_count": null,
      "outputs": []
    },
    {
      "cell_type": "code",
      "metadata": {
        "id": "2txOVrXhuepg",
        "colab": {
          "base_uri": "https://localhost:8080/",
          "height": 608
        },
        "outputId": "c355c153-d304-4efe-edd2-0ce777426f6a"
      },
      "source": [
        "val = val.explode('output')\n",
        "val.head()"
      ],
      "execution_count": null,
      "outputs": [
        {
          "output_type": "execute_result",
          "data": {
            "text/html": [
              "<div>\n",
              "<style scoped>\n",
              "    .dataframe tbody tr th:only-of-type {\n",
              "        vertical-align: middle;\n",
              "    }\n",
              "\n",
              "    .dataframe tbody tr th {\n",
              "        vertical-align: top;\n",
              "    }\n",
              "\n",
              "    .dataframe thead th {\n",
              "        text-align: right;\n",
              "    }\n",
              "</style>\n",
              "<table border=\"1\" class=\"dataframe\">\n",
              "  <thead>\n",
              "    <tr style=\"text-align: right;\">\n",
              "      <th></th>\n",
              "      <th>InputStoryid</th>\n",
              "      <th>InputSentence1</th>\n",
              "      <th>InputSentence2</th>\n",
              "      <th>InputSentence3</th>\n",
              "      <th>InputSentence4</th>\n",
              "      <th>RandomFifthSentenceQuiz1</th>\n",
              "      <th>RandomFifthSentenceQuiz2</th>\n",
              "      <th>AnswerRightEnding</th>\n",
              "      <th>combined</th>\n",
              "      <th>output</th>\n",
              "    </tr>\n",
              "  </thead>\n",
              "  <tbody>\n",
              "    <tr>\n",
              "      <th>0</th>\n",
              "      <td>138d5bfb-05cc-41e3-bf2c-fa85ebad14e2</td>\n",
              "      <td>Rick grew up in a troubled household.</td>\n",
              "      <td>He never found good support in family, and tur...</td>\n",
              "      <td>It wasn't long before Rick got shot in a robbery.</td>\n",
              "      <td>The incident caused him to turn a new leaf.</td>\n",
              "      <td>He is happy now.</td>\n",
              "      <td>He joined a gang.</td>\n",
              "      <td>1</td>\n",
              "      <td>Rick grew up in a troubled household. He never...</td>\n",
              "      <td>He started his own gang.</td>\n",
              "    </tr>\n",
              "    <tr>\n",
              "      <th>1</th>\n",
              "      <td>bff9f820-9605-4875-b9af-fe6f14d04256</td>\n",
              "      <td>Laverne needs to prepare something for her fri...</td>\n",
              "      <td>She decides to bake a batch of brownies.</td>\n",
              "      <td>She chooses a recipe and follows it closely.</td>\n",
              "      <td>Laverne tests one of the brownies to make sure...</td>\n",
              "      <td>The brownies are so delicious Laverne eats two...</td>\n",
              "      <td>Laverne doesn't go to her friend's party.</td>\n",
              "      <td>1</td>\n",
              "      <td>Laverne needs to prepare something for her fri...</td>\n",
              "      <td>Laverne is happy that she prepared something f...</td>\n",
              "    </tr>\n",
              "    <tr>\n",
              "      <th>2</th>\n",
              "      <td>e8f628d5-9f97-40ed-8611-fc0e774673c4</td>\n",
              "      <td>Sarah had been dreaming of visiting Europe for...</td>\n",
              "      <td>She had finally saved enough for the trip.</td>\n",
              "      <td>She landed in Spain and traveled east across t...</td>\n",
              "      <td>She didn't like how different everything was.</td>\n",
              "      <td>Sarah then decided to move to Europe.</td>\n",
              "      <td>Sarah decided that she preferred her home over...</td>\n",
              "      <td>2</td>\n",
              "      <td>Sarah had been dreaming of visiting Europe for...</td>\n",
              "      <td>Sarah decided to stay in Spain until she could...</td>\n",
              "    </tr>\n",
              "    <tr>\n",
              "      <th>3</th>\n",
              "      <td>f5226bfe-9f26-4377-b05f-3d9568dbdec1</td>\n",
              "      <td>Gina was worried the cookie dough in the tube ...</td>\n",
              "      <td>She was very happy to find she was wrong.</td>\n",
              "      <td>The cookies from the tube were as good as from...</td>\n",
              "      <td>Gina intended to only eat 2 cookies and save t...</td>\n",
              "      <td>Gina liked the cookies so much she ate them al...</td>\n",
              "      <td>Gina gave the cookies away at her church.</td>\n",
              "      <td>1</td>\n",
              "      <td>Gina was worried the cookie dough in the tube ...</td>\n",
              "      <td>But she ended up eating more than one.</td>\n",
              "    </tr>\n",
              "    <tr>\n",
              "      <th>4</th>\n",
              "      <td>69ac9b05-b956-402f-9fff-1f926ef9176b</td>\n",
              "      <td>It was  my final performance in marching band.</td>\n",
              "      <td>I was playing the snare drum in the band.</td>\n",
              "      <td>We played Thriller and Radar Love.</td>\n",
              "      <td>The performance was flawless.</td>\n",
              "      <td>I was very proud of my performance.</td>\n",
              "      <td>I was very ashamed of my performance.</td>\n",
              "      <td>1</td>\n",
              "      <td>It was  my final performance in marching band....</td>\n",
              "      <td>I was very proud of myself.</td>\n",
              "    </tr>\n",
              "  </tbody>\n",
              "</table>\n",
              "</div>"
            ],
            "text/plain": [
              "                           InputStoryid  ...                                             output\n",
              "0  138d5bfb-05cc-41e3-bf2c-fa85ebad14e2  ...                           He started his own gang.\n",
              "1  bff9f820-9605-4875-b9af-fe6f14d04256  ...  Laverne is happy that she prepared something f...\n",
              "2  e8f628d5-9f97-40ed-8611-fc0e774673c4  ...  Sarah decided to stay in Spain until she could...\n",
              "3  f5226bfe-9f26-4377-b05f-3d9568dbdec1  ...             But she ended up eating more than one.\n",
              "4  69ac9b05-b956-402f-9fff-1f926ef9176b  ...                        I was very proud of myself.\n",
              "\n",
              "[5 rows x 10 columns]"
            ]
          },
          "metadata": {},
          "execution_count": 69
        }
      ]
    },
    {
      "cell_type": "markdown",
      "metadata": {
        "id": "9fn70IKybMjs"
      },
      "source": [
        "# T5 similiarity score"
      ]
    },
    {
      "cell_type": "code",
      "metadata": {
        "id": "X2KZDsHl2Z91"
      },
      "source": [
        "# load T5 pretained base model\n",
        "from transformers import T5Tokenizer, T5ForConditionalGeneration\n",
        "tokenizer = T5Tokenizer.from_pretrained(\"t5-base\")\n",
        "model = T5ForConditionalGeneration.from_pretrained(\"t5-base\")\n",
        "\n",
        "# apply T5 similarity score\n",
        "def T5_similarity (y, O):\n",
        "  input_ids = tokenizer('stsb sentence1: ' + y + ' sentence2: ' + O, return_tensors = 'pt').input_ids\n",
        "  outputs = model.generate(input_ids)\n",
        "  return tokenizer.decode(outputs[0], skip_special_tokens=True)\n"
      ],
      "execution_count": null,
      "outputs": []
    },
    {
      "cell_type": "code",
      "metadata": {
        "id": "X1USsP6YRv1U"
      },
      "source": [
        "def T5_max (y, O1, O2):\n",
        "  score1 = T5_similarity(y, O1)\n",
        "  score2 = T5_similarity(y, O2)\n",
        "\n",
        "  choice = 1 if score1 > score2 else 2\n",
        "  return choice"
      ],
      "execution_count": null,
      "outputs": []
    },
    {
      "cell_type": "code",
      "metadata": {
        "id": "WQorVdIHD8WB"
      },
      "source": [
        "val['T5_SS1'] = val.apply(lambda x: T5_similarity(x['output'],x['RandomFifthSentenceQuiz1']), axis=1)\n",
        "val['T5_SS2'] = val.apply(lambda x: T5_similarity(x['output'],x['RandomFifthSentenceQuiz2']), axis=1)\n",
        "val['T5_result'] = val.apply(lambda x: T5_max(x['output'],x['RandomFifthSentenceQuiz1'], x['RandomFifthSentenceQuiz2']), axis=1)"
      ],
      "execution_count": null,
      "outputs": []
    },
    {
      "cell_type": "code",
      "metadata": {
        "id": "a-HrevhgxWrJ",
        "colab": {
          "base_uri": "https://localhost:8080/"
        },
        "outputId": "f0e5d374-22eb-436f-c51e-b24d192b6145"
      },
      "source": [
        "val_acc_t5 = np.sum(val['T5_result'] == val['AnswerRightEnding'])/len(val['T5_result'])\n",
        "val_f1_t5 = f1_score(val['AnswerRightEnding'], val['T5_result'])\n",
        "print('T5 Acc:', val_acc_t5)\n",
        "print('T5 F1 Score:', val_f1_t5)"
      ],
      "execution_count": null,
      "outputs": [
        {
          "output_type": "stream",
          "name": "stdout",
          "text": [
            "T5 Acc 0.7021005728835137\n",
            "T5 F1 Score 0.6633093525179856\n"
          ]
        }
      ]
    },
    {
      "cell_type": "markdown",
      "metadata": {
        "id": "tZ9eidf3rIZh"
      },
      "source": [
        "# Universal Sentence Encoder"
      ]
    },
    {
      "cell_type": "code",
      "metadata": {
        "id": "dTkdFCFA3AFK",
        "colab": {
          "base_uri": "https://localhost:8080/"
        },
        "outputId": "5d301483-e727-4c41-fff9-dbfac4057809"
      },
      "source": [
        "#Load the Universal Sentence Encoder's TF Hub module\n",
        "from absl import logging\n",
        "\n",
        "import tensorflow as tf\n",
        "\n",
        "import tensorflow_hub as hub\n",
        "import matplotlib.pyplot as plt\n",
        "import numpy as np\n",
        "import os\n",
        "import pandas as pd\n",
        "import re\n",
        "import seaborn as sns\n",
        "\n",
        "module_url = \"https://tfhub.dev/google/universal-sentence-encoder/4\" #@param [\"https://tfhub.dev/google/universal-sentence-encoder/4\", \"https://tfhub.dev/google/universal-sentence-encoder-large/5\"]\n",
        "model = hub.load(module_url)\n",
        "print (\"module %s loaded\" % module_url)\n",
        "def embed(input):\n",
        "  return model(input)"
      ],
      "execution_count": null,
      "outputs": [
        {
          "output_type": "stream",
          "name": "stdout",
          "text": [
            "module https://tfhub.dev/google/universal-sentence-encoder/4 loaded\n"
          ]
        }
      ]
    },
    {
      "cell_type": "code",
      "metadata": {
        "id": "fleEzYhTfpvF"
      },
      "source": [
        "def plot_similarity(labels, features, rotation):\n",
        "  corr = np.inner(features, features)\n",
        "  print(corr)\n",
        "  sns.set(font_scale=1.2)\n",
        "  g = sns.heatmap(\n",
        "      corr,\n",
        "      xticklabels=labels,\n",
        "      yticklabels=labels,\n",
        "      vmin=0,\n",
        "      vmax=1,\n",
        "      cmap=\"YlOrRd\")\n",
        "  g.set_xticklabels(labels, rotation=rotation)\n",
        "  g.set_title(\"Semantic Textual Similarity\")\n",
        "\n",
        "def run_and_plot(messages_):\n",
        "  message_embeddings_ = embed(messages_)\n",
        "  plot_similarity(messages_, message_embeddings_, 90)\n",
        "\n",
        "def USE_similarity(messages_):\n",
        "  message_embeddings_ = embed(messages_)\n",
        "  corr = np.inner( message_embeddings_, message_embeddings_)\n",
        "  score1 = corr[0][1]\n",
        "  score2 = corr[0][2]\n",
        "  choice = 1 if score1 > score2 else 2\n",
        "\n",
        "  return (score1, score2, choice)"
      ],
      "execution_count": null,
      "outputs": []
    },
    {
      "cell_type": "code",
      "metadata": {
        "id": "weyXNdztrUhI"
      },
      "source": [
        "val['messages'] = val.apply(lambda x: list([x['output'],\n",
        "                                        x['RandomFifthSentenceQuiz1'],\n",
        "                                        x['RandomFifthSentenceQuiz2']]),axis=1) \n",
        "val['USE_similarity'] = val.apply(lambda x: USE_similarity(x['messages']), axis=1)\n",
        "\n",
        "\n",
        "val.loc[:,'SS1_USE']=val.USE_similarity.map(lambda x:x[0])\n",
        "val.loc[:,'SS2_USE']=val.USE_similarity.map(lambda x:x[1])\n",
        "val.loc[:,'result_USE']=val.USE_similarity.map(lambda x:x[2])\n"
      ],
      "execution_count": null,
      "outputs": []
    },
    {
      "cell_type": "code",
      "metadata": {
        "id": "q7iy_0L-9YrT"
      },
      "source": [
        "val_acc_USE = np.sum(val['result_USE'] == val['AnswerRightEnding'])/len(val['result_USE'])\n",
        "val_f1_USE = f1_score(val['AnswerRightEnding'], val['result_USE'])"
      ],
      "execution_count": null,
      "outputs": []
    },
    {
      "cell_type": "code",
      "metadata": {
        "id": "UICyNoXALGjf",
        "colab": {
          "base_uri": "https://localhost:8080/",
          "height": 81
        },
        "outputId": "774c2c8a-3d51-4ba8-ad19-f3f64c8c79eb"
      },
      "source": [
        "from datetime import datetime\n",
        "\n",
        "# datetime object containing current date and time\n",
        "now = datetime.now()\n",
        "\n",
        "# put in dataframe\n",
        "pd.DataFrame([[now, val_acc_t5,val_f1_t5, val_acc_USE, val_f1_USE]],\n",
        "             columns=['Data','T5 Acc','T5 F1', 'USE Acc', 'USE F1' ])"
      ],
      "execution_count": null,
      "outputs": [
        {
          "output_type": "execute_result",
          "data": {
            "text/html": [
              "<div>\n",
              "<style scoped>\n",
              "    .dataframe tbody tr th:only-of-type {\n",
              "        vertical-align: middle;\n",
              "    }\n",
              "\n",
              "    .dataframe tbody tr th {\n",
              "        vertical-align: top;\n",
              "    }\n",
              "\n",
              "    .dataframe thead th {\n",
              "        text-align: right;\n",
              "    }\n",
              "</style>\n",
              "<table border=\"1\" class=\"dataframe\">\n",
              "  <thead>\n",
              "    <tr style=\"text-align: right;\">\n",
              "      <th></th>\n",
              "      <th>Data</th>\n",
              "      <th>T5 Acc</th>\n",
              "      <th>T5 F1</th>\n",
              "      <th>USE Acc</th>\n",
              "      <th>USE F1</th>\n",
              "    </tr>\n",
              "  </thead>\n",
              "  <tbody>\n",
              "    <tr>\n",
              "      <th>0</th>\n",
              "      <td>2021-11-26 19:41:11.142924</td>\n",
              "      <td>0.702101</td>\n",
              "      <td>0.663309</td>\n",
              "      <td>0.647995</td>\n",
              "      <td>0.655022</td>\n",
              "    </tr>\n",
              "  </tbody>\n",
              "</table>\n",
              "</div>"
            ],
            "text/plain": [
              "                        Data    T5 Acc     T5 F1   USE Acc    USE F1\n",
              "0 2021-11-26 19:41:11.142924  0.702101  0.663309  0.647995  0.655022"
            ]
          },
          "metadata": {},
          "execution_count": 79
        }
      ]
    },
    {
      "cell_type": "code",
      "metadata": {
        "id": "stG7uFS26qbz"
      },
      "source": [
        "val.to_csv( '/content/drive/MyDrive/ROCstory/output/T5base_epoch8_val.csv')\n",
        "# val_5.to_csv( '/content/drive/MyDrive/ROCstory/output/epoch8_val_5output.csv')"
      ],
      "execution_count": null,
      "outputs": []
    },
    {
      "cell_type": "markdown",
      "metadata": {
        "id": "ZBVk0l0Ac3oi"
      },
      "source": [
        "# Error Analysis"
      ]
    },
    {
      "cell_type": "markdown",
      "metadata": {
        "id": "sM5KoYQYc9_R"
      },
      "source": [
        "* Categorize the right/wrong prediction\n",
        "* Bucket rows base on the difference between the similarity scores (T5 & USE)\n",
        "* Random select 20 examples to do error analysis"
      ]
    },
    {
      "cell_type": "markdown",
      "metadata": {
        "id": "tM4gEEpnENEk"
      },
      "source": [
        "# USE Similarity Scores"
      ]
    },
    {
      "cell_type": "code",
      "metadata": {
        "id": "DXFioAnidiQb"
      },
      "source": [
        "val['diff_USE'] = val['SS1_USE'] - val['SS2_USE']\n",
        "val['final_result_USE'] = (val['result_USE'] != val['AnswerRightEnding'])\n",
        "val['final_result_USE'] = (val['result_USE'] == val['AnswerRightEnding'])"
      ],
      "execution_count": null,
      "outputs": []
    },
    {
      "cell_type": "markdown",
      "metadata": {
        "id": "MNJls2a3tOlb"
      },
      "source": [
        "Final_result_USE to identify if the prediction is correct or not. True represents \"Right prediction\" and False represnets \"Wrong prediction\"."
      ]
    },
    {
      "cell_type": "code",
      "metadata": {
        "colab": {
          "base_uri": "https://localhost:8080/",
          "height": 1000
        },
        "id": "UNKMcIXo0IaU",
        "outputId": "a4ff59dd-3b34-41c6-b772-b8854ad2d572"
      },
      "source": [
        "# check examples that is predicted right\n",
        "val[val['final_result_USE']==True].head()"
      ],
      "execution_count": null,
      "outputs": [
        {
          "output_type": "execute_result",
          "data": {
            "text/html": [
              "<div>\n",
              "<style scoped>\n",
              "    .dataframe tbody tr th:only-of-type {\n",
              "        vertical-align: middle;\n",
              "    }\n",
              "\n",
              "    .dataframe tbody tr th {\n",
              "        vertical-align: top;\n",
              "    }\n",
              "\n",
              "    .dataframe thead th {\n",
              "        text-align: right;\n",
              "    }\n",
              "</style>\n",
              "<table border=\"1\" class=\"dataframe\">\n",
              "  <thead>\n",
              "    <tr style=\"text-align: right;\">\n",
              "      <th></th>\n",
              "      <th>InputStoryid</th>\n",
              "      <th>InputSentence1</th>\n",
              "      <th>InputSentence2</th>\n",
              "      <th>InputSentence3</th>\n",
              "      <th>InputSentence4</th>\n",
              "      <th>RandomFifthSentenceQuiz1</th>\n",
              "      <th>RandomFifthSentenceQuiz2</th>\n",
              "      <th>AnswerRightEnding</th>\n",
              "      <th>combined</th>\n",
              "      <th>output</th>\n",
              "      <th>T5_SS1</th>\n",
              "      <th>T5_SS2</th>\n",
              "      <th>T5_result</th>\n",
              "      <th>messages</th>\n",
              "      <th>USE_similarity</th>\n",
              "      <th>SS1_USE</th>\n",
              "      <th>SS2_USE</th>\n",
              "      <th>result_USE</th>\n",
              "      <th>diff_USE</th>\n",
              "      <th>final_result_USE</th>\n",
              "    </tr>\n",
              "  </thead>\n",
              "  <tbody>\n",
              "    <tr>\n",
              "      <th>2</th>\n",
              "      <td>e8f628d5-9f97-40ed-8611-fc0e774673c4</td>\n",
              "      <td>Sarah had been dreaming of visiting Europe for...</td>\n",
              "      <td>She had finally saved enough for the trip.</td>\n",
              "      <td>She landed in Spain and traveled east across t...</td>\n",
              "      <td>She didn't like how different everything was.</td>\n",
              "      <td>Sarah then decided to move to Europe.</td>\n",
              "      <td>Sarah decided that she preferred her home over...</td>\n",
              "      <td>2</td>\n",
              "      <td>Sarah had been dreaming of visiting Europe for...</td>\n",
              "      <td>Sarah decided to stay in Spain until she could...</td>\n",
              "      <td>1.6</td>\n",
              "      <td>1.6</td>\n",
              "      <td>2</td>\n",
              "      <td>[Sarah decided to stay in Spain until she coul...</td>\n",
              "      <td>(0.5864828, 0.62492394, 2)</td>\n",
              "      <td>0.586483</td>\n",
              "      <td>0.624924</td>\n",
              "      <td>2</td>\n",
              "      <td>-0.038441</td>\n",
              "      <td>True</td>\n",
              "    </tr>\n",
              "    <tr>\n",
              "      <th>3</th>\n",
              "      <td>f5226bfe-9f26-4377-b05f-3d9568dbdec1</td>\n",
              "      <td>Gina was worried the cookie dough in the tube ...</td>\n",
              "      <td>She was very happy to find she was wrong.</td>\n",
              "      <td>The cookies from the tube were as good as from...</td>\n",
              "      <td>Gina intended to only eat 2 cookies and save t...</td>\n",
              "      <td>Gina liked the cookies so much she ate them al...</td>\n",
              "      <td>Gina gave the cookies away at her church.</td>\n",
              "      <td>1</td>\n",
              "      <td>Gina was worried the cookie dough in the tube ...</td>\n",
              "      <td>But she ended up eating more than one.</td>\n",
              "      <td>1.6</td>\n",
              "      <td>0.0</td>\n",
              "      <td>1</td>\n",
              "      <td>[But she ended up eating more than one., Gina ...</td>\n",
              "      <td>(0.35522628, 0.19196668, 1)</td>\n",
              "      <td>0.355226</td>\n",
              "      <td>0.191967</td>\n",
              "      <td>1</td>\n",
              "      <td>0.163260</td>\n",
              "      <td>True</td>\n",
              "    </tr>\n",
              "    <tr>\n",
              "      <th>4</th>\n",
              "      <td>69ac9b05-b956-402f-9fff-1f926ef9176b</td>\n",
              "      <td>It was  my final performance in marching band.</td>\n",
              "      <td>I was playing the snare drum in the band.</td>\n",
              "      <td>We played Thriller and Radar Love.</td>\n",
              "      <td>The performance was flawless.</td>\n",
              "      <td>I was very proud of my performance.</td>\n",
              "      <td>I was very ashamed of my performance.</td>\n",
              "      <td>1</td>\n",
              "      <td>It was  my final performance in marching band....</td>\n",
              "      <td>I was very proud of myself.</td>\n",
              "      <td>4.0</td>\n",
              "      <td>0.8</td>\n",
              "      <td>1</td>\n",
              "      <td>[I was very proud of myself., I was very proud...</td>\n",
              "      <td>(0.79966307, 0.59727407, 1)</td>\n",
              "      <td>0.799663</td>\n",
              "      <td>0.597274</td>\n",
              "      <td>1</td>\n",
              "      <td>0.202389</td>\n",
              "      <td>True</td>\n",
              "    </tr>\n",
              "    <tr>\n",
              "      <th>5</th>\n",
              "      <td>d80cabdd-7a85-47e3-86be-5ce6591ca51e</td>\n",
              "      <td>Jim found an old disposable camera in the bott...</td>\n",
              "      <td>He began snapping away at everything around him.</td>\n",
              "      <td>The counter clicked down to one final photo.</td>\n",
              "      <td>The gravity of the situation began to dawn on ...</td>\n",
              "      <td>Jim took time to decide what he would take a p...</td>\n",
              "      <td>Jim took 20 more photos.</td>\n",
              "      <td>1</td>\n",
              "      <td>Jim found an old disposable camera in the bott...</td>\n",
              "      <td>He decided to throw the camera away and get a ...</td>\n",
              "      <td>1.6</td>\n",
              "      <td>0.4</td>\n",
              "      <td>1</td>\n",
              "      <td>[He decided to throw the camera away and get a...</td>\n",
              "      <td>(0.2797524, 0.16121793, 1)</td>\n",
              "      <td>0.279752</td>\n",
              "      <td>0.161218</td>\n",
              "      <td>1</td>\n",
              "      <td>0.118534</td>\n",
              "      <td>True</td>\n",
              "    </tr>\n",
              "    <tr>\n",
              "      <th>7</th>\n",
              "      <td>e17053ac-2046-48c8-a7a2-7b9509c10e64</td>\n",
              "      <td>John and Billy became very skilled at beer pong.</td>\n",
              "      <td>They entered a contest in college.</td>\n",
              "      <td>They won the contest and advanced to the next ...</td>\n",
              "      <td>The next level sent them to Vegas.</td>\n",
              "      <td>In Vegas, John and Billy competed against eigh...</td>\n",
              "      <td>John and Billy were disappointed.</td>\n",
              "      <td>1</td>\n",
              "      <td>John and Billy became very skilled at beer pon...</td>\n",
              "      <td>They won the contest and went on to win a gold...</td>\n",
              "      <td>1.4</td>\n",
              "      <td>0.4</td>\n",
              "      <td>1</td>\n",
              "      <td>[They won the contest and went on to win a gol...</td>\n",
              "      <td>(0.37079614, 0.068423934, 1)</td>\n",
              "      <td>0.370796</td>\n",
              "      <td>0.068424</td>\n",
              "      <td>1</td>\n",
              "      <td>0.302372</td>\n",
              "      <td>True</td>\n",
              "    </tr>\n",
              "    <tr>\n",
              "      <th>...</th>\n",
              "      <td>...</td>\n",
              "      <td>...</td>\n",
              "      <td>...</td>\n",
              "      <td>...</td>\n",
              "      <td>...</td>\n",
              "      <td>...</td>\n",
              "      <td>...</td>\n",
              "      <td>...</td>\n",
              "      <td>...</td>\n",
              "      <td>...</td>\n",
              "      <td>...</td>\n",
              "      <td>...</td>\n",
              "      <td>...</td>\n",
              "      <td>...</td>\n",
              "      <td>...</td>\n",
              "      <td>...</td>\n",
              "      <td>...</td>\n",
              "      <td>...</td>\n",
              "      <td>...</td>\n",
              "      <td>...</td>\n",
              "    </tr>\n",
              "    <tr>\n",
              "      <th>1562</th>\n",
              "      <td>b5bc0ca6-03b0-43c0-8114-20186b5f783b</td>\n",
              "      <td>Trudey wanted to write novels for a living.</td>\n",
              "      <td>She wrote one through traditional publishing m...</td>\n",
              "      <td>It barely made enough to cover the advance she...</td>\n",
              "      <td>She wrote another through self-publishing aven...</td>\n",
              "      <td>Trudey hoped self-publishing would be more pro...</td>\n",
              "      <td>Trudey called her sister and asked her to come...</td>\n",
              "      <td>1</td>\n",
              "      <td>Trudey wanted to write novels for a living. Sh...</td>\n",
              "      <td>Trudey was able to make a decent living doing ...</td>\n",
              "      <td>0.8</td>\n",
              "      <td>0.4</td>\n",
              "      <td>1</td>\n",
              "      <td>[Trudey was able to make a decent living doing...</td>\n",
              "      <td>(0.3290478, 0.14333567, 1)</td>\n",
              "      <td>0.329048</td>\n",
              "      <td>0.143336</td>\n",
              "      <td>1</td>\n",
              "      <td>0.185712</td>\n",
              "      <td>True</td>\n",
              "    </tr>\n",
              "    <tr>\n",
              "      <th>1563</th>\n",
              "      <td>d9dde843-ee66-4dca-820a-c3d489ba586f</td>\n",
              "      <td>Oliver was nervous about his wedding.</td>\n",
              "      <td>He was worried that he would stutter during th...</td>\n",
              "      <td>When the time came, he took a deep breath and ...</td>\n",
              "      <td>He stuttered, but his wife smiled and hugged h...</td>\n",
              "      <td>Oliver decided to not get married.</td>\n",
              "      <td>Oliver was so grateful for his wife's love.</td>\n",
              "      <td>2</td>\n",
              "      <td>Oliver was nervous about his wedding. He was w...</td>\n",
              "      <td>Oliver was happy to have his wedding day off!</td>\n",
              "      <td>0.8</td>\n",
              "      <td>1.6</td>\n",
              "      <td>2</td>\n",
              "      <td>[Oliver was happy to have his wedding day off!...</td>\n",
              "      <td>(0.6781114, 0.7013025, 2)</td>\n",
              "      <td>0.678111</td>\n",
              "      <td>0.701303</td>\n",
              "      <td>2</td>\n",
              "      <td>-0.023191</td>\n",
              "      <td>True</td>\n",
              "    </tr>\n",
              "    <tr>\n",
              "      <th>1566</th>\n",
              "      <td>9cba37ea-cc3e-4775-b044-c3d3d4983d22</td>\n",
              "      <td>When I was a kid I really wanted to play check...</td>\n",
              "      <td>I sat down with my grandpa and he taught me.</td>\n",
              "      <td>At first, he was just teaching me but it becam...</td>\n",
              "      <td>As I got older, I continued to play checkers w...</td>\n",
              "      <td>To this day I hate checkers.</td>\n",
              "      <td>I have very fond memories of checkers.</td>\n",
              "      <td>2</td>\n",
              "      <td>When I was a kid I really wanted to play check...</td>\n",
              "      <td>I am still very happy to play with my grandpa.</td>\n",
              "      <td>0.0</td>\n",
              "      <td>0.4</td>\n",
              "      <td>2</td>\n",
              "      <td>[I am still very happy to play with my grandpa...</td>\n",
              "      <td>(0.19260362, 0.22691521, 2)</td>\n",
              "      <td>0.192604</td>\n",
              "      <td>0.226915</td>\n",
              "      <td>2</td>\n",
              "      <td>-0.034312</td>\n",
              "      <td>True</td>\n",
              "    </tr>\n",
              "    <tr>\n",
              "      <th>1567</th>\n",
              "      <td>a0769cd4-45a0-492c-a566-b14b9b17cba6</td>\n",
              "      <td>Ivy wanted a cell phone like all her friends.</td>\n",
              "      <td>She saved up her money from delivering papers.</td>\n",
              "      <td>Soon she had enough for a phone.</td>\n",
              "      <td>She went shopping and selected the perfect phone.</td>\n",
              "      <td>Amy spent all of her money on clothes.</td>\n",
              "      <td>She loved her new phone.</td>\n",
              "      <td>2</td>\n",
              "      <td>Ivy wanted a cell phone like all her friends. ...</td>\n",
              "      <td>Ivy was happy to have a phone like her friends.</td>\n",
              "      <td>0.0</td>\n",
              "      <td>3.2</td>\n",
              "      <td>2</td>\n",
              "      <td>[Ivy was happy to have a phone like her friend...</td>\n",
              "      <td>(0.21376722, 0.4057815, 2)</td>\n",
              "      <td>0.213767</td>\n",
              "      <td>0.405782</td>\n",
              "      <td>2</td>\n",
              "      <td>-0.192014</td>\n",
              "      <td>True</td>\n",
              "    </tr>\n",
              "    <tr>\n",
              "      <th>1570</th>\n",
              "      <td>34ddd737-0709-4fc7-b64b-6c43eaf9f48c</td>\n",
              "      <td>I wanted to buy a video game console.</td>\n",
              "      <td>I asked my parents, and they came up with an i...</td>\n",
              "      <td>They said if I did my chores, I would be given...</td>\n",
              "      <td>I did my chores without being asked every week...</td>\n",
              "      <td>My parents gave me enough money to buy the con...</td>\n",
              "      <td>At the end of the summer I gave the money back...</td>\n",
              "      <td>1</td>\n",
              "      <td>I wanted to buy a video game console. I asked ...</td>\n",
              "      <td>Now I have enough money to buy the console!</td>\n",
              "      <td>3.2</td>\n",
              "      <td>0.0</td>\n",
              "      <td>1</td>\n",
              "      <td>[Now I have enough money to buy the console!, ...</td>\n",
              "      <td>(0.7188127, 0.20231207, 1)</td>\n",
              "      <td>0.718813</td>\n",
              "      <td>0.202312</td>\n",
              "      <td>1</td>\n",
              "      <td>0.516501</td>\n",
              "      <td>True</td>\n",
              "    </tr>\n",
              "  </tbody>\n",
              "</table>\n",
              "<p>1018 rows × 20 columns</p>\n",
              "</div>"
            ],
            "text/plain": [
              "                              InputStoryid  ... final_result_USE\n",
              "2     e8f628d5-9f97-40ed-8611-fc0e774673c4  ...             True\n",
              "3     f5226bfe-9f26-4377-b05f-3d9568dbdec1  ...             True\n",
              "4     69ac9b05-b956-402f-9fff-1f926ef9176b  ...             True\n",
              "5     d80cabdd-7a85-47e3-86be-5ce6591ca51e  ...             True\n",
              "7     e17053ac-2046-48c8-a7a2-7b9509c10e64  ...             True\n",
              "...                                    ...  ...              ...\n",
              "1562  b5bc0ca6-03b0-43c0-8114-20186b5f783b  ...             True\n",
              "1563  d9dde843-ee66-4dca-820a-c3d489ba586f  ...             True\n",
              "1566  9cba37ea-cc3e-4775-b044-c3d3d4983d22  ...             True\n",
              "1567  a0769cd4-45a0-492c-a566-b14b9b17cba6  ...             True\n",
              "1570  34ddd737-0709-4fc7-b64b-6c43eaf9f48c  ...             True\n",
              "\n",
              "[1018 rows x 20 columns]"
            ]
          },
          "metadata": {},
          "execution_count": 89
        }
      ]
    },
    {
      "cell_type": "code",
      "metadata": {
        "colab": {
          "base_uri": "https://localhost:8080/",
          "height": 458
        },
        "id": "cZP7SQssLnP9",
        "outputId": "3c07cba3-09a4-4c0e-ba9e-f4504e3a4e1a"
      },
      "source": [
        "# plot the Distribution of USE Simiarity Score between output and Ending1|2 (Figure 6 in the research paper)\n",
        "fig, ax = plt.subplots(figsize =(10, 7))\n",
        "ax.hist([val['SS1_USE'],val['SS2_USE']],\n",
        "        label = ['USE Similarity Score with Ending 1', 'USE Similarity Score with Ending 2'],\n",
        "        color=['c','y'],\n",
        "        alpha=0.5)\n",
        "plt.legend(loc='upper right')\n",
        "\n",
        "plt.title('Distribution of USE Simiarity Score between output and Ending1|2')\n",
        "plt.xlabel('score')\n",
        "plt.ylabel('counts')\n",
        "# Show plot\n",
        "plt.show()"
      ],
      "execution_count": null,
      "outputs": [
        {
          "output_type": "display_data",
          "data": {
            "image/png": "[encoded data removed]",
            "text/plain": [
              "<Figure size 720x504 with 1 Axes>"
            ]
          },
          "metadata": {
            "needs_background": "light"
          }
        }
      ]
    },
    {
      "cell_type": "code",
      "metadata": {
        "colab": {
          "base_uri": "https://localhost:8080/",
          "height": 515
        },
        "id": "G_iVEdNIdw_R",
        "outputId": "12f11325-6e06-4575-b4c5-761e9f4364cd"
      },
      "source": [
        "# plot the Difference between 2 USE Simiarity Scores by right | wrong prediction (Figure 7 in the research paper)\n",
        "fig, ax = plt.subplots(figsize =(10, 7))\n",
        "ax.hist([val[val['final_result_USE']==True]['diff_USE'],val[val['final_result_USE']==False]['diff_USE']],\n",
        "        label = ['Right Prediction', 'Wrong Prediction'],\n",
        "        color=['g','r'],\n",
        "        alpha=0.5)\n",
        "plt.legend(loc='upper right')\n",
        "\n",
        "plt.title('Difference between 2 USE Simiarity Scores by right | wrong prediction')\n",
        "plt.xlabel('score')\n",
        "plt.ylabel('counts')\n",
        " \n",
        "# Show plot\n",
        "plt.show()"
      ],
      "execution_count": null,
      "outputs": [
        {
          "output_type": "stream",
          "name": "stderr",
          "text": [
            "/usr/local/lib/python3.7/dist-packages/numpy/core/_asarray.py:83: VisibleDeprecationWarning: Creating an ndarray from ragged nested sequences (which is a list-or-tuple of lists-or-tuples-or ndarrays with different lengths or shapes) is deprecated. If you meant to do this, you must specify 'dtype=object' when creating the ndarray\n",
            "  return array(a, dtype, copy=False, order=order)\n"
          ]
        },
        {
          "output_type": "display_data",
          "data": {
            "image/png": "[encoded data removed]",
            "text/plain": [
              "<Figure size 720x504 with 1 Axes>"
            ]
          },
          "metadata": {
            "needs_background": "light"
          }
        }
      ]
    },
    {
      "cell_type": "code",
      "metadata": {
        "colab": {
          "base_uri": "https://localhost:8080/",
          "height": 896
        },
        "id": "yQaIhFAvESes",
        "outputId": "d427bc90-464d-4854-d4c1-7c95a884d685"
      },
      "source": [
        "# bucket results based on the difference between 2 USE similarity scores\n",
        "wrong_set = val[val['final_result_USE']==False]\n",
        "wrong_set['diff_USE'] = abs(wrong_set['diff_USE'])\n",
        "cut_bins = [0,0.2,0.6,1]\n",
        "bin_labels = ['similar', 'neutral', 'different']\n",
        "wrong_set['bucket'] = pd.cut(wrong_set['diff_USE'],\n",
        "                              bins = cut_bins,\n",
        "                              labels=bin_labels)\n",
        "wrong_set.head()"
      ],
      "execution_count": null,
      "outputs": [
        {
          "output_type": "stream",
          "name": "stderr",
          "text": [
            "/usr/local/lib/python3.7/dist-packages/ipykernel_launcher.py:2: SettingWithCopyWarning: \n",
            "A value is trying to be set on a copy of a slice from a DataFrame.\n",
            "Try using .loc[row_indexer,col_indexer] = value instead\n",
            "\n",
            "See the caveats in the documentation: https://pandas.pydata.org/pandas-docs/stable/user_guide/indexing.html#returning-a-view-versus-a-copy\n",
            "  \n",
            "/usr/local/lib/python3.7/dist-packages/ipykernel_launcher.py:7: SettingWithCopyWarning: \n",
            "A value is trying to be set on a copy of a slice from a DataFrame.\n",
            "Try using .loc[row_indexer,col_indexer] = value instead\n",
            "\n",
            "See the caveats in the documentation: https://pandas.pydata.org/pandas-docs/stable/user_guide/indexing.html#returning-a-view-versus-a-copy\n",
            "  import sys\n"
          ]
        },
        {
          "output_type": "execute_result",
          "data": {
            "text/html": [
              "<div>\n",
              "<style scoped>\n",
              "    .dataframe tbody tr th:only-of-type {\n",
              "        vertical-align: middle;\n",
              "    }\n",
              "\n",
              "    .dataframe tbody tr th {\n",
              "        vertical-align: top;\n",
              "    }\n",
              "\n",
              "    .dataframe thead th {\n",
              "        text-align: right;\n",
              "    }\n",
              "</style>\n",
              "<table border=\"1\" class=\"dataframe\">\n",
              "  <thead>\n",
              "    <tr style=\"text-align: right;\">\n",
              "      <th></th>\n",
              "      <th>InputStoryid</th>\n",
              "      <th>InputSentence1</th>\n",
              "      <th>InputSentence2</th>\n",
              "      <th>InputSentence3</th>\n",
              "      <th>InputSentence4</th>\n",
              "      <th>RandomFifthSentenceQuiz1</th>\n",
              "      <th>RandomFifthSentenceQuiz2</th>\n",
              "      <th>AnswerRightEnding</th>\n",
              "      <th>combined</th>\n",
              "      <th>output</th>\n",
              "      <th>T5_SS1</th>\n",
              "      <th>T5_SS2</th>\n",
              "      <th>T5_result</th>\n",
              "      <th>messages</th>\n",
              "      <th>USE_similarity</th>\n",
              "      <th>SS1_USE</th>\n",
              "      <th>SS2_USE</th>\n",
              "      <th>result_USE</th>\n",
              "      <th>diff_USE</th>\n",
              "      <th>final_result_USE</th>\n",
              "      <th>bucket</th>\n",
              "    </tr>\n",
              "  </thead>\n",
              "  <tbody>\n",
              "    <tr>\n",
              "      <th>0</th>\n",
              "      <td>138d5bfb-05cc-41e3-bf2c-fa85ebad14e2</td>\n",
              "      <td>Rick grew up in a troubled household.</td>\n",
              "      <td>He never found good support in family, and tur...</td>\n",
              "      <td>It wasn't long before Rick got shot in a robbery.</td>\n",
              "      <td>The incident caused him to turn a new leaf.</td>\n",
              "      <td>He is happy now.</td>\n",
              "      <td>He joined a gang.</td>\n",
              "      <td>1</td>\n",
              "      <td>Rick grew up in a troubled household. He never...</td>\n",
              "      <td>He started his own gang.</td>\n",
              "      <td>0.0</td>\n",
              "      <td>1.6</td>\n",
              "      <td>2</td>\n",
              "      <td>[He started his own gang., He is happy now., H...</td>\n",
              "      <td>(0.28910017, 0.7812897, 2)</td>\n",
              "      <td>0.289100</td>\n",
              "      <td>0.781290</td>\n",
              "      <td>2</td>\n",
              "      <td>0.492190</td>\n",
              "      <td>False</td>\n",
              "      <td>neutral</td>\n",
              "    </tr>\n",
              "    <tr>\n",
              "      <th>1</th>\n",
              "      <td>bff9f820-9605-4875-b9af-fe6f14d04256</td>\n",
              "      <td>Laverne needs to prepare something for her fri...</td>\n",
              "      <td>She decides to bake a batch of brownies.</td>\n",
              "      <td>She chooses a recipe and follows it closely.</td>\n",
              "      <td>Laverne tests one of the brownies to make sure...</td>\n",
              "      <td>The brownies are so delicious Laverne eats two...</td>\n",
              "      <td>Laverne doesn't go to her friend's party.</td>\n",
              "      <td>1</td>\n",
              "      <td>Laverne needs to prepare something for her fri...</td>\n",
              "      <td>Laverne is happy that she prepared something f...</td>\n",
              "      <td>0.4</td>\n",
              "      <td>1.6</td>\n",
              "      <td>2</td>\n",
              "      <td>[Laverne is happy that she prepared something ...</td>\n",
              "      <td>(0.30330005, 0.74435127, 2)</td>\n",
              "      <td>0.303300</td>\n",
              "      <td>0.744351</td>\n",
              "      <td>2</td>\n",
              "      <td>0.441051</td>\n",
              "      <td>False</td>\n",
              "      <td>neutral</td>\n",
              "    </tr>\n",
              "    <tr>\n",
              "      <th>6</th>\n",
              "      <td>58090d3f-8a91-4c89-83ef-2b4994de9d24</td>\n",
              "      <td>Ron started his new job as a landscaper today.</td>\n",
              "      <td>He loves the outdoors and has always enjoyed w...</td>\n",
              "      <td>His boss tells him to re-sod the front yard of...</td>\n",
              "      <td>Ron is ecstatic, but does a thorough job and f...</td>\n",
              "      <td>Ron is immediately fired for insubordination.</td>\n",
              "      <td>His boss commends him for a job well done.</td>\n",
              "      <td>2</td>\n",
              "      <td>Ron started his new job as a landscaper today....</td>\n",
              "      <td>Ron is glad he found a new job.</td>\n",
              "      <td>0.0</td>\n",
              "      <td>2.8</td>\n",
              "      <td>2</td>\n",
              "      <td>[Ron is glad he found a new job., Ron is immed...</td>\n",
              "      <td>(0.5915732, 0.38862675, 1)</td>\n",
              "      <td>0.591573</td>\n",
              "      <td>0.388627</td>\n",
              "      <td>1</td>\n",
              "      <td>0.202946</td>\n",
              "      <td>False</td>\n",
              "      <td>neutral</td>\n",
              "    </tr>\n",
              "    <tr>\n",
              "      <th>11</th>\n",
              "      <td>52dbbfda-5b42-4ace-8d59-55cee3eb30c0</td>\n",
              "      <td>Ignacio wants to play a sport while he is in c...</td>\n",
              "      <td>Since he was a good swimmer, he decides to try...</td>\n",
              "      <td>Ignacio makes it onto the team easily.</td>\n",
              "      <td>At the first swim meet, Ignacio wins second pl...</td>\n",
              "      <td>Ignacio gave up swimming.</td>\n",
              "      <td>Ignacio won a silver medal.</td>\n",
              "      <td>2</td>\n",
              "      <td>Ignacio wants to play a sport while he is in c...</td>\n",
              "      <td>Ignacio is happy that he decided to play a sport.</td>\n",
              "      <td>1.6</td>\n",
              "      <td>1.6</td>\n",
              "      <td>2</td>\n",
              "      <td>[Ignacio is happy that he decided to play a sp...</td>\n",
              "      <td>(0.43770754, 0.34924644, 1)</td>\n",
              "      <td>0.437708</td>\n",
              "      <td>0.349246</td>\n",
              "      <td>1</td>\n",
              "      <td>0.088461</td>\n",
              "      <td>False</td>\n",
              "      <td>similar</td>\n",
              "    </tr>\n",
              "    <tr>\n",
              "      <th>15</th>\n",
              "      <td>aa615e4f-83c1-4b65-96a4-6a989d253a52</td>\n",
              "      <td>Jesse had just started fifth grade.</td>\n",
              "      <td>He tried to make friends with the other boys, ...</td>\n",
              "      <td>He decided to make friends with the girls inst...</td>\n",
              "      <td>They girls welcomed him into their social grou...</td>\n",
              "      <td>Jesse went to the park with his new friend, Ro...</td>\n",
              "      <td>Jesse was picked on by the other boys in school.</td>\n",
              "      <td>2</td>\n",
              "      <td>Jesse had just started fifth grade. He tried t...</td>\n",
              "      <td>Jesse was glad he had made friends with the gi...</td>\n",
              "      <td>1.6</td>\n",
              "      <td>0.4</td>\n",
              "      <td>1</td>\n",
              "      <td>[Jesse was glad he had made friends with the g...</td>\n",
              "      <td>(0.621917, 0.54271865, 1)</td>\n",
              "      <td>0.621917</td>\n",
              "      <td>0.542719</td>\n",
              "      <td>1</td>\n",
              "      <td>0.079198</td>\n",
              "      <td>False</td>\n",
              "      <td>similar</td>\n",
              "    </tr>\n",
              "  </tbody>\n",
              "</table>\n",
              "</div>"
            ],
            "text/plain": [
              "                            InputStoryid  ...   bucket\n",
              "0   138d5bfb-05cc-41e3-bf2c-fa85ebad14e2  ...  neutral\n",
              "1   bff9f820-9605-4875-b9af-fe6f14d04256  ...  neutral\n",
              "6   58090d3f-8a91-4c89-83ef-2b4994de9d24  ...  neutral\n",
              "11  52dbbfda-5b42-4ace-8d59-55cee3eb30c0  ...  similar\n",
              "15  aa615e4f-83c1-4b65-96a4-6a989d253a52  ...  similar\n",
              "\n",
              "[5 rows x 21 columns]"
            ]
          },
          "metadata": {},
          "execution_count": 107
        }
      ]
    },
    {
      "cell_type": "code",
      "metadata": {
        "colab": {
          "base_uri": "https://localhost:8080/"
        },
        "id": "WWnPR9JAfA7A",
        "outputId": "0ce5e3a5-b410-4a5d-86bb-d80fd607a7c8"
      },
      "source": [
        "# calculate the percentage in each bucket\n",
        "wrong_set.bucket.value_counts() / len(wrong_set)"
      ],
      "execution_count": null,
      "outputs": [
        {
          "output_type": "execute_result",
          "data": {
            "text/plain": [
              "similar      0.755877\n",
              "neutral      0.242315\n",
              "different    0.001808\n",
              "Name: bucket, dtype: float64"
            ]
          },
          "metadata": {},
          "execution_count": 108
        }
      ]
    },
    {
      "cell_type": "markdown",
      "metadata": {
        "id": "L1RsgPDEuX9b"
      },
      "source": [
        "75% of val examples have very similar USE similarity scores. We need to find more complicated evaluation methods."
      ]
    },
    {
      "cell_type": "code",
      "metadata": {
        "colab": {
          "base_uri": "https://localhost:8080/",
          "height": 69
        },
        "id": "_IIiiuIYIUF3",
        "outputId": "01f2c49d-8825-43ae-c026-295b3b77098b"
      },
      "source": [
        "wrong_set[wrong_set['diff_USE'] == 0]"
      ],
      "execution_count": null,
      "outputs": [
        {
          "output_type": "execute_result",
          "data": {
            "text/html": [
              "<div>\n",
              "<style scoped>\n",
              "    .dataframe tbody tr th:only-of-type {\n",
              "        vertical-align: middle;\n",
              "    }\n",
              "\n",
              "    .dataframe tbody tr th {\n",
              "        vertical-align: top;\n",
              "    }\n",
              "\n",
              "    .dataframe thead th {\n",
              "        text-align: right;\n",
              "    }\n",
              "</style>\n",
              "<table border=\"1\" class=\"dataframe\">\n",
              "  <thead>\n",
              "    <tr style=\"text-align: right;\">\n",
              "      <th></th>\n",
              "      <th>InputStoryid</th>\n",
              "      <th>InputSentence1</th>\n",
              "      <th>InputSentence2</th>\n",
              "      <th>InputSentence3</th>\n",
              "      <th>InputSentence4</th>\n",
              "      <th>RandomFifthSentenceQuiz1</th>\n",
              "      <th>RandomFifthSentenceQuiz2</th>\n",
              "      <th>AnswerRightEnding</th>\n",
              "      <th>combined</th>\n",
              "      <th>output</th>\n",
              "      <th>T5_SS1</th>\n",
              "      <th>T5_SS2</th>\n",
              "      <th>T5_result</th>\n",
              "      <th>messages</th>\n",
              "      <th>USE_similarity</th>\n",
              "      <th>SS1_USE</th>\n",
              "      <th>SS2_USE</th>\n",
              "      <th>result_USE</th>\n",
              "      <th>diff_USE</th>\n",
              "      <th>final_result_USE</th>\n",
              "      <th>bucket</th>\n",
              "    </tr>\n",
              "  </thead>\n",
              "  <tbody>\n",
              "  </tbody>\n",
              "</table>\n",
              "</div>"
            ],
            "text/plain": [
              "Empty DataFrame\n",
              "Columns: [InputStoryid, InputSentence1, InputSentence2, InputSentence3, InputSentence4, RandomFifthSentenceQuiz1, RandomFifthSentenceQuiz2, AnswerRightEnding, combined, output, T5_SS1, T5_SS2, T5_result, messages, USE_similarity, SS1_USE, SS2_USE, result_USE, diff_USE, final_result_USE, bucket]\n",
              "Index: []"
            ]
          },
          "metadata": {},
          "execution_count": 111
        }
      ]
    },
    {
      "cell_type": "markdown",
      "metadata": {
        "id": "s_7acVDDuojr"
      },
      "source": [
        "USE sentence similarity scores are calcuated by inner product of vectors. The pro is that it does not have 0 similarity scores like T5 does. "
      ]
    },
    {
      "cell_type": "code",
      "metadata": {
        "id": "PgmnWqfYeqUW"
      },
      "source": [
        "# output to csv to be further analyzed \n",
        "wrong_set.to_csv('/content/drive/MyDrive/ROCstory/output/use_wrong_set.csv')"
      ],
      "execution_count": null,
      "outputs": []
    },
    {
      "cell_type": "markdown",
      "metadata": {
        "id": "xkCdRlJrIbG9"
      },
      "source": [
        "# T5 Similarity Scores"
      ]
    },
    {
      "cell_type": "markdown",
      "metadata": {
        "id": "tNyZ_Otvvlxy"
      },
      "source": [
        "T5 is text-to-text model and we will need to transfer our similarity scores from the string to float."
      ]
    },
    {
      "cell_type": "code",
      "metadata": {
        "id": "XKEK4w-yIRxA"
      },
      "source": [
        "val['T5_SS1'] = val['T5_SS1'].astype(float)\n",
        "val['T5_SS2'] = val['T5_SS2'].astype(float)\n",
        "val['diff_t5'] = val['T5_SS1'] - val['T5_SS2']\n",
        "val['final_result_t5'] = (val['T5_result'] != val['AnswerRightEnding'])\n",
        "val['final_result_t5'] = (val['T5_result'] == val['AnswerRightEnding'])"
      ],
      "execution_count": null,
      "outputs": []
    },
    {
      "cell_type": "code",
      "metadata": {
        "colab": {
          "base_uri": "https://localhost:8080/"
        },
        "id": "iztE4lShmcrK",
        "outputId": "11d14505-ae37-4597-d469-773b31841d93"
      },
      "source": [
        "print(len(val.loc[(val['T5_SS1'] == 0)]) / len(val))\n",
        "print(len(val.loc[(val['T5_SS2'] == 0)]) / len(val))\n",
        "print(len(val.loc[(val['T5_SS1'] == 0) & (val['T5_SS2'] == 0)]) / len(val))"
      ],
      "execution_count": null,
      "outputs": [
        {
          "output_type": "stream",
          "name": "stdout",
          "text": [
            "0.3303628262253342\n",
            "0.32017823042647997\n",
            "0.1343093570973902\n"
          ]
        }
      ]
    },
    {
      "cell_type": "markdown",
      "metadata": {
        "id": "-fPLhd4bvzIY"
      },
      "source": [
        "* 33% of val cases have zero T5 similarity scores between output and ending 1.\n",
        "* 32% of val cases have zero T5 similarity scores between output and ending 2.\n",
        "* 13% of val cases have zero T5 similarity scores between output and both endings.\n",
        "* It indicates that 3 sentences are talking about 3 different things, because the next sentence prediction could be various."
      ]
    },
    {
      "cell_type": "code",
      "metadata": {
        "colab": {
          "base_uri": "https://localhost:8080/",
          "height": 458
        },
        "id": "901aXkiYX7P5",
        "outputId": "69796534-7cb6-4bde-f67f-84ad7a780e5c"
      },
      "source": [
        "# plot Distribution of T5 Simiarity Score between output and Ending1|2 (Figure 4 in the research paper)\n",
        "fig, ax = plt.subplots(figsize =(10, 7))\n",
        "ax.hist([val['T5_SS1'],val['T5_SS2']],\n",
        "        label = ['T5 Similarity Score with Ending 1', 'T5 Similarity Score with Ending 2'],\n",
        "        color=['c','y'],\n",
        "        alpha=0.5)\n",
        "plt.legend(loc='upper right')\n",
        "\n",
        "plt.title('Distribution of T5 Simiarity Score between output and Ending1|2')\n",
        "plt.xlabel('score')\n",
        "plt.ylabel('counts')\n",
        "# Show plot\n",
        "plt.show()"
      ],
      "execution_count": null,
      "outputs": [
        {
          "output_type": "display_data",
          "data": {
            "image/png": "[encoded data removed]",
            "text/plain": [
              "<Figure size 720x504 with 1 Axes>"
            ]
          },
          "metadata": {
            "needs_background": "light"
          }
        }
      ]
    },
    {
      "cell_type": "code",
      "metadata": {
        "colab": {
          "base_uri": "https://localhost:8080/",
          "height": 515
        },
        "id": "j4ybpq01YVLv",
        "outputId": "5d54ce7f-f7f8-4ea6-e35f-d2aae63bd093"
      },
      "source": [
        "# plot Difference between 2 T5 Simiarity Scores by right | wrong prediction (Figure 5 in the research paper)\n",
        "fig, ax = plt.subplots(figsize =(10, 7))\n",
        "ax.hist([val[val['final_result_t5']==True]['diff_t5'],val[val['final_result_t5']==False]['diff_t5']],\n",
        "        label = ['Right Prediction', 'Wrong Prediction'],\n",
        "        color=['g','r'],\n",
        "        alpha=0.5)\n",
        "plt.legend(loc='upper right')\n",
        "\n",
        "plt.title('Difference between 2 T5 Simiarity Scores by right | wrong prediction')\n",
        "plt.xlabel('score')\n",
        "plt.ylabel('counts')\n",
        " \n",
        "# Show plot\n",
        "plt.show()"
      ],
      "execution_count": null,
      "outputs": [
        {
          "output_type": "stream",
          "name": "stderr",
          "text": [
            "/usr/local/lib/python3.7/dist-packages/numpy/core/_asarray.py:83: VisibleDeprecationWarning: Creating an ndarray from ragged nested sequences (which is a list-or-tuple of lists-or-tuples-or ndarrays with different lengths or shapes) is deprecated. If you meant to do this, you must specify 'dtype=object' when creating the ndarray\n",
            "  return array(a, dtype, copy=False, order=order)\n"
          ]
        },
        {
          "output_type": "display_data",
          "data": {
            "image/png": "[encoded data removed]",
            "text/plain": [
              "<Figure size 720x504 with 1 Axes>"
            ]
          },
          "metadata": {
            "needs_background": "light"
          }
        }
      ]
    },
    {
      "cell_type": "code",
      "metadata": {
        "colab": {
          "base_uri": "https://localhost:8080/"
        },
        "id": "N9tfQGSpeTQj",
        "outputId": "0817f0d9-edeb-45ad-fae5-4339aa75ebd8"
      },
      "source": [
        "wrong_set_t5 = val[val['final_result_t5']==False]\n",
        "len(wrong_set_t5[wrong_set_t5['diff_t5'] == 0])"
      ],
      "execution_count": null,
      "outputs": [
        {
          "output_type": "execute_result",
          "data": {
            "text/plain": [
              "198"
            ]
          },
          "metadata": {},
          "execution_count": 127
        }
      ]
    },
    {
      "cell_type": "code",
      "metadata": {
        "colab": {
          "base_uri": "https://localhost:8080/"
        },
        "id": "4YLRUza4egYb",
        "outputId": "7e021cb2-15ac-4a27-f1c5-fd066995278b"
      },
      "source": [
        "len(wrong_set_t5)"
      ],
      "execution_count": null,
      "outputs": [
        {
          "output_type": "execute_result",
          "data": {
            "text/plain": [
              "468"
            ]
          },
          "metadata": {},
          "execution_count": 128
        }
      ]
    },
    {
      "cell_type": "code",
      "metadata": {
        "colab": {
          "base_uri": "https://localhost:8080/"
        },
        "id": "UWWrSt8sewaL",
        "outputId": "bcc7d924-988f-47a4-d866-456bd228cc38"
      },
      "source": [
        "len(wrong_set_t5[wrong_set_t5['diff_t5'] == 0])/len(wrong_set_t5)"
      ],
      "execution_count": null,
      "outputs": [
        {
          "output_type": "execute_result",
          "data": {
            "text/plain": [
              "0.4230769230769231"
            ]
          },
          "metadata": {},
          "execution_count": 129
        }
      ]
    },
    {
      "cell_type": "markdown",
      "metadata": {
        "id": "O9l-A_U4wx_o"
      },
      "source": [
        "Among the wrong prediction cases, 42% of them have the same T5 similarity score. We need to introduce sentiment analysis to differ."
      ]
    },
    {
      "cell_type": "code",
      "metadata": {
        "id": "Xykd7040eyfk"
      },
      "source": [
        "# output to have further analysis\n",
        "val.to_csv('val_base.csv')"
      ],
      "execution_count": null,
      "outputs": []
    },
    {
      "cell_type": "markdown",
      "metadata": {
        "id": "mcEHXNtZRHWN"
      },
      "source": [
        "# Error Analysis After Applying 5 Outputs and Simi-Senti Scores\n"
      ]
    },
    {
      "cell_type": "code",
      "metadata": {
        "id": "6VYv58pGvvHK"
      },
      "source": [
        "val_5 = pd.read_csv('/content/drive/MyDrive/ROCstory/output/Val final/epoch8_val_5output.csv')"
      ],
      "execution_count": null,
      "outputs": []
    },
    {
      "cell_type": "code",
      "metadata": {
        "colab": {
          "base_uri": "https://localhost:8080/",
          "height": 782
        },
        "id": "QGVWAuaxcGrL",
        "outputId": "82f9d245-8b6a-4234-ad08-e4449d1f1d8b"
      },
      "source": [
        "val_5.head()"
      ],
      "execution_count": null,
      "outputs": [
        {
          "output_type": "execute_result",
          "data": {
            "text/html": [
              "<div>\n",
              "<style scoped>\n",
              "    .dataframe tbody tr th:only-of-type {\n",
              "        vertical-align: middle;\n",
              "    }\n",
              "\n",
              "    .dataframe tbody tr th {\n",
              "        vertical-align: top;\n",
              "    }\n",
              "\n",
              "    .dataframe thead th {\n",
              "        text-align: right;\n",
              "    }\n",
              "</style>\n",
              "<table border=\"1\" class=\"dataframe\">\n",
              "  <thead>\n",
              "    <tr style=\"text-align: right;\">\n",
              "      <th></th>\n",
              "      <th>Unnamed: 0</th>\n",
              "      <th>InputStoryid</th>\n",
              "      <th>InputSentence1</th>\n",
              "      <th>InputSentence2</th>\n",
              "      <th>InputSentence3</th>\n",
              "      <th>InputSentence4</th>\n",
              "      <th>RandomFifthSentenceQuiz1</th>\n",
              "      <th>RandomFifthSentenceQuiz2</th>\n",
              "      <th>AnswerRightEnding</th>\n",
              "      <th>combined</th>\n",
              "      <th>output</th>\n",
              "      <th>cos_result</th>\n",
              "      <th>T5_SS1</th>\n",
              "      <th>T5_SS2</th>\n",
              "      <th>T5_result</th>\n",
              "      <th>messages</th>\n",
              "      <th>USE_similarity</th>\n",
              "      <th>SS1_USE</th>\n",
              "      <th>SS2_USE</th>\n",
              "      <th>result_USE</th>\n",
              "    </tr>\n",
              "  </thead>\n",
              "  <tbody>\n",
              "    <tr>\n",
              "      <th>0</th>\n",
              "      <td>0</td>\n",
              "      <td>138d5bfb-05cc-41e3-bf2c-fa85ebad14e2</td>\n",
              "      <td>Rick grew up in a troubled household.</td>\n",
              "      <td>He never found good support in family, and tur...</td>\n",
              "      <td>It wasn't long before Rick got shot in a robbery.</td>\n",
              "      <td>The incident caused him to turn a new leaf.</td>\n",
              "      <td>He is happy now.</td>\n",
              "      <td>He joined a gang.</td>\n",
              "      <td>1</td>\n",
              "      <td>Rick grew up in a troubled household. He never...</td>\n",
              "      <td>He started his own gang.</td>\n",
              "      <td>2</td>\n",
              "      <td>0.0</td>\n",
              "      <td>1.6</td>\n",
              "      <td>2</td>\n",
              "      <td>['He started his own gang.', 'He is happy now....</td>\n",
              "      <td>(0.28910017, 0.7812897, 2)</td>\n",
              "      <td>0.289100</td>\n",
              "      <td>0.781290</td>\n",
              "      <td>2</td>\n",
              "    </tr>\n",
              "    <tr>\n",
              "      <th>1</th>\n",
              "      <td>0</td>\n",
              "      <td>138d5bfb-05cc-41e3-bf2c-fa85ebad14e2</td>\n",
              "      <td>Rick grew up in a troubled household.</td>\n",
              "      <td>He never found good support in family, and tur...</td>\n",
              "      <td>It wasn't long before Rick got shot in a robbery.</td>\n",
              "      <td>The incident caused him to turn a new leaf.</td>\n",
              "      <td>He is happy now.</td>\n",
              "      <td>He joined a gang.</td>\n",
              "      <td>1</td>\n",
              "      <td>Rick grew up in a troubled household. He never...</td>\n",
              "      <td>Now, Rick lives in a homeless shelter.</td>\n",
              "      <td>2</td>\n",
              "      <td>0.4</td>\n",
              "      <td>0.0</td>\n",
              "      <td>1</td>\n",
              "      <td>['Now, Rick lives in a homeless shelter.', 'He...</td>\n",
              "      <td>(0.1753709, 0.15250778, 1)</td>\n",
              "      <td>0.175371</td>\n",
              "      <td>0.152508</td>\n",
              "      <td>1</td>\n",
              "    </tr>\n",
              "    <tr>\n",
              "      <th>2</th>\n",
              "      <td>0</td>\n",
              "      <td>138d5bfb-05cc-41e3-bf2c-fa85ebad14e2</td>\n",
              "      <td>Rick grew up in a troubled household.</td>\n",
              "      <td>He never found good support in family, and tur...</td>\n",
              "      <td>It wasn't long before Rick got shot in a robbery.</td>\n",
              "      <td>The incident caused him to turn a new leaf.</td>\n",
              "      <td>He is happy now.</td>\n",
              "      <td>He joined a gang.</td>\n",
              "      <td>1</td>\n",
              "      <td>Rick grew up in a troubled household. He never...</td>\n",
              "      <td>He started his own gang, and became a drug add...</td>\n",
              "      <td>2</td>\n",
              "      <td>0.0</td>\n",
              "      <td>1.6</td>\n",
              "      <td>2</td>\n",
              "      <td>['He started his own gang, and became a drug a...</td>\n",
              "      <td>(0.13219982, 0.59830046, 2)</td>\n",
              "      <td>0.132200</td>\n",
              "      <td>0.598300</td>\n",
              "      <td>2</td>\n",
              "    </tr>\n",
              "    <tr>\n",
              "      <th>3</th>\n",
              "      <td>0</td>\n",
              "      <td>138d5bfb-05cc-41e3-bf2c-fa85ebad14e2</td>\n",
              "      <td>Rick grew up in a troubled household.</td>\n",
              "      <td>He never found good support in family, and tur...</td>\n",
              "      <td>It wasn't long before Rick got shot in a robbery.</td>\n",
              "      <td>The incident caused him to turn a new leaf.</td>\n",
              "      <td>He is happy now.</td>\n",
              "      <td>He joined a gang.</td>\n",
              "      <td>1</td>\n",
              "      <td>Rick grew up in a troubled household. He never...</td>\n",
              "      <td>He started his own gang, and became a hermit.</td>\n",
              "      <td>2</td>\n",
              "      <td>0.0</td>\n",
              "      <td>1.6</td>\n",
              "      <td>2</td>\n",
              "      <td>['He started his own gang, and became a hermit...</td>\n",
              "      <td>(0.19345042, 0.56074643, 2)</td>\n",
              "      <td>0.193450</td>\n",
              "      <td>0.560746</td>\n",
              "      <td>2</td>\n",
              "    </tr>\n",
              "    <tr>\n",
              "      <th>4</th>\n",
              "      <td>0</td>\n",
              "      <td>138d5bfb-05cc-41e3-bf2c-fa85ebad14e2</td>\n",
              "      <td>Rick grew up in a troubled household.</td>\n",
              "      <td>He never found good support in family, and tur...</td>\n",
              "      <td>It wasn't long before Rick got shot in a robbery.</td>\n",
              "      <td>The incident caused him to turn a new leaf.</td>\n",
              "      <td>He is happy now.</td>\n",
              "      <td>He joined a gang.</td>\n",
              "      <td>1</td>\n",
              "      <td>Rick grew up in a troubled household. He never...</td>\n",
              "      <td>He started his own gang, and became a drug dea...</td>\n",
              "      <td>2</td>\n",
              "      <td>0.0</td>\n",
              "      <td>1.6</td>\n",
              "      <td>2</td>\n",
              "      <td>['He started his own gang, and became a drug d...</td>\n",
              "      <td>(0.16200918, 0.62089217, 2)</td>\n",
              "      <td>0.162009</td>\n",
              "      <td>0.620892</td>\n",
              "      <td>2</td>\n",
              "    </tr>\n",
              "  </tbody>\n",
              "</table>\n",
              "</div>"
            ],
            "text/plain": [
              "   Unnamed: 0                          InputStoryid  ...   SS2_USE result_USE\n",
              "0           0  138d5bfb-05cc-41e3-bf2c-fa85ebad14e2  ...  0.781290          2\n",
              "1           0  138d5bfb-05cc-41e3-bf2c-fa85ebad14e2  ...  0.152508          1\n",
              "2           0  138d5bfb-05cc-41e3-bf2c-fa85ebad14e2  ...  0.598300          2\n",
              "3           0  138d5bfb-05cc-41e3-bf2c-fa85ebad14e2  ...  0.560746          2\n",
              "4           0  138d5bfb-05cc-41e3-bf2c-fa85ebad14e2  ...  0.620892          2\n",
              "\n",
              "[5 rows x 20 columns]"
            ]
          },
          "metadata": {},
          "execution_count": 7
        }
      ]
    },
    {
      "cell_type": "code",
      "metadata": {
        "colab": {
          "base_uri": "https://localhost:8080/",
          "height": 1000
        },
        "id": "g6Tsr49JcpB9",
        "outputId": "fdd5a729-6528-4f0f-9048-9f18b9ebbdc9"
      },
      "source": [
        "!pip install flair"
      ],
      "execution_count": null,
      "outputs": [
        {
          "output_type": "stream",
          "name": "stdout",
          "text": [
            "Collecting flair\n",
            "  Downloading flair-0.10-py3-none-any.whl (322 kB)\n",
            "\u001b[K     |████████████████████████████████| 322 kB 4.8 MB/s \n",
            "\u001b[?25hRequirement already satisfied: scikit-learn>=0.21.3 in /usr/local/lib/python3.7/dist-packages (from flair) (1.0.1)\n",
            "Requirement already satisfied: regex in /usr/local/lib/python3.7/dist-packages (from flair) (2019.12.20)\n",
            "Collecting ftfy\n",
            "  Downloading ftfy-6.0.3.tar.gz (64 kB)\n",
            "\u001b[K     |████████████████████████████████| 64 kB 2.1 MB/s \n",
            "\u001b[?25hCollecting gdown==3.12.2\n",
            "  Downloading gdown-3.12.2.tar.gz (8.2 kB)\n",
            "  Installing build dependencies ... \u001b[?25l\u001b[?25hdone\n",
            "  Getting requirements to build wheel ... \u001b[?25l\u001b[?25hdone\n",
            "    Preparing wheel metadata ... \u001b[?25l\u001b[?25hdone\n",
            "Requirement already satisfied: tqdm>=4.26.0 in /usr/local/lib/python3.7/dist-packages (from flair) (4.62.3)\n",
            "Collecting more-itertools~=8.8.0\n",
            "  Downloading more_itertools-8.8.0-py3-none-any.whl (48 kB)\n",
            "\u001b[K     |████████████████████████████████| 48 kB 5.5 MB/s \n",
            "\u001b[?25hCollecting sqlitedict>=1.6.0\n",
            "  Downloading sqlitedict-1.7.0.tar.gz (28 kB)\n",
            "Requirement already satisfied: tabulate in /usr/local/lib/python3.7/dist-packages (from flair) (0.8.9)\n",
            "Collecting wikipedia-api\n",
            "  Downloading Wikipedia-API-0.5.4.tar.gz (18 kB)\n",
            "Collecting konoha<5.0.0,>=4.0.0\n",
            "  Downloading konoha-4.6.5-py3-none-any.whl (20 kB)\n",
            "Requirement already satisfied: python-dateutil>=2.6.1 in /usr/local/lib/python3.7/dist-packages (from flair) (2.8.2)\n",
            "Collecting langdetect\n",
            "  Downloading langdetect-1.0.9.tar.gz (981 kB)\n",
            "\u001b[K     |████████████████████████████████| 981 kB 40.8 MB/s \n",
            "\u001b[?25hCollecting bpemb>=0.3.2\n",
            "  Downloading bpemb-0.3.3-py3-none-any.whl (19 kB)\n",
            "Requirement already satisfied: gensim>=3.4.0 in /usr/local/lib/python3.7/dist-packages (from flair) (3.6.0)\n",
            "Collecting deprecated>=1.2.4\n",
            "  Downloading Deprecated-1.2.13-py2.py3-none-any.whl (9.6 kB)\n",
            "Collecting conllu>=4.0\n",
            "  Downloading conllu-4.4.1-py2.py3-none-any.whl (15 kB)\n",
            "Requirement already satisfied: torch!=1.8,>=1.5.0 in /usr/local/lib/python3.7/dist-packages (from flair) (1.10.0+cu111)\n",
            "Requirement already satisfied: lxml in /usr/local/lib/python3.7/dist-packages (from flair) (4.2.6)\n",
            "Requirement already satisfied: matplotlib>=2.2.3 in /usr/local/lib/python3.7/dist-packages (from flair) (3.2.2)\n",
            "Collecting mpld3==0.3\n",
            "  Downloading mpld3-0.3.tar.gz (788 kB)\n",
            "\u001b[K     |████████████████████████████████| 788 kB 40.1 MB/s \n",
            "\u001b[?25hRequirement already satisfied: transformers>=4.0.0 in /usr/local/lib/python3.7/dist-packages (from flair) (4.12.5)\n",
            "Collecting sentencepiece==0.1.95\n",
            "  Downloading sentencepiece-0.1.95-cp37-cp37m-manylinux2014_x86_64.whl (1.2 MB)\n",
            "\u001b[K     |████████████████████████████████| 1.2 MB 37.8 MB/s \n",
            "\u001b[?25hCollecting janome\n",
            "  Downloading Janome-0.4.1-py2.py3-none-any.whl (19.7 MB)\n",
            "\u001b[K     |████████████████████████████████| 19.7 MB 940 kB/s \n",
            "\u001b[?25hRequirement already satisfied: huggingface-hub in /usr/local/lib/python3.7/dist-packages (from flair) (0.1.2)\n",
            "Collecting segtok>=1.5.7\n",
            "  Downloading segtok-1.5.10.tar.gz (25 kB)\n",
            "Requirement already satisfied: six in /usr/local/lib/python3.7/dist-packages (from gdown==3.12.2->flair) (1.15.0)\n",
            "Requirement already satisfied: requests[socks] in /usr/local/lib/python3.7/dist-packages (from gdown==3.12.2->flair) (2.23.0)\n",
            "Requirement already satisfied: filelock in /usr/local/lib/python3.7/dist-packages (from gdown==3.12.2->flair) (3.4.0)\n",
            "Requirement already satisfied: numpy in /usr/local/lib/python3.7/dist-packages (from bpemb>=0.3.2->flair) (1.19.5)\n",
            "Requirement already satisfied: wrapt<2,>=1.10 in /usr/local/lib/python3.7/dist-packages (from deprecated>=1.2.4->flair) (1.13.3)\n",
            "Requirement already satisfied: scipy>=0.18.1 in /usr/local/lib/python3.7/dist-packages (from gensim>=3.4.0->flair) (1.4.1)\n",
            "Requirement already satisfied: smart-open>=1.2.1 in /usr/local/lib/python3.7/dist-packages (from gensim>=3.4.0->flair) (5.2.1)\n",
            "Collecting requests\n",
            "  Downloading requests-2.26.0-py2.py3-none-any.whl (62 kB)\n",
            "\u001b[K     |████████████████████████████████| 62 kB 809 kB/s \n",
            "\u001b[?25hCollecting overrides<4.0.0,>=3.0.0\n",
            "  Downloading overrides-3.1.0.tar.gz (11 kB)\n",
            "Collecting importlib-metadata<4.0.0,>=3.7.0\n",
            "  Downloading importlib_metadata-3.10.1-py3-none-any.whl (14 kB)\n",
            "Requirement already satisfied: typing-extensions>=3.6.4 in /usr/local/lib/python3.7/dist-packages (from importlib-metadata<4.0.0,>=3.7.0->konoha<5.0.0,>=4.0.0->flair) (3.10.0.2)\n",
            "Requirement already satisfied: zipp>=0.5 in /usr/local/lib/python3.7/dist-packages (from importlib-metadata<4.0.0,>=3.7.0->konoha<5.0.0,>=4.0.0->flair) (3.6.0)\n",
            "Requirement already satisfied: cycler>=0.10 in /usr/local/lib/python3.7/dist-packages (from matplotlib>=2.2.3->flair) (0.11.0)\n",
            "Requirement already satisfied: pyparsing!=2.0.4,!=2.1.2,!=2.1.6,>=2.0.1 in /usr/local/lib/python3.7/dist-packages (from matplotlib>=2.2.3->flair) (3.0.6)\n",
            "Requirement already satisfied: kiwisolver>=1.0.1 in /usr/local/lib/python3.7/dist-packages (from matplotlib>=2.2.3->flair) (1.3.2)\n",
            "Requirement already satisfied: urllib3<1.27,>=1.21.1 in /usr/local/lib/python3.7/dist-packages (from requests->bpemb>=0.3.2->flair) (1.24.3)\n",
            "Requirement already satisfied: idna<4,>=2.5 in /usr/local/lib/python3.7/dist-packages (from requests->bpemb>=0.3.2->flair) (2.10)\n",
            "Requirement already satisfied: certifi>=2017.4.17 in /usr/local/lib/python3.7/dist-packages (from requests->bpemb>=0.3.2->flair) (2021.10.8)\n",
            "Requirement already satisfied: charset-normalizer~=2.0.0 in /usr/local/lib/python3.7/dist-packages (from requests->bpemb>=0.3.2->flair) (2.0.8)\n",
            "Requirement already satisfied: threadpoolctl>=2.0.0 in /usr/local/lib/python3.7/dist-packages (from scikit-learn>=0.21.3->flair) (3.0.0)\n",
            "Requirement already satisfied: joblib>=0.11 in /usr/local/lib/python3.7/dist-packages (from scikit-learn>=0.21.3->flair) (1.1.0)\n",
            "Requirement already satisfied: sacremoses in /usr/local/lib/python3.7/dist-packages (from transformers>=4.0.0->flair) (0.0.46)\n",
            "Requirement already satisfied: pyyaml>=5.1 in /usr/local/lib/python3.7/dist-packages (from transformers>=4.0.0->flair) (6.0)\n",
            "Requirement already satisfied: tokenizers<0.11,>=0.10.1 in /usr/local/lib/python3.7/dist-packages (from transformers>=4.0.0->flair) (0.10.3)\n",
            "Requirement already satisfied: packaging>=20.0 in /usr/local/lib/python3.7/dist-packages (from transformers>=4.0.0->flair) (21.3)\n",
            "Requirement already satisfied: wcwidth in /usr/local/lib/python3.7/dist-packages (from ftfy->flair) (0.2.5)\n",
            "Requirement already satisfied: PySocks!=1.5.7,>=1.5.6 in /usr/local/lib/python3.7/dist-packages (from requests->bpemb>=0.3.2->flair) (1.7.1)\n",
            "Requirement already satisfied: click in /usr/local/lib/python3.7/dist-packages (from sacremoses->transformers>=4.0.0->flair) (7.1.2)\n",
            "Building wheels for collected packages: gdown, mpld3, overrides, segtok, sqlitedict, ftfy, langdetect, wikipedia-api\n",
            "  Building wheel for gdown (PEP 517) ... \u001b[?25l\u001b[?25hdone\n",
            "  Created wheel for gdown: filename=gdown-3.12.2-py3-none-any.whl size=9704 sha256=807cdf5c0fbc741b87e97a6a508a713111f1e42a59717d168981993391588e8a\n",
            "  Stored in directory: /root/.cache/pip/wheels/ba/e0/7e/726e872a53f7358b4b96a9975b04e98113b005cd8609a63abc\n",
            "  Building wheel for mpld3 (setup.py) ... \u001b[?25l\u001b[?25hdone\n",
            "  Created wheel for mpld3: filename=mpld3-0.3-py3-none-any.whl size=116702 sha256=1c43ae9916bd71d6faa7d20202aa715f05cc80f6567e1f6056d337913ee5a03f\n",
            "  Stored in directory: /root/.cache/pip/wheels/26/70/6a/1c79e59951a41b4045497da187b2724f5659ca64033cf4548e\n",
            "  Building wheel for overrides (setup.py) ... \u001b[?25l\u001b[?25hdone\n",
            "  Created wheel for overrides: filename=overrides-3.1.0-py3-none-any.whl size=10186 sha256=f9c37ee866f3a65b893f4275cb62a2be096ec81d0fd20453448ec67474a1e4c6\n",
            "  Stored in directory: /root/.cache/pip/wheels/3a/0d/38/01a9bc6e20dcfaf0a6a7b552d03137558ba1c38aea47644682\n",
            "  Building wheel for segtok (setup.py) ... \u001b[?25l\u001b[?25hdone\n",
            "  Created wheel for segtok: filename=segtok-1.5.10-py3-none-any.whl size=25030 sha256=78b17dfdd654c53ff690e5e7000a962a04671ae7c51819be9f49a77952e45e3a\n",
            "  Stored in directory: /root/.cache/pip/wheels/67/b7/d0/a121106e61339eee5ed083bc230b1c8dc422c49a5a28c2addd\n",
            "  Building wheel for sqlitedict (setup.py) ... \u001b[?25l\u001b[?25hdone\n",
            "  Created wheel for sqlitedict: filename=sqlitedict-1.7.0-py3-none-any.whl size=14392 sha256=ad8554c8c63ecab873954751513a50c8c4254af173bf741133b758c569d6baef\n",
            "  Stored in directory: /root/.cache/pip/wheels/af/94/06/18c0e83e9e227da8f3582810b51f319bbfd181e508676a56c8\n",
            "  Building wheel for ftfy (setup.py) ... \u001b[?25l\u001b[?25hdone\n",
            "  Created wheel for ftfy: filename=ftfy-6.0.3-py3-none-any.whl size=41933 sha256=72226d0891bdd94db8c210b0bf41d74c8e8b9a7ba776e8c2c238cd3befed8729\n",
            "  Stored in directory: /root/.cache/pip/wheels/19/f5/38/273eb3b5e76dfd850619312f693716ac4518b498f5ffb6f56d\n",
            "  Building wheel for langdetect (setup.py) ... \u001b[?25l\u001b[?25hdone\n",
            "  Created wheel for langdetect: filename=langdetect-1.0.9-py3-none-any.whl size=993242 sha256=b3d7b9be360d11f077daa1e2682a1b6577a9795d2e9fb05f571ba7da5a839f5d\n",
            "  Stored in directory: /root/.cache/pip/wheels/c5/96/8a/f90c59ed25d75e50a8c10a1b1c2d4c402e4dacfa87f3aff36a\n",
            "  Building wheel for wikipedia-api (setup.py) ... \u001b[?25l\u001b[?25hdone\n",
            "  Created wheel for wikipedia-api: filename=Wikipedia_API-0.5.4-py3-none-any.whl size=13475 sha256=0418e005fe3f266c4c41addace9fe55213eef1247e6eb8126e5c6e8451ecd6c4\n",
            "  Stored in directory: /root/.cache/pip/wheels/d3/24/56/58ba93cf78be162451144e7a9889603f437976ef1ae7013d04\n",
            "Successfully built gdown mpld3 overrides segtok sqlitedict ftfy langdetect wikipedia-api\n",
            "Installing collected packages: requests, importlib-metadata, sentencepiece, overrides, wikipedia-api, sqlitedict, segtok, mpld3, more-itertools, langdetect, konoha, janome, gdown, ftfy, deprecated, conllu, bpemb, flair\n",
            "  Attempting uninstall: requests\n",
            "    Found existing installation: requests 2.23.0\n",
            "    Uninstalling requests-2.23.0:\n",
            "      Successfully uninstalled requests-2.23.0\n",
            "  Attempting uninstall: importlib-metadata\n",
            "    Found existing installation: importlib-metadata 4.8.2\n",
            "    Uninstalling importlib-metadata-4.8.2:\n",
            "      Successfully uninstalled importlib-metadata-4.8.2\n",
            "  Attempting uninstall: sentencepiece\n",
            "    Found existing installation: sentencepiece 0.1.96\n",
            "    Uninstalling sentencepiece-0.1.96:\n",
            "      Successfully uninstalled sentencepiece-0.1.96\n",
            "  Attempting uninstall: more-itertools\n",
            "    Found existing installation: more-itertools 8.12.0\n",
            "    Uninstalling more-itertools-8.12.0:\n",
            "      Successfully uninstalled more-itertools-8.12.0\n",
            "  Attempting uninstall: gdown\n",
            "    Found existing installation: gdown 3.6.4\n",
            "    Uninstalling gdown-3.6.4:\n",
            "      Successfully uninstalled gdown-3.6.4\n",
            "\u001b[31mERROR: pip's dependency resolver does not currently take into account all the packages that are installed. This behaviour is the source of the following dependency conflicts.\n",
            "markdown 3.3.6 requires importlib-metadata>=4.4; python_version < \"3.10\", but you have importlib-metadata 3.10.1 which is incompatible.\n",
            "google-colab 1.0.0 requires requests~=2.23.0, but you have requests 2.26.0 which is incompatible.\n",
            "datascience 0.10.6 requires folium==0.2.1, but you have folium 0.8.3 which is incompatible.\u001b[0m\n",
            "Successfully installed bpemb-0.3.3 conllu-4.4.1 deprecated-1.2.13 flair-0.10 ftfy-6.0.3 gdown-3.12.2 importlib-metadata-3.10.1 janome-0.4.1 konoha-4.6.5 langdetect-1.0.9 more-itertools-8.8.0 mpld3-0.3 overrides-3.1.0 requests-2.26.0 segtok-1.5.10 sentencepiece-0.1.95 sqlitedict-1.7.0 wikipedia-api-0.5.4\n"
          ]
        },
        {
          "output_type": "display_data",
          "data": {
            "application/vnd.colab-display-data+json": {
              "pip_warning": {
                "packages": [
                  "importlib_metadata",
                  "requests",
                  "sentencepiece"
                ]
              }
            }
          },
          "metadata": {}
        }
      ]
    },
    {
      "cell_type": "code",
      "metadata": {
        "id": "1FIqBdUhegWs"
      },
      "source": [
        "from flair.models import TextClassifier\n",
        "from flair.data import Sentence"
      ],
      "execution_count": null,
      "outputs": []
    },
    {
      "cell_type": "code",
      "metadata": {
        "colab": {
          "base_uri": "https://localhost:8080/",
          "height": 256,
          "referenced_widgets": [
            "11d00a86d1cf4b7f905c4a475e46109b",
            "903564de8942406caaf7fd2b21e83dd1",
            "904a8b5f736a4a3ca456af09f6380a69",
            "918c21ebeb0e4ba7b936279c4c3f32b9",
            "27d2568af1f045b3925277eed8c9a65a",
            "cc093d543c2340fabfb77c6fd22849c5",
            "690450f76258474480d05561741ee3fe",
            "a669663dacea4682b54292641ff039d9",
            "def0ab92471444ceb1d7c7c4655d8bc8",
            "06d9a39a38374b20b77493a044d0f735",
            "eab0614eebb84dcbb68a6970cf7eaf15",
            "7bc1786ca8014b7db6d1a6f4bb70d3c7",
            "aca6052795c64777bc89553fd1ccff29",
            "0c6ee5a4eb65432fb3f7f868431a8c4e",
            "d0c97eebafe64e06a35abc073f56e27c",
            "de494735effc4c89ab57e86a26ba5c25",
            "fdc2f93fabab471fa45deb983c9cdfaf",
            "7940051402e14ba9a8dc0ad34f760615",
            "7687e1ac85944d0a8ebff7234b9b6b60",
            "35d5c04aaa474e1eb6eada713f5ade65",
            "c16b18ab0ab1487caeb5f6391aa9aa00",
            "a4f801918e264b8484e05b603a81ad24",
            "e58292c8124f45c8ae9563d8c94818d8",
            "80a47d9a24154dc2a547f4783e0a660e",
            "cb7702ae759748f9b5db621ede6fe8d8",
            "377ba75718d6415f905e3930716b0147",
            "95c6e418bf91444ebbb5e8d0b4b9174b",
            "9462a035dda547329a51e47f21ffbf50",
            "6b3c1306fe44452ab6923d579c7e5116",
            "c21af5c59c71443991de71a4196365fa",
            "af833dbb57d14065a1ede549f9fadd97",
            "6c08e8b05d8d40aa8f59dd19d7332784",
            "993b5b110c3048cd961845dd5a9236da",
            "26d9d1d2edf446fc8eda06404259b188",
            "12a643d06ab94245b27e08e55bcc599f",
            "3ad98219d212456baf97f5b2a168ffaf",
            "de110c5174bd46dba63768be6d448b2e",
            "1515d15a8c724509bcbdef47a8fa8f29",
            "8027b90e89d5419b84278fd852c06c0e",
            "04e9a51f4c384f99978342c6ec537a97",
            "8d6ff05975cf476a96d13ecb349dd463",
            "71b461a19a374738832b615fba70b872",
            "91a2d2719ebe4b2ba4df92a24e3e74e4",
            "8af7394b2e3d46edb805d290d5b0fc67"
          ]
        },
        "id": "7wA79wHnelA4",
        "outputId": "887dd585-1e46-49e7-9047-8675abbd464f"
      },
      "source": [
        "classifier = TextClassifier.load('en-sentiment')"
      ],
      "execution_count": null,
      "outputs": [
        {
          "output_type": "stream",
          "name": "stdout",
          "text": [
            "2021-12-01 04:01:27,919 https://nlp.informatik.hu-berlin.de/resources/models/sentiment-curated-distilbert/sentiment-en-mix-distillbert_4.pt not found in cache, downloading to /tmp/tmpln_zevst\n"
          ]
        },
        {
          "output_type": "stream",
          "name": "stderr",
          "text": [
            "100%|██████████| 265512723/265512723 [00:12<00:00, 20550466.38B/s]"
          ]
        },
        {
          "output_type": "stream",
          "name": "stdout",
          "text": [
            "2021-12-01 04:01:41,218 copying /tmp/tmpln_zevst to cache at /root/.flair/models/sentiment-en-mix-distillbert_4.pt\n"
          ]
        },
        {
          "output_type": "stream",
          "name": "stderr",
          "text": [
            "\n"
          ]
        },
        {
          "output_type": "stream",
          "name": "stdout",
          "text": [
            "2021-12-01 04:01:41,765 removing temp file /tmp/tmpln_zevst\n",
            "2021-12-01 04:01:41,806 loading file /root/.flair/models/sentiment-en-mix-distillbert_4.pt\n"
          ]
        },
        {
          "output_type": "display_data",
          "data": {
            "application/vnd.jupyter.widget-view+json": {
              "model_id": "11d00a86d1cf4b7f905c4a475e46109b",
              "version_minor": 0,
              "version_major": 2
            },
            "text/plain": [
              "Downloading:   0%|          | 0.00/28.0 [00:00<?, ?B/s]"
            ]
          },
          "metadata": {}
        },
        {
          "output_type": "display_data",
          "data": {
            "application/vnd.jupyter.widget-view+json": {
              "model_id": "7bc1786ca8014b7db6d1a6f4bb70d3c7",
              "version_minor": 0,
              "version_major": 2
            },
            "text/plain": [
              "Downloading:   0%|          | 0.00/226k [00:00<?, ?B/s]"
            ]
          },
          "metadata": {}
        },
        {
          "output_type": "display_data",
          "data": {
            "application/vnd.jupyter.widget-view+json": {
              "model_id": "e58292c8124f45c8ae9563d8c94818d8",
              "version_minor": 0,
              "version_major": 2
            },
            "text/plain": [
              "Downloading:   0%|          | 0.00/455k [00:00<?, ?B/s]"
            ]
          },
          "metadata": {}
        },
        {
          "output_type": "display_data",
          "data": {
            "application/vnd.jupyter.widget-view+json": {
              "model_id": "26d9d1d2edf446fc8eda06404259b188",
              "version_minor": 0,
              "version_major": 2
            },
            "text/plain": [
              "Downloading:   0%|          | 0.00/483 [00:00<?, ?B/s]"
            ]
          },
          "metadata": {}
        }
      ]
    },
    {
      "cell_type": "code",
      "metadata": {
        "id": "fruaXUiPemz2"
      },
      "source": [
        "def get_label (input):\n",
        "  sentences = result.apply(lambda x: Sentence(x[input]), axis=1)\n",
        "  sentences.apply(lambda x:classifier.predict(x))\n",
        "  labels = sentences.apply(lambda x: x.labels)\n",
        "  labels = labels.apply(lambda x: str(x[0]).split()[0])\n",
        "  return labels"
      ],
      "execution_count": null,
      "outputs": []
    },
    {
      "cell_type": "code",
      "metadata": {
        "id": "9gW5n6vCeuq4"
      },
      "source": [
        "val_5['output_sentiment'] = get_label('output')\n",
        "val_5['ending1_sentiment'] = get_label('RandomFifthSentenceQuiz1')\n",
        "val_5['ending2_sentiment'] = get_label('RandomFifthSentenceQuiz2')"
      ],
      "execution_count": null,
      "outputs": []
    },
    {
      "cell_type": "code",
      "metadata": {
        "id": "3OzSNLUseu52"
      },
      "source": [
        "val_5['ending1_sentiment_result'] = (val_5['ending1_sentiment'] == val_5['output_sentiment']).astype(int) \n",
        "val_5['ending2_sentiment_result'] = (val_5['ending2_sentiment'] == val_5['output_sentiment']).astype(int)\n",
        "\n",
        "val_5['T5_sentiment1'] = val_5['T5_SS1'] + 1* val_5['ending1_sentiment_result']\n",
        "val_5['T5_sentiment2'] = val_5['T5_SS2'] + 1* val_5['ending2_sentiment_result']"
      ],
      "execution_count": null,
      "outputs": []
    },
    {
      "cell_type": "code",
      "metadata": {
        "colab": {
          "base_uri": "https://localhost:8080/",
          "height": 458
        },
        "id": "S5AYRn09JqII",
        "outputId": "c66668de-83ef-470c-9f39-a0727cb76ffc"
      },
      "source": [
        "# Plot the same graphs as above for 5 outputs\n",
        "fig, ax = plt.subplots(figsize =(10, 7))\n",
        "ax.hist([val_5['T5_sentiment1'],val_5['T5_sentiment1']],\n",
        "        label = ['T5 + Simi_Senti score with Ending 1', 'T5 + Simi_Senti score with Ending 2'],\n",
        "        color=['c','y'],\n",
        "        alpha=0.5)\n",
        "plt.legend(loc='upper right')\n",
        "\n",
        "plt.title('Distribution of USE Simiarity Score between output and Ending1|2')\n",
        "plt.xlabel('score')\n",
        "plt.ylabel('counts')\n",
        "# Show plot\n",
        "plt.show()"
      ],
      "execution_count": null,
      "outputs": [
        {
          "output_type": "display_data",
          "data": {
            "image/png": "[encoded data removed]",
            "text/plain": [
              "<Figure size 720x504 with 1 Axes>"
            ]
          },
          "metadata": {
            "needs_background": "light"
          }
        }
      ]
    },
    {
      "cell_type": "code",
      "metadata": {
        "id": "2jAABmeUe_iI"
      },
      "source": [
        "from random import randint, choice\n",
        "\n",
        "import random\n",
        "def t5_max(s1, s2, a1, a2):\n",
        "  if s1 > s2:\n",
        "    return 1\n",
        "  elif s1 < s2:\n",
        "    return 2\n",
        "  else:\n",
        "    if a1 > a2:\n",
        "      return 1\n",
        "    elif a1 < a2:\n",
        "      return 2\n",
        "val_5['T5_senti_result'] = val_5.apply(lambda x: t5_max(x['T5_sentiment1'], x['T5_sentiment2'], x['SS1_USE'], x['SS2_USE']), axis = 1)"
      ],
      "execution_count": null,
      "outputs": []
    },
    {
      "cell_type": "code",
      "metadata": {
        "id": "Oq6RXBg0fNqO"
      },
      "source": [
        "t5_senti_result= val_5.groupby(['combined', 'T5_senti_result']).size().to_frame('t5_count').reset_index()\n",
        "idx = t5_senti_result.groupby(['combined'])['t5_count'].transform(max) == t5_senti_result['t5_count']\n",
        "t5_senti_result = t5_senti_result[idx]"
      ],
      "execution_count": null,
      "outputs": []
    },
    {
      "cell_type": "code",
      "metadata": {
        "colab": {
          "base_uri": "https://localhost:8080/",
          "height": 424
        },
        "id": "MsiyD6Q5gAFe",
        "outputId": "e6594dcc-75bb-48b0-ed8c-f4d529651597"
      },
      "source": [
        "t5_senti_result"
      ],
      "execution_count": null,
      "outputs": [
        {
          "output_type": "execute_result",
          "data": {
            "text/html": [
              "<div>\n",
              "<style scoped>\n",
              "    .dataframe tbody tr th:only-of-type {\n",
              "        vertical-align: middle;\n",
              "    }\n",
              "\n",
              "    .dataframe tbody tr th {\n",
              "        vertical-align: top;\n",
              "    }\n",
              "\n",
              "    .dataframe thead th {\n",
              "        text-align: right;\n",
              "    }\n",
              "</style>\n",
              "<table border=\"1\" class=\"dataframe\">\n",
              "  <thead>\n",
              "    <tr style=\"text-align: right;\">\n",
              "      <th></th>\n",
              "      <th>combined</th>\n",
              "      <th>T5_senti_result</th>\n",
              "      <th>t5_count</th>\n",
              "    </tr>\n",
              "  </thead>\n",
              "  <tbody>\n",
              "    <tr>\n",
              "      <th>0</th>\n",
              "      <td>A bar owner put out a large banner to advertis...</td>\n",
              "      <td>1</td>\n",
              "      <td>5</td>\n",
              "    </tr>\n",
              "    <tr>\n",
              "      <th>1</th>\n",
              "      <td>A beautiful bunch of bananas dangled just out ...</td>\n",
              "      <td>2</td>\n",
              "      <td>5</td>\n",
              "    </tr>\n",
              "    <tr>\n",
              "      <th>2</th>\n",
              "      <td>A boy Jack had been asking his parents to get ...</td>\n",
              "      <td>2</td>\n",
              "      <td>5</td>\n",
              "    </tr>\n",
              "    <tr>\n",
              "      <th>3</th>\n",
              "      <td>A boy needed to learn to drive. He asked his f...</td>\n",
              "      <td>2</td>\n",
              "      <td>5</td>\n",
              "    </tr>\n",
              "    <tr>\n",
              "      <th>4</th>\n",
              "      <td>A boy saw a quarter lying on the sidewalk. He ...</td>\n",
              "      <td>2</td>\n",
              "      <td>5</td>\n",
              "    </tr>\n",
              "    <tr>\n",
              "      <th>...</th>\n",
              "      <td>...</td>\n",
              "      <td>...</td>\n",
              "      <td>...</td>\n",
              "    </tr>\n",
              "    <tr>\n",
              "      <th>2110</th>\n",
              "      <td>Yvonne had always been overweight. For New Yea...</td>\n",
              "      <td>1</td>\n",
              "      <td>5</td>\n",
              "    </tr>\n",
              "    <tr>\n",
              "      <th>2111</th>\n",
              "      <td>Zack and his friends passed a scary house on t...</td>\n",
              "      <td>2</td>\n",
              "      <td>5</td>\n",
              "    </tr>\n",
              "    <tr>\n",
              "      <th>2112</th>\n",
              "      <td>Zeke was throwing a Halloween party. All his f...</td>\n",
              "      <td>1</td>\n",
              "      <td>3</td>\n",
              "    </tr>\n",
              "    <tr>\n",
              "      <th>2114</th>\n",
              "      <td>Zeke was tired of living in America. He decide...</td>\n",
              "      <td>2</td>\n",
              "      <td>5</td>\n",
              "    </tr>\n",
              "    <tr>\n",
              "      <th>2115</th>\n",
              "      <td>Zoey was taunted by her friends for having a s...</td>\n",
              "      <td>1</td>\n",
              "      <td>5</td>\n",
              "    </tr>\n",
              "  </tbody>\n",
              "</table>\n",
              "<p>1571 rows × 3 columns</p>\n",
              "</div>"
            ],
            "text/plain": [
              "                                               combined  ...  t5_count\n",
              "0     A bar owner put out a large banner to advertis...  ...         5\n",
              "1     A beautiful bunch of bananas dangled just out ...  ...         5\n",
              "2     A boy Jack had been asking his parents to get ...  ...         5\n",
              "3     A boy needed to learn to drive. He asked his f...  ...         5\n",
              "4     A boy saw a quarter lying on the sidewalk. He ...  ...         5\n",
              "...                                                 ...  ...       ...\n",
              "2110  Yvonne had always been overweight. For New Yea...  ...         5\n",
              "2111  Zack and his friends passed a scary house on t...  ...         5\n",
              "2112  Zeke was throwing a Halloween party. All his f...  ...         3\n",
              "2114  Zeke was tired of living in America. He decide...  ...         5\n",
              "2115  Zoey was taunted by her friends for having a s...  ...         5\n",
              "\n",
              "[1571 rows x 3 columns]"
            ]
          },
          "metadata": {},
          "execution_count": 21
        }
      ]
    },
    {
      "cell_type": "code",
      "metadata": {
        "id": "9QysQu4_f98V"
      },
      "source": [
        "val_5 = val_5.merge(t5_senti_result, on = 'combined', how = 'left')"
      ],
      "execution_count": null,
      "outputs": []
    },
    {
      "cell_type": "code",
      "metadata": {
        "colab": {
          "base_uri": "https://localhost:8080/",
          "height": 782
        },
        "id": "MmRlgsvqgHHd",
        "outputId": "e237213d-8cbb-43c8-eff1-c8bec7c66728"
      },
      "source": [
        "val_5.head()"
      ],
      "execution_count": null,
      "outputs": [
        {
          "output_type": "execute_result",
          "data": {
            "text/html": [
              "<div>\n",
              "<style scoped>\n",
              "    .dataframe tbody tr th:only-of-type {\n",
              "        vertical-align: middle;\n",
              "    }\n",
              "\n",
              "    .dataframe tbody tr th {\n",
              "        vertical-align: top;\n",
              "    }\n",
              "\n",
              "    .dataframe thead th {\n",
              "        text-align: right;\n",
              "    }\n",
              "</style>\n",
              "<table border=\"1\" class=\"dataframe\">\n",
              "  <thead>\n",
              "    <tr style=\"text-align: right;\">\n",
              "      <th></th>\n",
              "      <th>Unnamed: 0</th>\n",
              "      <th>InputStoryid</th>\n",
              "      <th>InputSentence1</th>\n",
              "      <th>InputSentence2</th>\n",
              "      <th>InputSentence3</th>\n",
              "      <th>InputSentence4</th>\n",
              "      <th>RandomFifthSentenceQuiz1</th>\n",
              "      <th>RandomFifthSentenceQuiz2</th>\n",
              "      <th>AnswerRightEnding</th>\n",
              "      <th>combined</th>\n",
              "      <th>output</th>\n",
              "      <th>cos_result</th>\n",
              "      <th>T5_SS1</th>\n",
              "      <th>T5_SS2</th>\n",
              "      <th>T5_result</th>\n",
              "      <th>messages</th>\n",
              "      <th>USE_similarity</th>\n",
              "      <th>SS1_USE</th>\n",
              "      <th>SS2_USE</th>\n",
              "      <th>result_USE</th>\n",
              "      <th>output_sentiment</th>\n",
              "      <th>ending1_sentiment</th>\n",
              "      <th>ending2_sentiment</th>\n",
              "      <th>ending1_sentiment_result</th>\n",
              "      <th>ending2_sentiment_result</th>\n",
              "      <th>T5_sentiment1</th>\n",
              "      <th>T5_sentiment2</th>\n",
              "      <th>T5_senti_result_x</th>\n",
              "      <th>T5_senti_result_y</th>\n",
              "      <th>t5_count</th>\n",
              "    </tr>\n",
              "  </thead>\n",
              "  <tbody>\n",
              "    <tr>\n",
              "      <th>0</th>\n",
              "      <td>0</td>\n",
              "      <td>138d5bfb-05cc-41e3-bf2c-fa85ebad14e2</td>\n",
              "      <td>Rick grew up in a troubled household.</td>\n",
              "      <td>He never found good support in family, and tur...</td>\n",
              "      <td>It wasn't long before Rick got shot in a robbery.</td>\n",
              "      <td>The incident caused him to turn a new leaf.</td>\n",
              "      <td>He is happy now.</td>\n",
              "      <td>He joined a gang.</td>\n",
              "      <td>1</td>\n",
              "      <td>Rick grew up in a troubled household. He never...</td>\n",
              "      <td>He started his own gang.</td>\n",
              "      <td>2</td>\n",
              "      <td>0.0</td>\n",
              "      <td>1.6</td>\n",
              "      <td>2</td>\n",
              "      <td>['He started his own gang.', 'He is happy now....</td>\n",
              "      <td>(0.28910017, 0.7812897, 2)</td>\n",
              "      <td>0.289100</td>\n",
              "      <td>0.781290</td>\n",
              "      <td>2</td>\n",
              "      <td>NEGATIVE</td>\n",
              "      <td>POSITIVE</td>\n",
              "      <td>NEGATIVE</td>\n",
              "      <td>0</td>\n",
              "      <td>1</td>\n",
              "      <td>0.0</td>\n",
              "      <td>2.6</td>\n",
              "      <td>2</td>\n",
              "      <td>2</td>\n",
              "      <td>5</td>\n",
              "    </tr>\n",
              "    <tr>\n",
              "      <th>1</th>\n",
              "      <td>0</td>\n",
              "      <td>138d5bfb-05cc-41e3-bf2c-fa85ebad14e2</td>\n",
              "      <td>Rick grew up in a troubled household.</td>\n",
              "      <td>He never found good support in family, and tur...</td>\n",
              "      <td>It wasn't long before Rick got shot in a robbery.</td>\n",
              "      <td>The incident caused him to turn a new leaf.</td>\n",
              "      <td>He is happy now.</td>\n",
              "      <td>He joined a gang.</td>\n",
              "      <td>1</td>\n",
              "      <td>Rick grew up in a troubled household. He never...</td>\n",
              "      <td>Now, Rick lives in a homeless shelter.</td>\n",
              "      <td>2</td>\n",
              "      <td>0.4</td>\n",
              "      <td>0.0</td>\n",
              "      <td>1</td>\n",
              "      <td>['Now, Rick lives in a homeless shelter.', 'He...</td>\n",
              "      <td>(0.1753709, 0.15250778, 1)</td>\n",
              "      <td>0.175371</td>\n",
              "      <td>0.152508</td>\n",
              "      <td>1</td>\n",
              "      <td>NEGATIVE</td>\n",
              "      <td>POSITIVE</td>\n",
              "      <td>NEGATIVE</td>\n",
              "      <td>0</td>\n",
              "      <td>1</td>\n",
              "      <td>0.4</td>\n",
              "      <td>1.0</td>\n",
              "      <td>2</td>\n",
              "      <td>2</td>\n",
              "      <td>5</td>\n",
              "    </tr>\n",
              "    <tr>\n",
              "      <th>2</th>\n",
              "      <td>0</td>\n",
              "      <td>138d5bfb-05cc-41e3-bf2c-fa85ebad14e2</td>\n",
              "      <td>Rick grew up in a troubled household.</td>\n",
              "      <td>He never found good support in family, and tur...</td>\n",
              "      <td>It wasn't long before Rick got shot in a robbery.</td>\n",
              "      <td>The incident caused him to turn a new leaf.</td>\n",
              "      <td>He is happy now.</td>\n",
              "      <td>He joined a gang.</td>\n",
              "      <td>1</td>\n",
              "      <td>Rick grew up in a troubled household. He never...</td>\n",
              "      <td>He started his own gang, and became a drug add...</td>\n",
              "      <td>2</td>\n",
              "      <td>0.0</td>\n",
              "      <td>1.6</td>\n",
              "      <td>2</td>\n",
              "      <td>['He started his own gang, and became a drug a...</td>\n",
              "      <td>(0.13219982, 0.59830046, 2)</td>\n",
              "      <td>0.132200</td>\n",
              "      <td>0.598300</td>\n",
              "      <td>2</td>\n",
              "      <td>NEGATIVE</td>\n",
              "      <td>POSITIVE</td>\n",
              "      <td>NEGATIVE</td>\n",
              "      <td>0</td>\n",
              "      <td>1</td>\n",
              "      <td>0.0</td>\n",
              "      <td>2.6</td>\n",
              "      <td>2</td>\n",
              "      <td>2</td>\n",
              "      <td>5</td>\n",
              "    </tr>\n",
              "    <tr>\n",
              "      <th>3</th>\n",
              "      <td>0</td>\n",
              "      <td>138d5bfb-05cc-41e3-bf2c-fa85ebad14e2</td>\n",
              "      <td>Rick grew up in a troubled household.</td>\n",
              "      <td>He never found good support in family, and tur...</td>\n",
              "      <td>It wasn't long before Rick got shot in a robbery.</td>\n",
              "      <td>The incident caused him to turn a new leaf.</td>\n",
              "      <td>He is happy now.</td>\n",
              "      <td>He joined a gang.</td>\n",
              "      <td>1</td>\n",
              "      <td>Rick grew up in a troubled household. He never...</td>\n",
              "      <td>He started his own gang, and became a hermit.</td>\n",
              "      <td>2</td>\n",
              "      <td>0.0</td>\n",
              "      <td>1.6</td>\n",
              "      <td>2</td>\n",
              "      <td>['He started his own gang, and became a hermit...</td>\n",
              "      <td>(0.19345042, 0.56074643, 2)</td>\n",
              "      <td>0.193450</td>\n",
              "      <td>0.560746</td>\n",
              "      <td>2</td>\n",
              "      <td>POSITIVE</td>\n",
              "      <td>POSITIVE</td>\n",
              "      <td>NEGATIVE</td>\n",
              "      <td>1</td>\n",
              "      <td>0</td>\n",
              "      <td>1.0</td>\n",
              "      <td>1.6</td>\n",
              "      <td>2</td>\n",
              "      <td>2</td>\n",
              "      <td>5</td>\n",
              "    </tr>\n",
              "    <tr>\n",
              "      <th>4</th>\n",
              "      <td>0</td>\n",
              "      <td>138d5bfb-05cc-41e3-bf2c-fa85ebad14e2</td>\n",
              "      <td>Rick grew up in a troubled household.</td>\n",
              "      <td>He never found good support in family, and tur...</td>\n",
              "      <td>It wasn't long before Rick got shot in a robbery.</td>\n",
              "      <td>The incident caused him to turn a new leaf.</td>\n",
              "      <td>He is happy now.</td>\n",
              "      <td>He joined a gang.</td>\n",
              "      <td>1</td>\n",
              "      <td>Rick grew up in a troubled household. He never...</td>\n",
              "      <td>He started his own gang, and became a drug dea...</td>\n",
              "      <td>2</td>\n",
              "      <td>0.0</td>\n",
              "      <td>1.6</td>\n",
              "      <td>2</td>\n",
              "      <td>['He started his own gang, and became a drug d...</td>\n",
              "      <td>(0.16200918, 0.62089217, 2)</td>\n",
              "      <td>0.162009</td>\n",
              "      <td>0.620892</td>\n",
              "      <td>2</td>\n",
              "      <td>NEGATIVE</td>\n",
              "      <td>POSITIVE</td>\n",
              "      <td>NEGATIVE</td>\n",
              "      <td>0</td>\n",
              "      <td>1</td>\n",
              "      <td>0.0</td>\n",
              "      <td>2.6</td>\n",
              "      <td>2</td>\n",
              "      <td>2</td>\n",
              "      <td>5</td>\n",
              "    </tr>\n",
              "  </tbody>\n",
              "</table>\n",
              "</div>"
            ],
            "text/plain": [
              "   Unnamed: 0  ... t5_count\n",
              "0           0  ...        5\n",
              "1           0  ...        5\n",
              "2           0  ...        5\n",
              "3           0  ...        5\n",
              "4           0  ...        5\n",
              "\n",
              "[5 rows x 30 columns]"
            ]
          },
          "metadata": {},
          "execution_count": 23
        }
      ]
    },
    {
      "cell_type": "code",
      "metadata": {
        "id": "y7K6q3q0M26V"
      },
      "source": [
        "val_5['diff_t5_senti'] = val_5['T5_sentiment1'] - val_5['T5_sentiment2']\n",
        "val_5['final_result_t5_senti'] = (val_5['T5_senti_result_x'] != val_5['AnswerRightEnding'])\n",
        "val_5['final_result_t5_senti'] = (val_5['T5_senti_result_x'] == val_5['AnswerRightEnding'])"
      ],
      "execution_count": null,
      "outputs": []
    },
    {
      "cell_type": "code",
      "metadata": {
        "colab": {
          "base_uri": "https://localhost:8080/",
          "height": 515
        },
        "id": "XLCHJzfeM2Id",
        "outputId": "d512f932-c8a1-4d89-f596-d33b73410da8"
      },
      "source": [
        "fig, ax = plt.subplots(figsize =(10, 7))\n",
        "ax.hist([val_5[val_5['final_result_t5_senti']==True]['diff_t5_senti'],val_5[val_5['final_result_t5_senti']==False]['diff_t5_senti']],\n",
        "        label = ['Right Prediction', 'Wrong Prediction'],\n",
        "        color=['g','r'],\n",
        "        alpha=0.5)\n",
        "plt.legend(loc='upper right')\n",
        "\n",
        "plt.title('Difference between 2 USE Simiarity Scores by right | wrong prediction')\n",
        "plt.xlabel('score')\n",
        "plt.ylabel('counts')\n",
        " \n",
        "# Show plot\n",
        "plt.show()"
      ],
      "execution_count": null,
      "outputs": [
        {
          "output_type": "stream",
          "name": "stderr",
          "text": [
            "/usr/local/lib/python3.7/dist-packages/numpy/core/_asarray.py:83: VisibleDeprecationWarning: Creating an ndarray from ragged nested sequences (which is a list-or-tuple of lists-or-tuples-or ndarrays with different lengths or shapes) is deprecated. If you meant to do this, you must specify 'dtype=object' when creating the ndarray\n",
            "  return array(a, dtype, copy=False, order=order)\n"
          ]
        },
        {
          "output_type": "display_data",
          "data": {
            "image/png": "[encoded data removed]",
            "text/plain": [
              "<Figure size 720x504 with 1 Axes>"
            ]
          },
          "metadata": {
            "needs_background": "light"
          }
        }
      ]
    },
    {
      "cell_type": "code",
      "metadata": {
        "id": "u8diuLeVRfG5"
      },
      "source": [
        "val_5.to_csv('val_5_output_final.csv')"
      ],
      "execution_count": null,
      "outputs": []
    },
    {
      "cell_type": "markdown",
      "metadata": {
        "id": "xZs5s37livfy"
      },
      "source": [
        "# USE Similarity Scores"
      ]
    },
    {
      "cell_type": "code",
      "metadata": {
        "id": "ilLzmXmigJkN"
      },
      "source": [
        "val_5['diff_USE'] = val_5['SS1_USE'] - val_5['SS2_USE']\n",
        "val_5['final_result_USE'] = (val_5['result_USE'] != val_5['AnswerRightEnding'])\n",
        "val_5['final_result_USE'] = (val_5['result_USE'] == val_5['AnswerRightEnding'])"
      ],
      "execution_count": null,
      "outputs": []
    },
    {
      "cell_type": "code",
      "metadata": {
        "colab": {
          "base_uri": "https://localhost:8080/",
          "height": 1000
        },
        "id": "srbGnP7Si1ri",
        "outputId": "a03f440b-f636-4cf8-eb11-73ffef6cc3d8"
      },
      "source": [
        "val_5[val_5['final_result_USE']==True]"
      ],
      "execution_count": null,
      "outputs": [
        {
          "output_type": "execute_result",
          "data": {
            "text/html": [
              "<div>\n",
              "<style scoped>\n",
              "    .dataframe tbody tr th:only-of-type {\n",
              "        vertical-align: middle;\n",
              "    }\n",
              "\n",
              "    .dataframe tbody tr th {\n",
              "        vertical-align: top;\n",
              "    }\n",
              "\n",
              "    .dataframe thead th {\n",
              "        text-align: right;\n",
              "    }\n",
              "</style>\n",
              "<table border=\"1\" class=\"dataframe\">\n",
              "  <thead>\n",
              "    <tr style=\"text-align: right;\">\n",
              "      <th></th>\n",
              "      <th>Unnamed: 0</th>\n",
              "      <th>InputStoryid</th>\n",
              "      <th>InputSentence1</th>\n",
              "      <th>InputSentence2</th>\n",
              "      <th>InputSentence3</th>\n",
              "      <th>InputSentence4</th>\n",
              "      <th>RandomFifthSentenceQuiz1</th>\n",
              "      <th>RandomFifthSentenceQuiz2</th>\n",
              "      <th>AnswerRightEnding</th>\n",
              "      <th>combined</th>\n",
              "      <th>output</th>\n",
              "      <th>cos_result</th>\n",
              "      <th>T5_SS1</th>\n",
              "      <th>T5_SS2</th>\n",
              "      <th>T5_result</th>\n",
              "      <th>messages</th>\n",
              "      <th>USE_similarity</th>\n",
              "      <th>SS1_USE</th>\n",
              "      <th>SS2_USE</th>\n",
              "      <th>result_USE</th>\n",
              "      <th>T5_senti_result</th>\n",
              "      <th>t5_count</th>\n",
              "      <th>diff_USE</th>\n",
              "      <th>final_result_USE</th>\n",
              "    </tr>\n",
              "  </thead>\n",
              "  <tbody>\n",
              "    <tr>\n",
              "      <th>1</th>\n",
              "      <td>0</td>\n",
              "      <td>138d5bfb-05cc-41e3-bf2c-fa85ebad14e2</td>\n",
              "      <td>Rick grew up in a troubled household.</td>\n",
              "      <td>He never found good support in family, and tur...</td>\n",
              "      <td>It wasn't long before Rick got shot in a robbery.</td>\n",
              "      <td>The incident caused him to turn a new leaf.</td>\n",
              "      <td>He is happy now.</td>\n",
              "      <td>He joined a gang.</td>\n",
              "      <td>1</td>\n",
              "      <td>Rick grew up in a troubled household. He never...</td>\n",
              "      <td>Now, Rick lives in a homeless shelter.</td>\n",
              "      <td>2</td>\n",
              "      <td>0.4</td>\n",
              "      <td>0.0</td>\n",
              "      <td>1</td>\n",
              "      <td>['Now, Rick lives in a homeless shelter.', 'He...</td>\n",
              "      <td>(0.1753709, 0.15250778, 1)</td>\n",
              "      <td>0.175371</td>\n",
              "      <td>0.152508</td>\n",
              "      <td>1</td>\n",
              "      <td>2</td>\n",
              "      <td>5</td>\n",
              "      <td>0.022863</td>\n",
              "      <td>True</td>\n",
              "    </tr>\n",
              "    <tr>\n",
              "      <th>10</th>\n",
              "      <td>2</td>\n",
              "      <td>e8f628d5-9f97-40ed-8611-fc0e774673c4</td>\n",
              "      <td>Sarah had been dreaming of visiting Europe for...</td>\n",
              "      <td>She had finally saved enough for the trip.</td>\n",
              "      <td>She landed in Spain and traveled east across t...</td>\n",
              "      <td>She didn't like how different everything was.</td>\n",
              "      <td>Sarah then decided to move to Europe.</td>\n",
              "      <td>Sarah decided that she preferred her home over...</td>\n",
              "      <td>2</td>\n",
              "      <td>Sarah had been dreaming of visiting Europe for...</td>\n",
              "      <td>Sarah decided she would never go back.</td>\n",
              "      <td>2</td>\n",
              "      <td>1.4</td>\n",
              "      <td>2.4</td>\n",
              "      <td>2</td>\n",
              "      <td>['Sarah decided she would never go back.', 'Sa...</td>\n",
              "      <td>(0.5580535, 0.61065066, 2)</td>\n",
              "      <td>0.558053</td>\n",
              "      <td>0.610651</td>\n",
              "      <td>2</td>\n",
              "      <td>2</td>\n",
              "      <td>4</td>\n",
              "      <td>-0.052597</td>\n",
              "      <td>True</td>\n",
              "    </tr>\n",
              "    <tr>\n",
              "      <th>11</th>\n",
              "      <td>2</td>\n",
              "      <td>e8f628d5-9f97-40ed-8611-fc0e774673c4</td>\n",
              "      <td>Sarah had been dreaming of visiting Europe for...</td>\n",
              "      <td>She had finally saved enough for the trip.</td>\n",
              "      <td>She landed in Spain and traveled east across t...</td>\n",
              "      <td>She didn't like how different everything was.</td>\n",
              "      <td>Sarah then decided to move to Europe.</td>\n",
              "      <td>Sarah decided that she preferred her home over...</td>\n",
              "      <td>2</td>\n",
              "      <td>Sarah had been dreaming of visiting Europe for...</td>\n",
              "      <td>However, she was happy to finally be in Europe.</td>\n",
              "      <td>1</td>\n",
              "      <td>2.2</td>\n",
              "      <td>1.6</td>\n",
              "      <td>1</td>\n",
              "      <td>['However, she was happy to finally be in Euro...</td>\n",
              "      <td>(0.37345934, 0.38286132, 2)</td>\n",
              "      <td>0.373459</td>\n",
              "      <td>0.382861</td>\n",
              "      <td>2</td>\n",
              "      <td>2</td>\n",
              "      <td>4</td>\n",
              "      <td>-0.009402</td>\n",
              "      <td>True</td>\n",
              "    </tr>\n",
              "    <tr>\n",
              "      <th>12</th>\n",
              "      <td>2</td>\n",
              "      <td>e8f628d5-9f97-40ed-8611-fc0e774673c4</td>\n",
              "      <td>Sarah had been dreaming of visiting Europe for...</td>\n",
              "      <td>She had finally saved enough for the trip.</td>\n",
              "      <td>She landed in Spain and traveled east across t...</td>\n",
              "      <td>She didn't like how different everything was.</td>\n",
              "      <td>Sarah then decided to move to Europe.</td>\n",
              "      <td>Sarah decided that she preferred her home over...</td>\n",
              "      <td>2</td>\n",
              "      <td>Sarah had been dreaming of visiting Europe for...</td>\n",
              "      <td>Sarah decided to stay in Spain until she could...</td>\n",
              "      <td>1</td>\n",
              "      <td>1.6</td>\n",
              "      <td>1.6</td>\n",
              "      <td>2</td>\n",
              "      <td>['Sarah decided to stay in Spain until she cou...</td>\n",
              "      <td>(0.5864828, 0.62492394, 2)</td>\n",
              "      <td>0.586483</td>\n",
              "      <td>0.624924</td>\n",
              "      <td>2</td>\n",
              "      <td>2</td>\n",
              "      <td>4</td>\n",
              "      <td>-0.038441</td>\n",
              "      <td>True</td>\n",
              "    </tr>\n",
              "    <tr>\n",
              "      <th>15</th>\n",
              "      <td>3</td>\n",
              "      <td>f5226bfe-9f26-4377-b05f-3d9568dbdec1</td>\n",
              "      <td>Gina was worried the cookie dough in the tube ...</td>\n",
              "      <td>She was very happy to find she was wrong.</td>\n",
              "      <td>The cookies from the tube were as good as from...</td>\n",
              "      <td>Gina intended to only eat 2 cookies and save t...</td>\n",
              "      <td>Gina liked the cookies so much she ate them al...</td>\n",
              "      <td>Gina gave the cookies away at her church.</td>\n",
              "      <td>1</td>\n",
              "      <td>Gina was worried the cookie dough in the tube ...</td>\n",
              "      <td>When she ate the first cookie, she realized sh...</td>\n",
              "      <td>1</td>\n",
              "      <td>1.6</td>\n",
              "      <td>1.6</td>\n",
              "      <td>2</td>\n",
              "      <td>['When she ate the first cookie, she realized ...</td>\n",
              "      <td>(0.5954293, 0.48026562, 1)</td>\n",
              "      <td>0.595429</td>\n",
              "      <td>0.480266</td>\n",
              "      <td>1</td>\n",
              "      <td>1</td>\n",
              "      <td>3</td>\n",
              "      <td>0.115164</td>\n",
              "      <td>True</td>\n",
              "    </tr>\n",
              "    <tr>\n",
              "      <th>...</th>\n",
              "      <td>...</td>\n",
              "      <td>...</td>\n",
              "      <td>...</td>\n",
              "      <td>...</td>\n",
              "      <td>...</td>\n",
              "      <td>...</td>\n",
              "      <td>...</td>\n",
              "      <td>...</td>\n",
              "      <td>...</td>\n",
              "      <td>...</td>\n",
              "      <td>...</td>\n",
              "      <td>...</td>\n",
              "      <td>...</td>\n",
              "      <td>...</td>\n",
              "      <td>...</td>\n",
              "      <td>...</td>\n",
              "      <td>...</td>\n",
              "      <td>...</td>\n",
              "      <td>...</td>\n",
              "      <td>...</td>\n",
              "      <td>...</td>\n",
              "      <td>...</td>\n",
              "      <td>...</td>\n",
              "      <td>...</td>\n",
              "    </tr>\n",
              "    <tr>\n",
              "      <th>7850</th>\n",
              "      <td>1570</td>\n",
              "      <td>34ddd737-0709-4fc7-b64b-6c43eaf9f48c</td>\n",
              "      <td>I wanted to buy a video game console.</td>\n",
              "      <td>I asked my parents, and they came up with an i...</td>\n",
              "      <td>They said if I did my chores, I would be given...</td>\n",
              "      <td>I did my chores without being asked every week...</td>\n",
              "      <td>My parents gave me enough money to buy the con...</td>\n",
              "      <td>At the end of the summer I gave the money back...</td>\n",
              "      <td>1</td>\n",
              "      <td>I wanted to buy a video game console. I asked ...</td>\n",
              "      <td>Now I have enough money to buy the console!</td>\n",
              "      <td>1</td>\n",
              "      <td>3.2</td>\n",
              "      <td>0.0</td>\n",
              "      <td>1</td>\n",
              "      <td>['Now I have enough money to buy the console!'...</td>\n",
              "      <td>(0.7188125, 0.20231202, 1)</td>\n",
              "      <td>0.718813</td>\n",
              "      <td>0.202312</td>\n",
              "      <td>1</td>\n",
              "      <td>1</td>\n",
              "      <td>5</td>\n",
              "      <td>0.516501</td>\n",
              "      <td>True</td>\n",
              "    </tr>\n",
              "    <tr>\n",
              "      <th>7851</th>\n",
              "      <td>1570</td>\n",
              "      <td>34ddd737-0709-4fc7-b64b-6c43eaf9f48c</td>\n",
              "      <td>I wanted to buy a video game console.</td>\n",
              "      <td>I asked my parents, and they came up with an i...</td>\n",
              "      <td>They said if I did my chores, I would be given...</td>\n",
              "      <td>I did my chores without being asked every week...</td>\n",
              "      <td>My parents gave me enough money to buy the con...</td>\n",
              "      <td>At the end of the summer I gave the money back...</td>\n",
              "      <td>1</td>\n",
              "      <td>I wanted to buy a video game console. I asked ...</td>\n",
              "      <td>I saved enough money to buy the console!</td>\n",
              "      <td>1</td>\n",
              "      <td>2.8</td>\n",
              "      <td>0.0</td>\n",
              "      <td>1</td>\n",
              "      <td>['I saved enough money to buy the console!', '...</td>\n",
              "      <td>(0.73893046, 0.29759365, 1)</td>\n",
              "      <td>0.738930</td>\n",
              "      <td>0.297594</td>\n",
              "      <td>1</td>\n",
              "      <td>1</td>\n",
              "      <td>5</td>\n",
              "      <td>0.441337</td>\n",
              "      <td>True</td>\n",
              "    </tr>\n",
              "    <tr>\n",
              "      <th>7852</th>\n",
              "      <td>1570</td>\n",
              "      <td>34ddd737-0709-4fc7-b64b-6c43eaf9f48c</td>\n",
              "      <td>I wanted to buy a video game console.</td>\n",
              "      <td>I asked my parents, and they came up with an i...</td>\n",
              "      <td>They said if I did my chores, I would be given...</td>\n",
              "      <td>I did my chores without being asked every week...</td>\n",
              "      <td>My parents gave me enough money to buy the con...</td>\n",
              "      <td>At the end of the summer I gave the money back...</td>\n",
              "      <td>1</td>\n",
              "      <td>I wanted to buy a video game console. I asked ...</td>\n",
              "      <td>I saved up enough money to buy the console!</td>\n",
              "      <td>1</td>\n",
              "      <td>2.8</td>\n",
              "      <td>0.0</td>\n",
              "      <td>1</td>\n",
              "      <td>['I saved up enough money to buy the console!'...</td>\n",
              "      <td>(0.7783962, 0.30111638, 1)</td>\n",
              "      <td>0.778396</td>\n",
              "      <td>0.301116</td>\n",
              "      <td>1</td>\n",
              "      <td>1</td>\n",
              "      <td>5</td>\n",
              "      <td>0.477280</td>\n",
              "      <td>True</td>\n",
              "    </tr>\n",
              "    <tr>\n",
              "      <th>7853</th>\n",
              "      <td>1570</td>\n",
              "      <td>34ddd737-0709-4fc7-b64b-6c43eaf9f48c</td>\n",
              "      <td>I wanted to buy a video game console.</td>\n",
              "      <td>I asked my parents, and they came up with an i...</td>\n",
              "      <td>They said if I did my chores, I would be given...</td>\n",
              "      <td>I did my chores without being asked every week...</td>\n",
              "      <td>My parents gave me enough money to buy the con...</td>\n",
              "      <td>At the end of the summer I gave the money back...</td>\n",
              "      <td>1</td>\n",
              "      <td>I wanted to buy a video game console. I asked ...</td>\n",
              "      <td>Now I have enough money to buy the console.</td>\n",
              "      <td>1</td>\n",
              "      <td>3.2</td>\n",
              "      <td>0.0</td>\n",
              "      <td>1</td>\n",
              "      <td>['Now I have enough money to buy the console.'...</td>\n",
              "      <td>(0.7188126, 0.20231205, 1)</td>\n",
              "      <td>0.718813</td>\n",
              "      <td>0.202312</td>\n",
              "      <td>1</td>\n",
              "      <td>1</td>\n",
              "      <td>5</td>\n",
              "      <td>0.516501</td>\n",
              "      <td>True</td>\n",
              "    </tr>\n",
              "    <tr>\n",
              "      <th>7854</th>\n",
              "      <td>1570</td>\n",
              "      <td>34ddd737-0709-4fc7-b64b-6c43eaf9f48c</td>\n",
              "      <td>I wanted to buy a video game console.</td>\n",
              "      <td>I asked my parents, and they came up with an i...</td>\n",
              "      <td>They said if I did my chores, I would be given...</td>\n",
              "      <td>I did my chores without being asked every week...</td>\n",
              "      <td>My parents gave me enough money to buy the con...</td>\n",
              "      <td>At the end of the summer I gave the money back...</td>\n",
              "      <td>1</td>\n",
              "      <td>I wanted to buy a video game console. I asked ...</td>\n",
              "      <td>Now, I have enough money to buy the console!</td>\n",
              "      <td>1</td>\n",
              "      <td>3.2</td>\n",
              "      <td>0.0</td>\n",
              "      <td>1</td>\n",
              "      <td>['Now, I have enough money to buy the console!...</td>\n",
              "      <td>(0.7188126, 0.20231198, 1)</td>\n",
              "      <td>0.718813</td>\n",
              "      <td>0.202312</td>\n",
              "      <td>1</td>\n",
              "      <td>1</td>\n",
              "      <td>5</td>\n",
              "      <td>0.516501</td>\n",
              "      <td>True</td>\n",
              "    </tr>\n",
              "  </tbody>\n",
              "</table>\n",
              "<p>5164 rows × 24 columns</p>\n",
              "</div>"
            ],
            "text/plain": [
              "      Unnamed: 0  ... final_result_USE\n",
              "1              0  ...             True\n",
              "10             2  ...             True\n",
              "11             2  ...             True\n",
              "12             2  ...             True\n",
              "15             3  ...             True\n",
              "...          ...  ...              ...\n",
              "7850        1570  ...             True\n",
              "7851        1570  ...             True\n",
              "7852        1570  ...             True\n",
              "7853        1570  ...             True\n",
              "7854        1570  ...             True\n",
              "\n",
              "[5164 rows x 24 columns]"
            ]
          },
          "metadata": {},
          "execution_count": 26
        }
      ]
    },
    {
      "cell_type": "code",
      "metadata": {
        "colab": {
          "base_uri": "https://localhost:8080/",
          "height": 458
        },
        "id": "FJy6ADZNi3EG",
        "outputId": "8ae8c691-3784-47b8-b459-062788278b9e"
      },
      "source": [
        "fig, ax = plt.subplots(figsize =(10, 7))\n",
        "ax.hist([val_5['SS1_USE'],val_5['SS2_USE']],\n",
        "        label = ['USE Similarity Score with Ending 1', 'USE Similarity Score with Ending 2'],\n",
        "        color=['c','y'],\n",
        "        alpha=0.5)\n",
        "plt.legend(loc='upper right')\n",
        "\n",
        "plt.title('Distribution of USE Simiarity Score between output and Ending1|2')\n",
        "plt.xlabel('score')\n",
        "plt.ylabel('counts')\n",
        "# Show plot\n",
        "plt.show()"
      ],
      "execution_count": null,
      "outputs": [
        {
          "output_type": "display_data",
          "data": {
            "image/png": "[encoded data removed]",
            "text/plain": [
              "<Figure size 720x504 with 1 Axes>"
            ]
          },
          "metadata": {
            "needs_background": "light"
          }
        }
      ]
    },
    {
      "cell_type": "code",
      "metadata": {
        "colab": {
          "base_uri": "https://localhost:8080/",
          "height": 515
        },
        "id": "8xvJ6X1UjOSL",
        "outputId": "4ea6cf4a-c380-4826-adf4-491f8be4b1f5"
      },
      "source": [
        "fig, ax = plt.subplots(figsize =(10, 7))\n",
        "ax.hist([val_5[val_5['final_result_USE']==True]['diff_USE'],val_5[val_5['final_result_USE']==False]['diff_USE']],\n",
        "        label = ['Right Prediction', 'Wrong Prediction'],\n",
        "        color=['g','r'],\n",
        "        alpha=0.5)\n",
        "plt.legend(loc='upper right')\n",
        "\n",
        "plt.title('Difference between 2 USE Simiarity Scores by right | wrong prediction')\n",
        "plt.xlabel('score')\n",
        "plt.ylabel('counts')\n",
        " \n",
        "# Show plot\n",
        "plt.show()"
      ],
      "execution_count": null,
      "outputs": [
        {
          "output_type": "stream",
          "name": "stderr",
          "text": [
            "/usr/local/lib/python3.7/dist-packages/numpy/core/_asarray.py:83: VisibleDeprecationWarning: Creating an ndarray from ragged nested sequences (which is a list-or-tuple of lists-or-tuples-or ndarrays with different lengths or shapes) is deprecated. If you meant to do this, you must specify 'dtype=object' when creating the ndarray\n",
            "  return array(a, dtype, copy=False, order=order)\n"
          ]
        },
        {
          "output_type": "display_data",
          "data": {
            "image/png": "[encoded data removed]",
            "text/plain": [
              "<Figure size 720x504 with 1 Axes>"
            ]
          },
          "metadata": {
            "needs_background": "light"
          }
        }
      ]
    },
    {
      "cell_type": "code",
      "metadata": {
        "id": "azGIITWoi4ST"
      },
      "source": [
        "val_5.to_csv('/content/drive/MyDrive/ROCstory/output/Val final/val_5output_senti.csv')"
      ],
      "execution_count": null,
      "outputs": []
    },
    {
      "cell_type": "code",
      "metadata": {
        "colab": {
          "base_uri": "https://localhost:8080/",
          "height": 862
        },
        "id": "cbQhfhDsj2c0",
        "outputId": "8e4a4146-8a7b-43cd-b7e4-bf8e82e027ea"
      },
      "source": [
        "wrong_set = val_5[val_5['final_result_USE']==False]\n",
        "wrong_set['diff_USE'] = abs(wrong_set['diff_USE'])\n",
        "cut_bins = [0,0.2,0.6,1]\n",
        "bin_labels = ['similar', 'neutral', 'different']\n",
        "wrong_set['bucket'] = pd.cut(wrong_set['diff_USE'],\n",
        "                              bins = cut_bins,\n",
        "                              labels=bin_labels)\n",
        "wrong_set.head()"
      ],
      "execution_count": null,
      "outputs": [
        {
          "output_type": "stream",
          "name": "stderr",
          "text": [
            "/usr/local/lib/python3.7/dist-packages/ipykernel_launcher.py:2: SettingWithCopyWarning: \n",
            "A value is trying to be set on a copy of a slice from a DataFrame.\n",
            "Try using .loc[row_indexer,col_indexer] = value instead\n",
            "\n",
            "See the caveats in the documentation: https://pandas.pydata.org/pandas-docs/stable/user_guide/indexing.html#returning-a-view-versus-a-copy\n",
            "  \n",
            "/usr/local/lib/python3.7/dist-packages/ipykernel_launcher.py:7: SettingWithCopyWarning: \n",
            "A value is trying to be set on a copy of a slice from a DataFrame.\n",
            "Try using .loc[row_indexer,col_indexer] = value instead\n",
            "\n",
            "See the caveats in the documentation: https://pandas.pydata.org/pandas-docs/stable/user_guide/indexing.html#returning-a-view-versus-a-copy\n",
            "  import sys\n"
          ]
        },
        {
          "output_type": "execute_result",
          "data": {
            "text/html": [
              "<div>\n",
              "<style scoped>\n",
              "    .dataframe tbody tr th:only-of-type {\n",
              "        vertical-align: middle;\n",
              "    }\n",
              "\n",
              "    .dataframe tbody tr th {\n",
              "        vertical-align: top;\n",
              "    }\n",
              "\n",
              "    .dataframe thead th {\n",
              "        text-align: right;\n",
              "    }\n",
              "</style>\n",
              "<table border=\"1\" class=\"dataframe\">\n",
              "  <thead>\n",
              "    <tr style=\"text-align: right;\">\n",
              "      <th></th>\n",
              "      <th>Unnamed: 0</th>\n",
              "      <th>InputStoryid</th>\n",
              "      <th>InputSentence1</th>\n",
              "      <th>InputSentence2</th>\n",
              "      <th>InputSentence3</th>\n",
              "      <th>InputSentence4</th>\n",
              "      <th>RandomFifthSentenceQuiz1</th>\n",
              "      <th>RandomFifthSentenceQuiz2</th>\n",
              "      <th>AnswerRightEnding</th>\n",
              "      <th>combined</th>\n",
              "      <th>output</th>\n",
              "      <th>cos_result</th>\n",
              "      <th>T5_SS1</th>\n",
              "      <th>T5_SS2</th>\n",
              "      <th>T5_result</th>\n",
              "      <th>messages</th>\n",
              "      <th>USE_similarity</th>\n",
              "      <th>SS1_USE</th>\n",
              "      <th>SS2_USE</th>\n",
              "      <th>result_USE</th>\n",
              "      <th>T5_senti_result</th>\n",
              "      <th>t5_count</th>\n",
              "      <th>diff_USE</th>\n",
              "      <th>final_result_USE</th>\n",
              "      <th>bucket</th>\n",
              "    </tr>\n",
              "  </thead>\n",
              "  <tbody>\n",
              "    <tr>\n",
              "      <th>0</th>\n",
              "      <td>0</td>\n",
              "      <td>138d5bfb-05cc-41e3-bf2c-fa85ebad14e2</td>\n",
              "      <td>Rick grew up in a troubled household.</td>\n",
              "      <td>He never found good support in family, and tur...</td>\n",
              "      <td>It wasn't long before Rick got shot in a robbery.</td>\n",
              "      <td>The incident caused him to turn a new leaf.</td>\n",
              "      <td>He is happy now.</td>\n",
              "      <td>He joined a gang.</td>\n",
              "      <td>1</td>\n",
              "      <td>Rick grew up in a troubled household. He never...</td>\n",
              "      <td>He started his own gang.</td>\n",
              "      <td>2</td>\n",
              "      <td>0.0</td>\n",
              "      <td>1.6</td>\n",
              "      <td>2</td>\n",
              "      <td>['He started his own gang.', 'He is happy now....</td>\n",
              "      <td>(0.28910017, 0.7812897, 2)</td>\n",
              "      <td>0.289100</td>\n",
              "      <td>0.781290</td>\n",
              "      <td>2</td>\n",
              "      <td>2</td>\n",
              "      <td>5</td>\n",
              "      <td>0.492190</td>\n",
              "      <td>False</td>\n",
              "      <td>neutral</td>\n",
              "    </tr>\n",
              "    <tr>\n",
              "      <th>2</th>\n",
              "      <td>0</td>\n",
              "      <td>138d5bfb-05cc-41e3-bf2c-fa85ebad14e2</td>\n",
              "      <td>Rick grew up in a troubled household.</td>\n",
              "      <td>He never found good support in family, and tur...</td>\n",
              "      <td>It wasn't long before Rick got shot in a robbery.</td>\n",
              "      <td>The incident caused him to turn a new leaf.</td>\n",
              "      <td>He is happy now.</td>\n",
              "      <td>He joined a gang.</td>\n",
              "      <td>1</td>\n",
              "      <td>Rick grew up in a troubled household. He never...</td>\n",
              "      <td>He started his own gang, and became a drug add...</td>\n",
              "      <td>2</td>\n",
              "      <td>0.0</td>\n",
              "      <td>1.6</td>\n",
              "      <td>2</td>\n",
              "      <td>['He started his own gang, and became a drug a...</td>\n",
              "      <td>(0.13219982, 0.59830046, 2)</td>\n",
              "      <td>0.132200</td>\n",
              "      <td>0.598300</td>\n",
              "      <td>2</td>\n",
              "      <td>2</td>\n",
              "      <td>5</td>\n",
              "      <td>0.466101</td>\n",
              "      <td>False</td>\n",
              "      <td>neutral</td>\n",
              "    </tr>\n",
              "    <tr>\n",
              "      <th>3</th>\n",
              "      <td>0</td>\n",
              "      <td>138d5bfb-05cc-41e3-bf2c-fa85ebad14e2</td>\n",
              "      <td>Rick grew up in a troubled household.</td>\n",
              "      <td>He never found good support in family, and tur...</td>\n",
              "      <td>It wasn't long before Rick got shot in a robbery.</td>\n",
              "      <td>The incident caused him to turn a new leaf.</td>\n",
              "      <td>He is happy now.</td>\n",
              "      <td>He joined a gang.</td>\n",
              "      <td>1</td>\n",
              "      <td>Rick grew up in a troubled household. He never...</td>\n",
              "      <td>He started his own gang, and became a hermit.</td>\n",
              "      <td>2</td>\n",
              "      <td>0.0</td>\n",
              "      <td>1.6</td>\n",
              "      <td>2</td>\n",
              "      <td>['He started his own gang, and became a hermit...</td>\n",
              "      <td>(0.19345042, 0.56074643, 2)</td>\n",
              "      <td>0.193450</td>\n",
              "      <td>0.560746</td>\n",
              "      <td>2</td>\n",
              "      <td>2</td>\n",
              "      <td>5</td>\n",
              "      <td>0.367296</td>\n",
              "      <td>False</td>\n",
              "      <td>neutral</td>\n",
              "    </tr>\n",
              "    <tr>\n",
              "      <th>4</th>\n",
              "      <td>0</td>\n",
              "      <td>138d5bfb-05cc-41e3-bf2c-fa85ebad14e2</td>\n",
              "      <td>Rick grew up in a troubled household.</td>\n",
              "      <td>He never found good support in family, and tur...</td>\n",
              "      <td>It wasn't long before Rick got shot in a robbery.</td>\n",
              "      <td>The incident caused him to turn a new leaf.</td>\n",
              "      <td>He is happy now.</td>\n",
              "      <td>He joined a gang.</td>\n",
              "      <td>1</td>\n",
              "      <td>Rick grew up in a troubled household. He never...</td>\n",
              "      <td>He started his own gang, and became a drug dea...</td>\n",
              "      <td>2</td>\n",
              "      <td>0.0</td>\n",
              "      <td>1.6</td>\n",
              "      <td>2</td>\n",
              "      <td>['He started his own gang, and became a drug d...</td>\n",
              "      <td>(0.16200918, 0.62089217, 2)</td>\n",
              "      <td>0.162009</td>\n",
              "      <td>0.620892</td>\n",
              "      <td>2</td>\n",
              "      <td>2</td>\n",
              "      <td>5</td>\n",
              "      <td>0.458883</td>\n",
              "      <td>False</td>\n",
              "      <td>neutral</td>\n",
              "    </tr>\n",
              "    <tr>\n",
              "      <th>5</th>\n",
              "      <td>1</td>\n",
              "      <td>bff9f820-9605-4875-b9af-fe6f14d04256</td>\n",
              "      <td>Laverne needs to prepare something for her fri...</td>\n",
              "      <td>She decides to bake a batch of brownies.</td>\n",
              "      <td>She chooses a recipe and follows it closely.</td>\n",
              "      <td>Laverne tests one of the brownies to make sure...</td>\n",
              "      <td>The brownies are so delicious Laverne eats two...</td>\n",
              "      <td>Laverne doesn't go to her friend's party.</td>\n",
              "      <td>1</td>\n",
              "      <td>Laverne needs to prepare something for her fri...</td>\n",
              "      <td>Laverne is happy that she prepared something f...</td>\n",
              "      <td>2</td>\n",
              "      <td>1.6</td>\n",
              "      <td>1.2</td>\n",
              "      <td>1</td>\n",
              "      <td>['Laverne is happy that she prepared something...</td>\n",
              "      <td>(0.32554862, 0.52743554, 2)</td>\n",
              "      <td>0.325549</td>\n",
              "      <td>0.527436</td>\n",
              "      <td>2</td>\n",
              "      <td>1</td>\n",
              "      <td>4</td>\n",
              "      <td>0.201887</td>\n",
              "      <td>False</td>\n",
              "      <td>neutral</td>\n",
              "    </tr>\n",
              "  </tbody>\n",
              "</table>\n",
              "</div>"
            ],
            "text/plain": [
              "   Unnamed: 0                          InputStoryid  ... final_result_USE   bucket\n",
              "0           0  138d5bfb-05cc-41e3-bf2c-fa85ebad14e2  ...            False  neutral\n",
              "2           0  138d5bfb-05cc-41e3-bf2c-fa85ebad14e2  ...            False  neutral\n",
              "3           0  138d5bfb-05cc-41e3-bf2c-fa85ebad14e2  ...            False  neutral\n",
              "4           0  138d5bfb-05cc-41e3-bf2c-fa85ebad14e2  ...            False  neutral\n",
              "5           1  bff9f820-9605-4875-b9af-fe6f14d04256  ...            False  neutral\n",
              "\n",
              "[5 rows x 25 columns]"
            ]
          },
          "metadata": {},
          "execution_count": 34
        }
      ]
    },
    {
      "cell_type": "code",
      "metadata": {
        "colab": {
          "base_uri": "https://localhost:8080/"
        },
        "id": "d4uW8phJnecH",
        "outputId": "ddd36640-0d01-4c5b-8a22-4e80208024e9"
      },
      "source": [
        "wrong_set.bucket.value_counts() / len(wrong_set)"
      ],
      "execution_count": null,
      "outputs": [
        {
          "output_type": "execute_result",
          "data": {
            "text/plain": [
              "similar      0.783352\n",
              "neutral      0.214790\n",
              "different    0.001858\n",
              "Name: bucket, dtype: float64"
            ]
          },
          "metadata": {},
          "execution_count": 35
        }
      ]
    },
    {
      "cell_type": "markdown",
      "metadata": {
        "id": "ysCoANPNzWXd"
      },
      "source": [
        "For 5 ouputs, 78% of val examples have very similar USE similarity scores."
      ]
    },
    {
      "cell_type": "markdown",
      "metadata": {
        "id": "meAhWesanjoW"
      },
      "source": [
        "# T5 Similarity Scores"
      ]
    },
    {
      "cell_type": "code",
      "metadata": {
        "id": "yHxlyyCyngJH"
      },
      "source": [
        "val_5['T5_SS1'] = val_5['T5_SS1'].astype(float)\n",
        "val_5['T5_SS2'] = val_5['T5_SS2'].astype(float)\n",
        "val_5['diff_t5'] = val_5['T5_SS1'] - val_5['T5_SS2']\n",
        "val_5['final_result_t5'] = (val_5['T5_result'] != val_5['AnswerRightEnding'])\n",
        "val_5['final_result_t5'] = (val_5['T5_result'] == val_5['AnswerRightEnding'])"
      ],
      "execution_count": null,
      "outputs": []
    },
    {
      "cell_type": "code",
      "metadata": {
        "colab": {
          "base_uri": "https://localhost:8080/"
        },
        "id": "WCXL2qMInmeH",
        "outputId": "75dd866e-2748-4851-f917-f2d66a1ce46d"
      },
      "source": [
        "print(len(val_5.loc[(val_5['T5_SS1'] == 0)]) / len(val_5))\n",
        "print(len(val_5.loc[(val_5['T5_SS2'] == 0)]) / len(val_5))\n",
        "print(len(val_5.loc[(val_5['T5_SS1'] == 0) & (val_5['T5_SS2'] == 0)]) / len(val_5))"
      ],
      "execution_count": null,
      "outputs": [
        {
          "output_type": "stream",
          "name": "stdout",
          "text": [
            "0.3331635900700191\n",
            "0.3232336091661362\n",
            "0.12947167409293445\n"
          ]
        }
      ]
    },
    {
      "cell_type": "markdown",
      "metadata": {
        "id": "xSYtdtn9zhh1"
      },
      "source": [
        "* 32% of val cases have zero T5 similarity scores between output and ending 1.\n",
        "* 32% of val cases have zero T5 similarity scores between output and ending 2.\n",
        "* 13% of val cases have zero T5 similarity scores between output and both endings.\n",
        "* It indicates that add more output did not really change the distribution and it is still that 3 sentences are talking about 3 different things, because the next sentence prediction could be various."
      ]
    },
    {
      "cell_type": "code",
      "metadata": {
        "colab": {
          "base_uri": "https://localhost:8080/",
          "height": 458
        },
        "id": "I7glRX9BnoNO",
        "outputId": "bbdccb5d-3ef2-4c3b-86d2-38756e4ee498"
      },
      "source": [
        "fig, ax = plt.subplots(figsize =(10, 7))\n",
        "ax.hist([val_5['T5_SS1'],val_5['T5_SS2']],\n",
        "        label = ['T5 Similarity Score with Ending 1', 'T5 Similarity Score with Ending 2'],\n",
        "        color=['c','y'],\n",
        "        alpha=0.5)\n",
        "plt.legend(loc='upper right')\n",
        "\n",
        "plt.title('Distribution of T5 Simiarity Score between output and Ending1|2')\n",
        "plt.xlabel('score')\n",
        "plt.ylabel('counts')\n",
        "# Show plot\n",
        "plt.show()"
      ],
      "execution_count": null,
      "outputs": [
        {
          "output_type": "display_data",
          "data": {
            "image/png": "[encoded data removed]",
            "text/plain": [
              "<Figure size 720x504 with 1 Axes>"
            ]
          },
          "metadata": {
            "needs_background": "light"
          }
        }
      ]
    },
    {
      "cell_type": "code",
      "metadata": {
        "colab": {
          "base_uri": "https://localhost:8080/",
          "height": 515
        },
        "id": "YTZ6NX9ynrZ-",
        "outputId": "9c4acb1f-fc88-43ef-dd1e-077e07b605c3"
      },
      "source": [
        "fig, ax = plt.subplots(figsize =(10, 7))\n",
        "ax.hist([val_5[val_5['final_result_t5']==True]['diff_t5'],val_5[val_5['final_result_t5']==False]['diff_t5']],\n",
        "        label = ['Right Prediction', 'Wrong Prediction'],\n",
        "        color=['g','r'],\n",
        "        alpha=0.5)\n",
        "plt.legend(loc='upper right')\n",
        "\n",
        "plt.title('Difference between 2 T5 Simiarity Scores by right | wrong prediction')\n",
        "plt.xlabel('score')\n",
        "plt.ylabel('counts')\n",
        " \n",
        "# Show plot\n",
        "plt.show()"
      ],
      "execution_count": null,
      "outputs": [
        {
          "output_type": "stream",
          "name": "stderr",
          "text": [
            "/usr/local/lib/python3.7/dist-packages/numpy/core/_asarray.py:83: VisibleDeprecationWarning: Creating an ndarray from ragged nested sequences (which is a list-or-tuple of lists-or-tuples-or ndarrays with different lengths or shapes) is deprecated. If you meant to do this, you must specify 'dtype=object' when creating the ndarray\n",
            "  return array(a, dtype, copy=False, order=order)\n"
          ]
        },
        {
          "output_type": "display_data",
          "data": {
            "image/png": "[encoded data removed]",
            "text/plain": [
              "<Figure size 720x504 with 1 Axes>"
            ]
          },
          "metadata": {
            "needs_background": "light"
          }
        }
      ]
    },
    {
      "cell_type": "code",
      "metadata": {
        "colab": {
          "base_uri": "https://localhost:8080/"
        },
        "id": "pO8J0D_JnuhX",
        "outputId": "a3864aea-145c-468c-dcc1-4da29b46d3ea"
      },
      "source": [
        "wrong_set_t5 = val_5[val_5['final_result_t5']==False]\n",
        "len(wrong_set_t5[wrong_set_t5['diff_t5'] == 0])"
      ],
      "execution_count": null,
      "outputs": [
        {
          "output_type": "execute_result",
          "data": {
            "text/plain": [
              "945"
            ]
          },
          "metadata": {},
          "execution_count": 40
        }
      ]
    },
    {
      "cell_type": "code",
      "metadata": {
        "colab": {
          "base_uri": "https://localhost:8080/"
        },
        "id": "x-O5ZgsbnxJl",
        "outputId": "c28bcb13-aa08-4aae-b3ab-eed1df13854f"
      },
      "source": [
        "len(wrong_set_t5)"
      ],
      "execution_count": null,
      "outputs": [
        {
          "output_type": "execute_result",
          "data": {
            "text/plain": [
              "2267"
            ]
          },
          "metadata": {},
          "execution_count": 41
        }
      ]
    },
    {
      "cell_type": "code",
      "metadata": {
        "colab": {
          "base_uri": "https://localhost:8080/"
        },
        "id": "l8cythXNnymN",
        "outputId": "33c46116-4b8b-48d6-c034-c6b3717e0780"
      },
      "source": [
        "len(wrong_set_t5[wrong_set_t5['diff_t5'] == 0])/len(wrong_set_t5)"
      ],
      "execution_count": null,
      "outputs": [
        {
          "output_type": "execute_result",
          "data": {
            "text/plain": [
              "0.4168504631671813"
            ]
          },
          "metadata": {},
          "execution_count": 42
        }
      ]
    },
    {
      "cell_type": "markdown",
      "metadata": {
        "id": "tDURK1fYzzlU"
      },
      "source": [
        "Among the wrong prediction cases, 42% of them have the same T5 similarity score. It proves again that adding 5 outputs did not really help in that perspectives. It is also the reason why we introduce the Simi-Senti scores, which compares T5 similarity scores first. If they are the same, we use the USE scores, and then add weighted sentiment scores. Experiments showed 6.6% accuracy improvement for val set. "
      ]
    }
  ]
}